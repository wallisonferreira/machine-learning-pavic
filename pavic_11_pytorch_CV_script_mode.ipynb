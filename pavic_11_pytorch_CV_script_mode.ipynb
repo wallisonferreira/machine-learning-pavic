{
  "nbformat": 4,
  "nbformat_minor": 0,
  "metadata": {
    "colab": {
      "provenance": [],
      "gpuType": "T4",
      "include_colab_link": true
    },
    "kernelspec": {
      "name": "python3",
      "display_name": "Python 3"
    },
    "language_info": {
      "name": "python"
    },
    "accelerator": "GPU"
  },
  "cells": [
    {
      "cell_type": "markdown",
      "metadata": {
        "id": "view-in-github",
        "colab_type": "text"
      },
      "source": [
        "<a href=\"https://colab.research.google.com/github/wallisonferreira/machine-learning-pavic/blob/main/pavic_11_pytorch_CV_script_mode.ipynb\" target=\"_parent\"><img src=\"https://colab.research.google.com/assets/colab-badge.svg\" alt=\"Open In Colab\"/></a>"
      ]
    },
    {
      "cell_type": "markdown",
      "source": [
        "# Trabalhando com datasets customizados"
      ],
      "metadata": {
        "id": "jDTVQJJARNBJ"
      }
    },
    {
      "cell_type": "markdown",
      "source": [
        "## 0 Importar bibliotecas"
      ],
      "metadata": {
        "id": "gNuuCXJwRSL6"
      }
    },
    {
      "cell_type": "code",
      "source": [
        "import os\n",
        "os.makedirs(\"going_modular\", exist_ok=True)"
      ],
      "metadata": {
        "id": "CM4o-95XpqEh"
      },
      "execution_count": 2,
      "outputs": []
    },
    {
      "cell_type": "code",
      "execution_count": null,
      "metadata": {
        "colab": {
          "base_uri": "https://localhost:8080/",
          "height": 35
        },
        "id": "6YUAewsnKjqC",
        "outputId": "e5a03887-d944-40d8-a691-306f6cc97982"
      },
      "outputs": [
        {
          "output_type": "execute_result",
          "data": {
            "text/plain": [
              "'2.1.0+cu118'"
            ],
            "application/vnd.google.colaboratory.intrinsic+json": {
              "type": "string"
            }
          },
          "metadata": {},
          "execution_count": 1
        }
      ],
      "source": [
        "import torch\n",
        "from torch import nn\n",
        "\n",
        "torch.__version__"
      ]
    },
    {
      "cell_type": "code",
      "source": [
        "device = \"cuda\" if torch.cuda.is_available() else \"cpu\"\n",
        "device"
      ],
      "metadata": {
        "colab": {
          "base_uri": "https://localhost:8080/",
          "height": 35
        },
        "id": "1n9feDoCRprj",
        "outputId": "cef2ed8c-1dc5-4953-f0d0-dcfb6a48deb9"
      },
      "execution_count": null,
      "outputs": [
        {
          "output_type": "execute_result",
          "data": {
            "text/plain": [
              "'cuda'"
            ],
            "application/vnd.google.colaboratory.intrinsic+json": {
              "type": "string"
            }
          },
          "metadata": {},
          "execution_count": 2
        }
      ]
    },
    {
      "cell_type": "markdown",
      "source": [
        "## 1 Aquisição de dados"
      ],
      "metadata": {
        "id": "3aWZ-sS2SIa4"
      }
    },
    {
      "cell_type": "code",
      "source": [
        "import requests\n",
        "import zipfile\n",
        "from pathlib import Path\n",
        "\n",
        "data_path = Path(\"data/\")\n",
        "image_path = data_path / \"pizza_steak_sushi\"\n",
        "\n",
        "if image_path.is_dir():\n",
        "    print(f\"{image_path} directory exists.\")\n",
        "else:\n",
        "    image_path.mkdir(parents=True, exist_ok=True)\n",
        "\n",
        "    with open(data_path / \"pizza_steak_sushi.zip\", \"wb\") as f:\n",
        "        request = requests.get(\"https://github.com/mafaldasalomao/pavic_treinamento_ml/raw/main/data/pizza_steak_sushi.zip\")\n",
        "        f.write(request.content)\n",
        "\n",
        "    with zipfile.ZipFile(data_path / \"pizza_steak_sushi.zip\", \"r\") as zip_ref:\n",
        "        zip_ref.extractall(image_path)\n"
      ],
      "metadata": {
        "id": "hm_weRCDSHxq"
      },
      "execution_count": 3,
      "outputs": []
    },
    {
      "cell_type": "code",
      "source": [
        "train_dir = image_path / \"train\" # data/pizza_steak_sushi/train\n",
        "test_dir = image_path / \"test\"\n",
        "train_dir, test_dir"
      ],
      "metadata": {
        "colab": {
          "base_uri": "https://localhost:8080/"
        },
        "id": "tD4axmEJWHWK",
        "outputId": "3bedf0fe-e785-402d-d69b-da13bf7f1832"
      },
      "execution_count": 4,
      "outputs": [
        {
          "output_type": "execute_result",
          "data": {
            "text/plain": [
              "(PosixPath('data/pizza_steak_sushi/train'),\n",
              " PosixPath('data/pizza_steak_sushi/test'))"
            ]
          },
          "metadata": {},
          "execution_count": 4
        }
      ]
    },
    {
      "cell_type": "markdown",
      "source": [
        "## 2 Load to Tensors"
      ],
      "metadata": {
        "id": "bKaF9RMbbqr1"
      }
    },
    {
      "cell_type": "code",
      "source": [
        "%%writefile going_modular/data_setup.py\n",
        "import os\n",
        "from torch.utils.data import DataLoader\n",
        "from torchvision import datasets, transforms\n",
        "\n",
        "NUM_WORKERS = os.cpu_count()\n",
        "\n",
        "def create_dataloaders(\n",
        "    train_dir: str,\n",
        "    test_dir: str,\n",
        "    transform: transforms.Compose,\n",
        "    batch_size: int,\n",
        "    num_workers: int=NUM_WORKERS\n",
        "  ):\n",
        "  #ImageFolder\n",
        "    train_data = datasets.ImageFolder(root=train_dir, transform=transform)\n",
        "    test_data = datasets.ImageFolder(root=test_dir, transform=transform)\n",
        "    # acessando nome das classes\n",
        "    #get class\n",
        "    class_names = train_data.classes\n",
        "\n",
        "    # carregar os dados no dataloader\n",
        "    train_dataloader = DataLoader(dataset=train_data,\n",
        "                                  batch_size=batch_size,\n",
        "                                  num_workers=num_workers,\n",
        "                                  shuffle=True,\n",
        "                                  pin_memory=True)\n",
        "\n",
        "    test_dataloader = DataLoader(dataset=test_data,\n",
        "                                 batch_size=batch_size,\n",
        "                                 num_workers=num_workers,\n",
        "                                 shuffle=False,\n",
        "                                 pin_memory=True)\n",
        "\n",
        "    return train_dataloader, test_dataloader, class_names"
      ],
      "metadata": {
        "id": "mnMWl70YbqdB",
        "colab": {
          "base_uri": "https://localhost:8080/"
        },
        "outputId": "9a78decd-3f9f-4cbc-a826-7907b3c6ecb7"
      },
      "execution_count": 21,
      "outputs": [
        {
          "output_type": "stream",
          "name": "stdout",
          "text": [
            "Overwriting going_modular/data_setup.py\n"
          ]
        }
      ]
    },
    {
      "cell_type": "markdown",
      "source": [
        "## 4 Criar modelo - TinyVGG"
      ],
      "metadata": {
        "id": "I-LQ15WG2bKT"
      }
    },
    {
      "cell_type": "code",
      "source": [
        "%%writefile going_modular/model_builder.py\n",
        "\n",
        "import torch\n",
        "from torch import nn\n",
        "\n",
        "class TinyVGG(nn.Module):\n",
        "  def __init__(self, input_shape: int, hidden_units: int, output_shape: int):\n",
        "    super().__init__()\n",
        "    self.conv_block_1 = nn.Sequential( # 3, 64,64\n",
        "        nn.Conv2d(in_channels=input_shape,\n",
        "                  out_channels=hidden_units,\n",
        "                  kernel_size=3,\n",
        "                  stride=1,\n",
        "                  padding=1),\n",
        "        nn.ReLU(),\n",
        "        nn.Conv2d(in_channels=hidden_units,\n",
        "                  out_channels=hidden_units,\n",
        "                  kernel_size=3,\n",
        "                  stride=1,\n",
        "                  padding=1),\n",
        "        nn.ReLU(),\n",
        "        nn.MaxPool2d(kernel_size=2, stride=2) # 10, 32, 32\n",
        "    )\n",
        "    self.conv_block_2 = nn.Sequential(# 10, 32, 32\n",
        "        nn.Conv2d(hidden_units, hidden_units, kernel_size=3, padding=1),\n",
        "        nn.ReLU(),\n",
        "        nn.Conv2d(hidden_units, hidden_units, kernel_size=3, padding=1),\n",
        "        nn.ReLU(),\n",
        "        nn.MaxPool2d(2) # 10, 16, 16\n",
        "    )\n",
        "    self.classiffier = nn.Sequential(\n",
        "        nn.Flatten(),\n",
        "        nn.Linear(in_features=hidden_units*16*16,\n",
        "                  out_features=output_shape) #2560->40960->2.621.440\n",
        "    )\n",
        "  def forward(self, x):  # 3, 64,64\n",
        "    x = self.conv_block_1(x)  # 10, 32,32\n",
        "    x = self.conv_block_2(x)  # 10, 16,16\n",
        "    x = self.classiffier(x)   # 3\n",
        "    return x"
      ],
      "metadata": {
        "id": "DP-syRIp2giv",
        "colab": {
          "base_uri": "https://localhost:8080/"
        },
        "outputId": "b23ddd3e-1641-4f22-cbad-8b3773477517"
      },
      "execution_count": 15,
      "outputs": [
        {
          "output_type": "stream",
          "name": "stdout",
          "text": [
            "Overwriting going_modular/model_builder.py\n"
          ]
        }
      ]
    },
    {
      "cell_type": "code",
      "source": [
        "try:\n",
        "  import torchinfo\n",
        "except:\n",
        "  !pip install torchinfo\n",
        "  import torchinfo\n",
        "\n",
        "from torchinfo import summary\n",
        "\n",
        "summary(model_0, input_size=[1, 3, 64, 64])\n"
      ],
      "metadata": {
        "id": "jFgPkQvO6n-Q"
      },
      "execution_count": null,
      "outputs": []
    },
    {
      "cell_type": "markdown",
      "source": [
        "## 5 Treinar o modelo Tiny"
      ],
      "metadata": {
        "id": "IM4ZhEZKXX76"
      }
    },
    {
      "cell_type": "code",
      "source": [
        "%%writefile going_modular/engine.py\n",
        "from tqdm.auto import tqdm\n",
        "import torch\n",
        "def train_step(model: torch.nn.Module,\n",
        "               dataloader: torch.utils.data.DataLoader,\n",
        "               loss_fn: torch.nn.Module,\n",
        "               optimizer: torch.optim.Optimizer,\n",
        "               device: torch.device):\n",
        "  model.train()\n",
        "\n",
        "  train_loss, train_acc = 0, 0\n",
        "\n",
        "  for batch, (X, y) in enumerate(dataloader):\n",
        "    X, y = X.to(device), y.to(device)\n",
        "    #1 forward pass\n",
        "    y_pred = model(X)\n",
        "    #2 calcular a perda acumulativa\n",
        "    loss = loss_fn(y_pred, y)\n",
        "    train_loss += loss.item()\n",
        "    #3 zero grad\n",
        "    optimizer.zero_grad()\n",
        "    #4 loss backward\n",
        "    loss.backward()\n",
        "    #5 optimizer step\n",
        "    optimizer.step()\n",
        "    y_pred_class = torch.argmax(torch.softmax(y_pred, dim=1), dim=1)\n",
        "    train_acc += (y_pred_class == y).sum().item() / len(y_pred)\n",
        "\n",
        "  # calcular a média do erro e acurácia\n",
        "  train_loss = train_loss / len(dataloader)\n",
        "  train_acc = train_acc / len(dataloader)\n",
        "  return train_loss, train_acc\n",
        "\n",
        "def test_step(model: torch.nn.Module,\n",
        "              dataloader: torch.utils.data.DataLoader,\n",
        "              loss_fn: torch.nn.Module,\n",
        "              device: torch.device):\n",
        "  model.eval()\n",
        "\n",
        "  test_loss, test_acc = 0, 0\n",
        "  with torch.inference_mode():\n",
        "    for batch, (X, y) in enumerate(dataloader):\n",
        "      X, y = X.to(device), y.to(device)\n",
        "      #1forward pass\n",
        "      test_pred_logits = model(X)\n",
        "      #2 calcular o erro cumulativo\n",
        "      loss = loss_fn(test_pred_logits, y)\n",
        "      test_loss += loss.item()\n",
        "\n",
        "      test_pred_labels = test_pred_logits.argmax(dim=1)\n",
        "      test_acc += ((test_pred_labels == y)).sum().item()/len(test_pred_labels)\n",
        "\n",
        "  test_loss = test_loss / len(dataloader)\n",
        "  test_acc = test_acc / len(dataloader)\n",
        "  return test_loss, test_acc\n",
        "\n",
        "def train(model: torch.nn.Module,\n",
        "          train_dataloader: torch.utils.data.DataLoader,\n",
        "          test_dataloader: torch.utils.data.DataLoader,\n",
        "          optimizer: torch.optim.Optimizer,\n",
        "          device: torch.device,\n",
        "          loss_fn: torch.nn.Module = torch.nn.CrossEntropyLoss(),\n",
        "          epochs: int = 5):\n",
        "  # criar um dicionario vazio para salvar os dados de treinamento\n",
        "  results = {\"train_loss\": [],\n",
        "             \"train_acc\": [],\n",
        "             \"test_loss\": [],\n",
        "             \"test_acc\": []\n",
        "  }\n",
        "  for epoch in tqdm(range(epochs)):\n",
        "    train_loss, train_acc = train_step(model=model,\n",
        "                                       dataloader=train_dataloader,\n",
        "                                       loss_fn=loss_fn,\n",
        "                                       optimizer=optimizer,\n",
        "                                       device=device)\n",
        "    test_loss, test_acc = test_step(model=model,\n",
        "                                    dataloader=test_dataloader,\n",
        "                                    loss_fn=loss_fn,\n",
        "                                    device=device)\n",
        "    #visualizar o comportamento da rede\n",
        "    print(\n",
        "        f\"Epoch: {epoch + 1} | \"\n",
        "        f\"Train_loss: {train_loss:.4f} | \"\n",
        "        f\"Train_acc: {train_acc:.4f} | \"\n",
        "        f\"Test_loss: {test_loss:.4f} | \"\n",
        "        f\"Test_acc: {test_acc:.4f}\"\n",
        "    )\n",
        "    #atualizar nosso dicionario com as metricas\n",
        "    results[\"train_loss\"].append(train_loss)\n",
        "    results[\"train_acc\"].append(train_acc)\n",
        "    results[\"test_loss\"].append(test_loss)\n",
        "    results[\"test_acc\"].append(test_acc)\n",
        "\n",
        "  return results"
      ],
      "metadata": {
        "id": "9LhSq_XLXWd7",
        "colab": {
          "base_uri": "https://localhost:8080/"
        },
        "outputId": "3b3797fc-c28c-49c4-c690-bf2a799a34d4"
      },
      "execution_count": 33,
      "outputs": [
        {
          "output_type": "stream",
          "name": "stdout",
          "text": [
            "Overwriting going_modular/engine.py\n"
          ]
        }
      ]
    },
    {
      "cell_type": "code",
      "source": [
        "%%writefile going_modular/utils.py\n",
        "\n",
        "from pathlib import Path\n",
        "import torch\n",
        "\n",
        "def save_model(model: torch.nn.Module,\n",
        "               target_dir: str,\n",
        "               model_name: str):\n",
        "\n",
        "    target_dir_path = Path(target_dir)\n",
        "    target_dir_path.mkdir(parents=True,\n",
        "                          exist_ok=True)\n",
        "\n",
        "    #save model\n",
        "    assert model_name.endswith(\".pth\") or model_name.endswith(\".pt\"), \"A extensão do modelo deve ser .pt ou .pth\"\n",
        "    model_save_path = target_dir_path / model_name\n",
        "\n",
        "    print(f\"[INFO] Salvando o modelo em: {model_save_path}\")\n",
        "    torch.save(obj=model.state_dict(),\n",
        "               f=model_save_path)"
      ],
      "metadata": {
        "colab": {
          "base_uri": "https://localhost:8080/"
        },
        "id": "XYYLUn1J2_-K",
        "outputId": "70ea0e2e-2727-4cdf-b752-9911491e1bee"
      },
      "execution_count": 19,
      "outputs": [
        {
          "output_type": "stream",
          "name": "stdout",
          "text": [
            "Writing going_modular/utils.py\n"
          ]
        }
      ]
    },
    {
      "cell_type": "code",
      "source": [
        "NUM_EPOCHS = 50\n",
        "model_0 = TinyVGG(input_shape=3,\n",
        "                hidden_units=10,\n",
        "                output_shape=len(train_data.classes)).to(device)\n",
        "\n",
        "loss_fn = nn.CrossEntropyLoss()\n",
        "optimizer = torch.optim.Adam(params=model_0.parameters(), lr=0.001)\n",
        "\n",
        "from timeit import default_timer as timer\n",
        "\n",
        "start_time = timer()\n",
        "model_0_results = train(model=model_0,\n",
        "                        train_dataloader=train_dataloader_custom,\n",
        "                        test_dataloader=test_dataloader_custom,\n",
        "                        optimizer=optimizer,\n",
        "                        loss_fn=loss_fn,\n",
        "                        epochs=NUM_EPOCHS)\n",
        "end_time = timer()\n",
        "print(f\"Tempo de treinamento: {end_time-start_time:.3f} segundos.\")"
      ],
      "metadata": {
        "id": "MqESdi2ngtwI"
      },
      "execution_count": null,
      "outputs": []
    },
    {
      "cell_type": "code",
      "source": [
        "%%writefile going_modular/train.py\n",
        "import os\n",
        "import torch\n",
        "from torchvision import transforms\n",
        "import data_setup, engine, model_builder, utils\n",
        "\n",
        "#Hiperparametros\n",
        "NUM_EPOCHS    = 25\n",
        "BATCH_SIZE    = 32\n",
        "HIDDEN_UNITS  = 10\n",
        "LEARNING_RATE = 0.001\n",
        "\n",
        "#set noss diretorios de treino e teste\n",
        "train_dir = \"data/pizza_steak_sushi/train\"\n",
        "test_dir  = \"data/pizza_steak_sushi/test\"\n",
        "\n",
        "#set device\n",
        "device = \"cuda\" if torch.cuda.is_available() else \"cpu\"\n",
        "\n",
        "#criar o transforms para preprocessar os dados\n",
        "data_transform = transforms.Compose([\n",
        "    transforms.Resize(size=(64, 64)),\n",
        "    transforms.ToTensor()\n",
        "])\n",
        "#Criar os dataloaders\n",
        "train_dataloader, test_dataloader, class_names = data_setup.create_dataloaders(\n",
        "    train_dir=train_dir,\n",
        "    test_dir=test_dir,\n",
        "    transform=data_transform,\n",
        "    batch_size=BATCH_SIZE\n",
        ")\n",
        "\n",
        "model = model_builder.TinyVGG(\n",
        "    input_shape=3,\n",
        "    hidden_units=HIDDEN_UNITS,\n",
        "    output_shape=len(class_names)\n",
        ").to(device)\n",
        "\n",
        "#set loss e optim\n",
        "loss_fn = torch.nn.CrossEntropyLoss()\n",
        "optimizer = torch.optim.Adam(model.parameters(),\n",
        "                             lr=LEARNING_RATE)\n",
        "#Treinamento....\n",
        "engine.train(model=model,\n",
        "             train_dataloader=train_dataloader,\n",
        "             test_dataloader=test_dataloader,\n",
        "             loss_fn=loss_fn,\n",
        "             optimizer=optimizer,\n",
        "             epochs=NUM_EPOCHS,\n",
        "             device=device)\n",
        "\n",
        "#salavar o modelo\n",
        "utils.save_model(model=model,\n",
        "                 target_dir=\"models\",\n",
        "                 model_name=\"pavic_model_script_tinyVGG.pth\")"
      ],
      "metadata": {
        "colab": {
          "base_uri": "https://localhost:8080/"
        },
        "id": "N_8X4Rs16JFj",
        "outputId": "7d092dbb-b56c-4a2a-c9b1-f46256b1f682"
      },
      "execution_count": 35,
      "outputs": [
        {
          "output_type": "stream",
          "name": "stdout",
          "text": [
            "Overwriting going_modular/train.py\n"
          ]
        }
      ]
    },
    {
      "cell_type": "code",
      "source": [
        "!python going_modular/train.py"
      ],
      "metadata": {
        "colab": {
          "base_uri": "https://localhost:8080/"
        },
        "id": "mVis6DIG_fts",
        "outputId": "c32caf31-2dbf-42a0-8985-b01acacd9904"
      },
      "execution_count": 36,
      "outputs": [
        {
          "output_type": "stream",
          "name": "stdout",
          "text": [
            "  0% 0/25 [00:00<?, ?it/s]Epoch: 1 | Train_loss: 1.1049 | Train_acc: 0.2930 | Test_loss: 1.1128 | Test_acc: 0.2604\n",
            "  4% 1/25 [00:09<03:36,  9.01s/it]Epoch: 2 | Train_loss: 1.1077 | Train_acc: 0.3008 | Test_loss: 1.1158 | Test_acc: 0.1979\n",
            "  8% 2/25 [00:10<01:41,  4.42s/it]Epoch: 3 | Train_loss: 1.0977 | Train_acc: 0.2891 | Test_loss: 1.0958 | Test_acc: 0.2983\n",
            " 12% 3/25 [00:11<01:02,  2.84s/it]Epoch: 4 | Train_loss: 1.1002 | Train_acc: 0.3633 | Test_loss: 1.0988 | Test_acc: 0.3722\n",
            " 16% 4/25 [00:12<00:43,  2.09s/it]Epoch: 5 | Train_loss: 1.1019 | Train_acc: 0.3438 | Test_loss: 1.1336 | Test_acc: 0.2604\n",
            " 20% 5/25 [00:13<00:33,  1.68s/it]Epoch: 6 | Train_loss: 1.0905 | Train_acc: 0.3438 | Test_loss: 1.1248 | Test_acc: 0.3021\n",
            " 24% 6/25 [00:14<00:27,  1.43s/it]Epoch: 7 | Train_loss: 1.0587 | Train_acc: 0.5469 | Test_loss: 1.1541 | Test_acc: 0.2917\n",
            " 28% 7/25 [00:14<00:22,  1.27s/it]Epoch: 8 | Train_loss: 1.1060 | Train_acc: 0.3438 | Test_loss: 1.1271 | Test_acc: 0.2917\n",
            " 32% 8/25 [00:15<00:19,  1.17s/it]Epoch: 9 | Train_loss: 0.9932 | Train_acc: 0.5547 | Test_loss: 1.0964 | Test_acc: 0.3106\n",
            " 36% 9/25 [00:16<00:17,  1.10s/it]Epoch: 10 | Train_loss: 1.0445 | Train_acc: 0.3828 | Test_loss: 1.0230 | Test_acc: 0.4744\n",
            " 40% 10/25 [00:17<00:16,  1.07s/it]Epoch: 11 | Train_loss: 0.9383 | Train_acc: 0.4688 | Test_loss: 0.9796 | Test_acc: 0.4924\n",
            " 44% 11/25 [00:18<00:14,  1.03s/it]Epoch: 12 | Train_loss: 0.9866 | Train_acc: 0.4453 | Test_loss: 0.9771 | Test_acc: 0.5133\n",
            " 48% 12/25 [00:19<00:13,  1.00s/it]Epoch: 13 | Train_loss: 0.8900 | Train_acc: 0.5820 | Test_loss: 0.9735 | Test_acc: 0.4934\n",
            " 52% 13/25 [00:21<00:14,  1.17s/it]Epoch: 14 | Train_loss: 0.8946 | Train_acc: 0.5117 | Test_loss: 1.0695 | Test_acc: 0.4025\n",
            " 56% 14/25 [00:22<00:14,  1.28s/it]Epoch: 15 | Train_loss: 0.8434 | Train_acc: 0.6406 | Test_loss: 1.1977 | Test_acc: 0.4347\n",
            " 60% 15/25 [00:23<00:11,  1.18s/it]Epoch: 16 | Train_loss: 0.7442 | Train_acc: 0.6602 | Test_loss: 1.0677 | Test_acc: 0.5152\n",
            " 64% 16/25 [00:24<00:10,  1.11s/it]Epoch: 17 | Train_loss: 0.9865 | Train_acc: 0.5586 | Test_loss: 1.0418 | Test_acc: 0.5152\n",
            " 68% 17/25 [00:25<00:08,  1.08s/it]Epoch: 18 | Train_loss: 0.8928 | Train_acc: 0.6211 | Test_loss: 1.0732 | Test_acc: 0.4025\n",
            " 72% 18/25 [00:26<00:07,  1.05s/it]Epoch: 19 | Train_loss: 0.8066 | Train_acc: 0.7109 | Test_loss: 1.0290 | Test_acc: 0.4432\n",
            " 76% 19/25 [00:27<00:06,  1.02s/it]Epoch: 20 | Train_loss: 0.8838 | Train_acc: 0.6250 | Test_loss: 0.9858 | Test_acc: 0.4527\n",
            " 80% 20/25 [00:28<00:04,  1.01it/s]Epoch: 21 | Train_loss: 0.7888 | Train_acc: 0.6641 | Test_loss: 1.0012 | Test_acc: 0.4536\n",
            " 84% 21/25 [00:29<00:03,  1.03it/s]Epoch: 22 | Train_loss: 0.7694 | Train_acc: 0.6055 | Test_loss: 1.1702 | Test_acc: 0.4545\n",
            " 88% 22/25 [00:30<00:02,  1.03it/s]Epoch: 23 | Train_loss: 0.7138 | Train_acc: 0.7070 | Test_loss: 1.0102 | Test_acc: 0.4432\n",
            " 92% 23/25 [00:31<00:01,  1.03it/s]Epoch: 24 | Train_loss: 0.7201 | Train_acc: 0.6992 | Test_loss: 1.1439 | Test_acc: 0.4233\n",
            " 96% 24/25 [00:32<00:00,  1.04it/s]Epoch: 25 | Train_loss: 0.7215 | Train_acc: 0.7500 | Test_loss: 1.1298 | Test_acc: 0.4545\n",
            "100% 25/25 [00:33<00:00,  1.35s/it]\n",
            "[INFO] Salvando o modelo em: models/pavic_model_script_tinyVGG.pth\n"
          ]
        }
      ]
    },
    {
      "cell_type": "code",
      "source": [
        "!zip -r pavic.zip /content/ -x */content/sample_data/*"
      ],
      "metadata": {
        "colab": {
          "base_uri": "https://localhost:8080/"
        },
        "id": "FgWiilayDw-h",
        "outputId": "22f05d21-4589-4bae-e55e-297c7141698f"
      },
      "execution_count": 37,
      "outputs": [
        {
          "output_type": "stream",
          "name": "stdout",
          "text": [
            "  adding: content/ (stored 0%)\n",
            "  adding: content/.config/ (stored 0%)\n",
            "  adding: content/.config/config_sentinel (stored 0%)\n",
            "  adding: content/.config/default_configs.db (deflated 98%)\n",
            "  adding: content/.config/active_config (stored 0%)\n",
            "  adding: content/.config/.last_update_check.json (deflated 22%)\n",
            "  adding: content/.config/configurations/ (stored 0%)\n",
            "  adding: content/.config/configurations/config_default (deflated 15%)\n",
            "  adding: content/.config/.last_opt_in_prompt.yaml (stored 0%)\n",
            "  adding: content/.config/.last_survey_prompt.yaml (stored 0%)\n",
            "  adding: content/.config/gce (stored 0%)\n",
            "  adding: content/.config/logs/ (stored 0%)\n",
            "  adding: content/.config/logs/2023.12.04/ (stored 0%)\n",
            "  adding: content/.config/logs/2023.12.04/14.27.00.107426.log (deflated 56%)\n",
            "  adding: content/.config/logs/2023.12.04/14.23.59.638040.log (deflated 86%)\n",
            "  adding: content/.config/logs/2023.12.04/14.26.48.840108.log (deflated 58%)\n",
            "  adding: content/.config/logs/2023.12.04/14.20.49.627769.log (deflated 91%)\n",
            "  adding: content/.config/logs/2023.12.04/14.23.49.652015.log (deflated 58%)\n",
            "  adding: content/.config/logs/2023.12.04/14.26.59.279282.log (deflated 57%)\n",
            "  adding: content/models/ (stored 0%)\n",
            "  adding: content/models/pavic_model_script_tinyVGG.pth (deflated 12%)\n",
            "  adding: content/data/ (stored 0%)\n",
            "  adding: content/data/pizza_steak_sushi/ (stored 0%)\n",
            "  adding: content/data/pizza_steak_sushi/test/ (stored 0%)\n",
            "  adding: content/data/pizza_steak_sushi/test/sushi/ (stored 0%)\n",
            "  adding: content/data/pizza_steak_sushi/test/sushi/684266.jpg (deflated 0%)\n",
            "  adding: content/data/pizza_steak_sushi/test/sushi/2540511.jpg (deflated 0%)\n",
            "  adding: content/data/pizza_steak_sushi/test/sushi/1434806.jpg (deflated 1%)\n",
            "  adding: content/data/pizza_steak_sushi/test/sushi/3806282.jpg (deflated 1%)\n",
            "  adding: content/data/pizza_steak_sushi/test/sushi/1172255.jpg (deflated 0%)\n",
            "  adding: content/data/pizza_steak_sushi/test/sushi/46797.jpg (deflated 14%)\n",
            "  adding: content/data/pizza_steak_sushi/test/sushi/2521706.jpg (deflated 0%)\n",
            "  adding: content/data/pizza_steak_sushi/test/sushi/2741434.jpg (deflated 0%)\n",
            "  adding: content/data/pizza_steak_sushi/test/sushi/988559.jpg (deflated 9%)\n",
            "  adding: content/data/pizza_steak_sushi/test/sushi/2715127.jpg (deflated 0%)\n",
            "  adding: content/data/pizza_steak_sushi/test/sushi/1245193.jpg (deflated 4%)\n",
            "  adding: content/data/pizza_steak_sushi/test/sushi/1742201.jpg (deflated 1%)\n",
            "  adding: content/data/pizza_steak_sushi/test/sushi/479711.jpg (deflated 0%)\n",
            "  adding: content/data/pizza_steak_sushi/test/sushi/719108.jpg (deflated 0%)\n",
            "  adding: content/data/pizza_steak_sushi/test/sushi/2394442.jpg (deflated 0%)\n",
            "  adding: content/data/pizza_steak_sushi/test/sushi/1600999.jpg (deflated 9%)\n",
            "  adding: content/data/pizza_steak_sushi/test/sushi/3837522.jpg (deflated 0%)\n",
            "  adding: content/data/pizza_steak_sushi/test/sushi/858157.jpg (deflated 0%)\n",
            "  adding: content/data/pizza_steak_sushi/test/sushi/1680893.jpg (deflated 0%)\n",
            "  adding: content/data/pizza_steak_sushi/test/sushi/3177743.jpg (deflated 0%)\n",
            "  adding: content/data/pizza_steak_sushi/test/sushi/499605.jpg (deflated 0%)\n",
            "  adding: content/data/pizza_steak_sushi/test/sushi/207578.jpg (deflated 0%)\n",
            "  adding: content/data/pizza_steak_sushi/test/sushi/175783.jpg (deflated 0%)\n",
            "  adding: content/data/pizza_steak_sushi/test/sushi/2276986.jpg (deflated 1%)\n",
            "  adding: content/data/pizza_steak_sushi/test/sushi/887831.jpg (deflated 1%)\n",
            "  adding: content/data/pizza_steak_sushi/test/sushi/3196729.jpg (deflated 0%)\n",
            "  adding: content/data/pizza_steak_sushi/test/sushi/1987407.jpg (deflated 0%)\n",
            "  adding: content/data/pizza_steak_sushi/test/sushi/2190404.jpg (deflated 0%)\n",
            "  adding: content/data/pizza_steak_sushi/test/sushi/1230335.jpg (deflated 0%)\n",
            "  adding: content/data/pizza_steak_sushi/test/sushi/2385731.jpg (deflated 1%)\n",
            "  adding: content/data/pizza_steak_sushi/test/sushi/343036.jpg (deflated 0%)\n",
            "  adding: content/data/pizza_steak_sushi/test/pizza/ (stored 0%)\n",
            "  adding: content/data/pizza_steak_sushi/test/pizza/2218680.jpg (deflated 0%)\n",
            "  adding: content/data/pizza_steak_sushi/test/pizza/194643.jpg (deflated 0%)\n",
            "  adding: content/data/pizza_steak_sushi/test/pizza/2111981.jpg (deflated 1%)\n",
            "  adding: content/data/pizza_steak_sushi/test/pizza/398345.jpg (deflated 26%)\n",
            "  adding: content/data/pizza_steak_sushi/test/pizza/344397.jpg (deflated 0%)\n",
            "  adding: content/data/pizza_steak_sushi/test/pizza/2871261.jpg (deflated 1%)\n",
            "  adding: content/data/pizza_steak_sushi/test/pizza/3475871.jpg (deflated 1%)\n",
            "  adding: content/data/pizza_steak_sushi/test/pizza/1687143.jpg (deflated 0%)\n",
            "  adding: content/data/pizza_steak_sushi/test/pizza/195160.jpg (deflated 0%)\n",
            "  adding: content/data/pizza_steak_sushi/test/pizza/1503858.jpg (deflated 0%)\n",
            "  adding: content/data/pizza_steak_sushi/test/pizza/971934.jpg (deflated 0%)\n",
            "  adding: content/data/pizza_steak_sushi/test/pizza/2019408.jpg (deflated 0%)\n",
            "  adding: content/data/pizza_steak_sushi/test/pizza/309892.jpg (deflated 0%)\n",
            "  adding: content/data/pizza_steak_sushi/test/pizza/648055.jpg (deflated 0%)\n",
            "  adding: content/data/pizza_steak_sushi/test/pizza/2236338.jpg (deflated 1%)\n",
            "  adding: content/data/pizza_steak_sushi/test/pizza/2003290.jpg (deflated 22%)\n",
            "  adding: content/data/pizza_steak_sushi/test/pizza/2508636.jpg (deflated 1%)\n",
            "  adding: content/data/pizza_steak_sushi/test/pizza/3092704.jpg (deflated 0%)\n",
            "  adding: content/data/pizza_steak_sushi/test/pizza/416067.jpg (deflated 0%)\n",
            "  adding: content/data/pizza_steak_sushi/test/pizza/540882.jpg (deflated 1%)\n",
            "  adding: content/data/pizza_steak_sushi/test/pizza/714866.jpg (deflated 0%)\n",
            "  adding: content/data/pizza_steak_sushi/test/pizza/930553.jpg (deflated 0%)\n",
            "  adding: content/data/pizza_steak_sushi/test/pizza/1152100.jpg (deflated 0%)\n",
            "  adding: content/data/pizza_steak_sushi/test/pizza/2124579.jpg (deflated 0%)\n",
            "  adding: content/data/pizza_steak_sushi/test/pizza/1925494.jpg (deflated 1%)\n",
            "  adding: content/data/pizza_steak_sushi/test/steak/ (stored 0%)\n",
            "  adding: content/data/pizza_steak_sushi/test/steak/894825.jpg (deflated 0%)\n",
            "  adding: content/data/pizza_steak_sushi/test/steak/502076.jpg (deflated 0%)\n",
            "  adding: content/data/pizza_steak_sushi/test/steak/354513.jpg (deflated 0%)\n",
            "  adding: content/data/pizza_steak_sushi/test/steak/296375.jpg (deflated 0%)\n",
            "  adding: content/data/pizza_steak_sushi/test/steak/966174.jpg (deflated 1%)\n",
            "  adding: content/data/pizza_steak_sushi/test/steak/1882831.jpg (deflated 0%)\n",
            "  adding: content/data/pizza_steak_sushi/test/steak/3873283.jpg (deflated 1%)\n",
            "  adding: content/data/pizza_steak_sushi/test/steak/2117351.jpg (deflated 1%)\n",
            "  adding: content/data/pizza_steak_sushi/test/steak/27415.jpg (deflated 0%)\n",
            "  adding: content/data/pizza_steak_sushi/test/steak/1302563.jpg (deflated 1%)\n",
            "  adding: content/data/pizza_steak_sushi/test/steak/690177.jpg (deflated 2%)\n",
            "  adding: content/data/pizza_steak_sushi/test/steak/1868005.jpg (deflated 1%)\n",
            "  adding: content/data/pizza_steak_sushi/test/steak/1627703.jpg (deflated 1%)\n",
            "  adding: content/data/pizza_steak_sushi/test/steak/1016217.jpg (deflated 0%)\n",
            "  adding: content/data/pizza_steak_sushi/test/steak/100274.jpg (deflated 1%)\n",
            "  adding: content/data/pizza_steak_sushi/test/steak/673127.jpg (deflated 0%)\n",
            "  adding: content/data/pizza_steak_sushi/test/steak/1285886.jpg (deflated 0%)\n",
            "  adding: content/data/pizza_steak_sushi/test/steak/3424937.jpg (deflated 1%)\n",
            "  adding: content/data/pizza_steak_sushi/test/steak/2144308.jpg (deflated 0%)\n",
            "  adding: content/data/pizza_steak_sushi/train/ (stored 0%)\n",
            "  adding: content/data/pizza_steak_sushi/train/sushi/ (stored 0%)\n",
            "  adding: content/data/pizza_steak_sushi/train/sushi/773725.jpg (deflated 3%)\n",
            "  adding: content/data/pizza_steak_sushi/train/sushi/268990.jpg (deflated 0%)\n",
            "  adding: content/data/pizza_steak_sushi/train/sushi/2004525.jpg (deflated 1%)\n",
            "  adding: content/data/pizza_steak_sushi/train/sushi/3360207.jpg (deflated 13%)\n",
            "  adding: content/data/pizza_steak_sushi/train/sushi/3081701.jpg (deflated 1%)\n",
            "  adding: content/data/pizza_steak_sushi/train/sushi/1571146.jpg (deflated 0%)\n",
            "  adding: content/data/pizza_steak_sushi/train/sushi/170385.jpg (deflated 0%)\n",
            "  adding: content/data/pizza_steak_sushi/train/sushi/2720223.jpg (deflated 0%)\n",
            "  adding: content/data/pizza_steak_sushi/train/sushi/1070104.jpg (deflated 17%)\n",
            "  adding: content/data/pizza_steak_sushi/train/sushi/1129338.jpg (deflated 0%)\n",
            "  adding: content/data/pizza_steak_sushi/train/sushi/1214108.jpg (deflated 1%)\n",
            "  adding: content/data/pizza_steak_sushi/train/sushi/929471.jpg (deflated 0%)\n",
            "  adding: content/data/pizza_steak_sushi/train/sushi/3251688.jpg (deflated 1%)\n",
            "  adding: content/data/pizza_steak_sushi/train/sushi/14046.jpg (deflated 0%)\n",
            "  adding: content/data/pizza_steak_sushi/train/sushi/2492146.jpg (deflated 0%)\n",
            "  adding: content/data/pizza_steak_sushi/train/sushi/2120573.jpg (deflated 12%)\n",
            "  adding: content/data/pizza_steak_sushi/train/sushi/385154.jpg (deflated 0%)\n",
            "  adding: content/data/pizza_steak_sushi/train/sushi/700405.jpg (deflated 8%)\n",
            "  adding: content/data/pizza_steak_sushi/train/sushi/840444.jpg (deflated 0%)\n",
            "  adding: content/data/pizza_steak_sushi/train/sushi/1232045.jpg (deflated 1%)\n",
            "  adding: content/data/pizza_steak_sushi/train/sushi/1575445.jpg (deflated 0%)\n",
            "  adding: content/data/pizza_steak_sushi/train/sushi/3004029.jpg (deflated 0%)\n",
            "  adding: content/data/pizza_steak_sushi/train/sushi/3737197.jpg (deflated 1%)\n",
            "  adding: content/data/pizza_steak_sushi/train/sushi/377047.jpg (deflated 0%)\n",
            "  adding: content/data/pizza_steak_sushi/train/sushi/2590819.jpg (deflated 1%)\n",
            "  adding: content/data/pizza_steak_sushi/train/sushi/1615453.jpg (deflated 0%)\n",
            "  adding: content/data/pizza_steak_sushi/train/sushi/3107839.jpg (deflated 0%)\n",
            "  adding: content/data/pizza_steak_sushi/train/sushi/497686.jpg (deflated 0%)\n",
            "  adding: content/data/pizza_steak_sushi/train/sushi/3579071.jpg (deflated 1%)\n",
            "  adding: content/data/pizza_steak_sushi/train/sushi/121940.jpg (deflated 0%)\n",
            "  adding: content/data/pizza_steak_sushi/train/sushi/1551817.jpg (deflated 0%)\n",
            "  adding: content/data/pizza_steak_sushi/train/sushi/542188.jpg (deflated 0%)\n",
            "  adding: content/data/pizza_steak_sushi/train/sushi/2871052.jpg (deflated 0%)\n",
            "  adding: content/data/pizza_steak_sushi/train/sushi/424994.jpg (deflated 0%)\n",
            "  adding: content/data/pizza_steak_sushi/train/sushi/3353428.jpg (deflated 0%)\n",
            "  adding: content/data/pizza_steak_sushi/train/sushi/148799.jpg (deflated 0%)\n",
            "  adding: content/data/pizza_steak_sushi/train/sushi/1209865.jpg (deflated 1%)\n",
            "  adding: content/data/pizza_steak_sushi/train/sushi/1138695.jpg (deflated 1%)\n",
            "  adding: content/data/pizza_steak_sushi/train/sushi/3426958.jpg (deflated 0%)\n",
            "  adding: content/data/pizza_steak_sushi/train/sushi/686426.jpg (deflated 1%)\n",
            "  adding: content/data/pizza_steak_sushi/train/sushi/855721.jpg (deflated 0%)\n",
            "  adding: content/data/pizza_steak_sushi/train/sushi/2674024.jpg (deflated 0%)\n",
            "  adding: content/data/pizza_steak_sushi/train/sushi/843815.jpg (deflated 0%)\n",
            "  adding: content/data/pizza_steak_sushi/train/sushi/307738.jpg (deflated 0%)\n",
            "  adding: content/data/pizza_steak_sushi/train/sushi/765684.jpg (deflated 0%)\n",
            "  adding: content/data/pizza_steak_sushi/train/sushi/2574453.jpg (deflated 0%)\n",
            "  adding: content/data/pizza_steak_sushi/train/sushi/2980779.jpg (deflated 1%)\n",
            "  adding: content/data/pizza_steak_sushi/train/sushi/200025.jpg (deflated 0%)\n",
            "  adding: content/data/pizza_steak_sushi/train/sushi/2017378.jpg (deflated 0%)\n",
            "  adding: content/data/pizza_steak_sushi/train/sushi/3360232.jpg (deflated 11%)\n",
            "  adding: content/data/pizza_steak_sushi/train/sushi/2175561.jpg (deflated 1%)\n",
            "  adding: content/data/pizza_steak_sushi/train/sushi/17704.jpg (deflated 0%)\n",
            "  adding: content/data/pizza_steak_sushi/train/sushi/1280119.jpg (deflated 0%)\n",
            "  adding: content/data/pizza_steak_sushi/train/sushi/748830.jpg (deflated 1%)\n",
            "  adding: content/data/pizza_steak_sushi/train/sushi/93139.jpg (deflated 1%)\n",
            "  adding: content/data/pizza_steak_sushi/train/sushi/1957449.jpg (deflated 0%)\n",
            "  adding: content/data/pizza_steak_sushi/train/sushi/2019344.jpg (deflated 0%)\n",
            "  adding: content/data/pizza_steak_sushi/train/sushi/821108.jpg (deflated 0%)\n",
            "  adding: content/data/pizza_steak_sushi/train/sushi/1221830.jpg (deflated 21%)\n",
            "  adding: content/data/pizza_steak_sushi/train/sushi/2873571.jpg (deflated 0%)\n",
            "  adding: content/data/pizza_steak_sushi/train/sushi/794647.jpg (deflated 1%)\n",
            "  adding: content/data/pizza_steak_sushi/train/sushi/390178.jpg (deflated 0%)\n",
            "  adding: content/data/pizza_steak_sushi/train/sushi/2797464.jpg (deflated 1%)\n",
            "  adding: content/data/pizza_steak_sushi/train/sushi/2021685.jpg (deflated 3%)\n",
            "  adding: content/data/pizza_steak_sushi/train/sushi/2323548.jpg (deflated 1%)\n",
            "  adding: content/data/pizza_steak_sushi/train/sushi/1552504.jpg (deflated 0%)\n",
            "  adding: content/data/pizza_steak_sushi/train/sushi/2267190.jpg (deflated 1%)\n",
            "  adding: content/data/pizza_steak_sushi/train/sushi/710379.jpg (deflated 0%)\n",
            "  adding: content/data/pizza_steak_sushi/train/sushi/2641778.jpg (deflated 1%)\n",
            "  adding: content/data/pizza_steak_sushi/train/sushi/169392.jpg (deflated 1%)\n",
            "  adding: content/data/pizza_steak_sushi/train/sushi/2813454.jpg (deflated 0%)\n",
            "  adding: content/data/pizza_steak_sushi/train/sushi/2021381.jpg (deflated 2%)\n",
            "  adding: content/data/pizza_steak_sushi/train/pizza/ (stored 0%)\n",
            "  adding: content/data/pizza_steak_sushi/train/pizza/5764.jpg (deflated 6%)\n",
            "  adding: content/data/pizza_steak_sushi/train/pizza/2569760.jpg (deflated 0%)\n",
            "  adding: content/data/pizza_steak_sushi/train/pizza/667309.jpg (deflated 2%)\n",
            "  adding: content/data/pizza_steak_sushi/train/pizza/2285942.jpg (deflated 1%)\n",
            "  adding: content/data/pizza_steak_sushi/train/pizza/3699992.jpg (deflated 2%)\n",
            "  adding: content/data/pizza_steak_sushi/train/pizza/38349.jpg (deflated 0%)\n",
            "  adding: content/data/pizza_steak_sushi/train/pizza/2426686.jpg (deflated 1%)\n",
            "  adding: content/data/pizza_steak_sushi/train/pizza/2821048.jpg (deflated 1%)\n",
            "  adding: content/data/pizza_steak_sushi/train/pizza/618348.jpg (deflated 0%)\n",
            "  adding: content/data/pizza_steak_sushi/train/pizza/2687575.jpg (deflated 0%)\n",
            "  adding: content/data/pizza_steak_sushi/train/pizza/3269634.jpg (deflated 0%)\n",
            "  adding: content/data/pizza_steak_sushi/train/pizza/2760984.jpg (deflated 0%)\n",
            "  adding: content/data/pizza_steak_sushi/train/pizza/764429.jpg (deflated 0%)\n",
            "  adding: content/data/pizza_steak_sushi/train/pizza/2576168.jpg (deflated 0%)\n",
            "  adding: content/data/pizza_steak_sushi/train/pizza/3505182.jpg (deflated 1%)\n",
            "  adding: content/data/pizza_steak_sushi/train/pizza/2154394.jpg (deflated 0%)\n",
            "  adding: content/data/pizza_steak_sushi/train/pizza/853441.jpg (deflated 0%)\n",
            "  adding: content/data/pizza_steak_sushi/train/pizza/3589437.jpg (deflated 0%)\n",
            "  adding: content/data/pizza_steak_sushi/train/pizza/2121603.jpg (deflated 0%)\n",
            "  adding: content/data/pizza_steak_sushi/train/pizza/1633289.jpg (deflated 0%)\n",
            "  adding: content/data/pizza_steak_sushi/train/pizza/1105700.jpg (deflated 0%)\n",
            "  adding: content/data/pizza_steak_sushi/train/pizza/1899785.jpg (deflated 1%)\n",
            "  adding: content/data/pizza_steak_sushi/train/pizza/2330965.jpg (deflated 0%)\n",
            "  adding: content/data/pizza_steak_sushi/train/pizza/3281494.jpg (deflated 0%)\n",
            "  adding: content/data/pizza_steak_sushi/train/pizza/1033251.jpg (deflated 1%)\n",
            "  adding: content/data/pizza_steak_sushi/train/pizza/3860002.jpg (deflated 0%)\n",
            "  adding: content/data/pizza_steak_sushi/train/pizza/2026009.jpg (deflated 1%)\n",
            "  adding: content/data/pizza_steak_sushi/train/pizza/138855.jpg (deflated 0%)\n",
            "  adding: content/data/pizza_steak_sushi/train/pizza/393658.jpg (deflated 0%)\n",
            "  adding: content/data/pizza_steak_sushi/train/pizza/29417.jpg (deflated 0%)\n",
            "  adding: content/data/pizza_steak_sushi/train/pizza/2885050.jpg (deflated 1%)\n",
            "  adding: content/data/pizza_steak_sushi/train/pizza/2228322.jpg (deflated 0%)\n",
            "  adding: content/data/pizza_steak_sushi/train/pizza/1089334.jpg (deflated 14%)\n",
            "  adding: content/data/pizza_steak_sushi/train/pizza/1524655.jpg (deflated 0%)\n",
            "  adding: content/data/pizza_steak_sushi/train/pizza/2885796.jpg (deflated 0%)\n",
            "  adding: content/data/pizza_steak_sushi/train/pizza/2785084.jpg (deflated 1%)\n",
            "  adding: content/data/pizza_steak_sushi/train/pizza/3196721.jpg (deflated 1%)\n",
            "  adding: content/data/pizza_steak_sushi/train/pizza/220190.jpg (deflated 0%)\n",
            "  adding: content/data/pizza_steak_sushi/train/pizza/1572608.jpg (deflated 0%)\n",
            "  adding: content/data/pizza_steak_sushi/train/pizza/12301.jpg (deflated 0%)\n",
            "  adding: content/data/pizza_steak_sushi/train/pizza/300869.jpg (deflated 0%)\n",
            "  adding: content/data/pizza_steak_sushi/train/pizza/218711.jpg (deflated 0%)\n",
            "  adding: content/data/pizza_steak_sushi/train/pizza/1008844.jpg (deflated 1%)\n",
            "  adding: content/data/pizza_steak_sushi/train/pizza/741883.jpg (deflated 0%)\n",
            "  adding: content/data/pizza_steak_sushi/train/pizza/1044789.jpg (deflated 0%)\n",
            "  adding: content/data/pizza_steak_sushi/train/pizza/1412034.jpg (deflated 1%)\n",
            "  adding: content/data/pizza_steak_sushi/train/pizza/2811032.jpg (deflated 1%)\n",
            "  adding: content/data/pizza_steak_sushi/train/pizza/2451169.jpg (deflated 0%)\n",
            "  adding: content/data/pizza_steak_sushi/train/pizza/244505.jpg (deflated 0%)\n",
            "  adding: content/data/pizza_steak_sushi/train/pizza/2190018.jpg (deflated 0%)\n",
            "  adding: content/data/pizza_steak_sushi/train/pizza/2291093.jpg (deflated 0%)\n",
            "  adding: content/data/pizza_steak_sushi/train/pizza/1285298.jpg (deflated 0%)\n",
            "  adding: content/data/pizza_steak_sushi/train/pizza/68684.jpg (deflated 7%)\n",
            "  adding: content/data/pizza_steak_sushi/train/pizza/2924941.jpg (deflated 1%)\n",
            "  adding: content/data/pizza_steak_sushi/train/pizza/2992084.jpg (deflated 0%)\n",
            "  adding: content/data/pizza_steak_sushi/train/pizza/1649276.jpg (deflated 1%)\n",
            "  adding: content/data/pizza_steak_sushi/train/pizza/3109486.jpg (deflated 0%)\n",
            "  adding: content/data/pizza_steak_sushi/train/pizza/1947572.jpg (deflated 1%)\n",
            "  adding: content/data/pizza_steak_sushi/train/pizza/2800325.jpg (deflated 0%)\n",
            "  adding: content/data/pizza_steak_sushi/train/pizza/2493954.jpg (deflated 1%)\n",
            "  adding: content/data/pizza_steak_sushi/train/pizza/739735.jpg (deflated 2%)\n",
            "  adding: content/data/pizza_steak_sushi/train/pizza/320570.jpg (deflated 0%)\n",
            "  adding: content/data/pizza_steak_sushi/train/pizza/3018077.jpg (deflated 1%)\n",
            "  adding: content/data/pizza_steak_sushi/train/pizza/928670.jpg (deflated 1%)\n",
            "  adding: content/data/pizza_steak_sushi/train/pizza/3338774.jpg (deflated 0%)\n",
            "  adding: content/data/pizza_steak_sushi/train/pizza/786995.jpg (deflated 1%)\n",
            "  adding: content/data/pizza_steak_sushi/train/pizza/1660415.jpg (deflated 0%)\n",
            "  adding: content/data/pizza_steak_sushi/train/pizza/702165.jpg (deflated 0%)\n",
            "  adding: content/data/pizza_steak_sushi/train/pizza/765799.jpg (deflated 0%)\n",
            "  adding: content/data/pizza_steak_sushi/train/pizza/1654444.jpg (deflated 0%)\n",
            "  adding: content/data/pizza_steak_sushi/train/pizza/3821701.jpg (deflated 0%)\n",
            "  adding: content/data/pizza_steak_sushi/train/pizza/2702825.jpg (deflated 1%)\n",
            "  adding: content/data/pizza_steak_sushi/train/pizza/3530210.jpg (deflated 1%)\n",
            "  adding: content/data/pizza_steak_sushi/train/pizza/1968947.jpg (deflated 0%)\n",
            "  adding: content/data/pizza_steak_sushi/train/pizza/2382016.jpg (deflated 0%)\n",
            "  adding: content/data/pizza_steak_sushi/train/pizza/3441394.jpg (deflated 0%)\n",
            "  adding: content/data/pizza_steak_sushi/train/pizza/2428085.jpg (deflated 0%)\n",
            "  adding: content/data/pizza_steak_sushi/train/pizza/715169.jpg (deflated 0%)\n",
            "  adding: content/data/pizza_steak_sushi/train/steak/ (stored 0%)\n",
            "  adding: content/data/pizza_steak_sushi/train/steak/97656.jpg (deflated 13%)\n",
            "  adding: content/data/pizza_steak_sushi/train/steak/1937872.jpg (deflated 1%)\n",
            "  adding: content/data/pizza_steak_sushi/train/steak/234626.jpg (deflated 0%)\n",
            "  adding: content/data/pizza_steak_sushi/train/steak/1624747.jpg (deflated 22%)\n",
            "  adding: content/data/pizza_steak_sushi/train/steak/830007.jpg (deflated 56%)\n",
            "  adding: content/data/pizza_steak_sushi/train/steak/225990.jpg (deflated 2%)\n",
            "  adding: content/data/pizza_steak_sushi/train/steak/2324994.jpg (deflated 0%)\n",
            "  adding: content/data/pizza_steak_sushi/train/steak/1849463.jpg (deflated 1%)\n",
            "  adding: content/data/pizza_steak_sushi/train/steak/3142045.jpg (deflated 0%)\n",
            "  adding: content/data/pizza_steak_sushi/train/steak/1787505.jpg (deflated 1%)\n",
            "  adding: content/data/pizza_steak_sushi/train/steak/1615395.jpg (deflated 0%)\n",
            "  adding: content/data/pizza_steak_sushi/train/steak/1257104.jpg (deflated 14%)\n",
            "  adding: content/data/pizza_steak_sushi/train/steak/2561199.jpg (deflated 1%)\n",
            "  adding: content/data/pizza_steak_sushi/train/steak/3142674.jpg (deflated 0%)\n",
            "  adding: content/data/pizza_steak_sushi/train/steak/421476.jpg (deflated 0%)\n",
            "  adding: content/data/pizza_steak_sushi/train/steak/443210.jpg (deflated 0%)\n",
            "  adding: content/data/pizza_steak_sushi/train/steak/355715.jpg (deflated 0%)\n",
            "  adding: content/data/pizza_steak_sushi/train/steak/2287136.jpg (deflated 0%)\n",
            "  adding: content/data/pizza_steak_sushi/train/steak/1382427.jpg (deflated 1%)\n",
            "  adding: content/data/pizza_steak_sushi/train/steak/2878151.jpg (deflated 1%)\n",
            "  adding: content/data/pizza_steak_sushi/train/steak/1598345.jpg (deflated 28%)\n",
            "  adding: content/data/pizza_steak_sushi/train/steak/239025.jpg (deflated 0%)\n",
            "  adding: content/data/pizza_steak_sushi/train/steak/1413972.jpg (deflated 1%)\n",
            "  adding: content/data/pizza_steak_sushi/train/steak/1621763.jpg (deflated 1%)\n",
            "  adding: content/data/pizza_steak_sushi/train/steak/256592.jpg (deflated 11%)\n",
            "  adding: content/data/pizza_steak_sushi/train/steak/922752.jpg (deflated 0%)\n",
            "  adding: content/data/pizza_steak_sushi/train/steak/1225762.jpg (deflated 1%)\n",
            "  adding: content/data/pizza_steak_sushi/train/steak/1976160.jpg (deflated 1%)\n",
            "  adding: content/data/pizza_steak_sushi/train/steak/3727036.jpg (deflated 0%)\n",
            "  adding: content/data/pizza_steak_sushi/train/steak/2013535.jpg (deflated 1%)\n",
            "  adding: content/data/pizza_steak_sushi/train/steak/2628106.jpg (deflated 0%)\n",
            "  adding: content/data/pizza_steak_sushi/train/steak/165639.jpg (deflated 0%)\n",
            "  adding: content/data/pizza_steak_sushi/train/steak/2614649.jpg (deflated 1%)\n",
            "  adding: content/data/pizza_steak_sushi/train/steak/1966300.jpg (deflated 0%)\n",
            "  adding: content/data/pizza_steak_sushi/train/steak/482022.jpg (deflated 0%)\n",
            "  adding: content/data/pizza_steak_sushi/train/steak/2648423.jpg (deflated 0%)\n",
            "  adding: content/data/pizza_steak_sushi/train/steak/3518960.jpg (deflated 0%)\n",
            "  adding: content/data/pizza_steak_sushi/train/steak/1264154.jpg (deflated 1%)\n",
            "  adding: content/data/pizza_steak_sushi/train/steak/914570.jpg (deflated 1%)\n",
            "  adding: content/data/pizza_steak_sushi/train/steak/560503.jpg (deflated 0%)\n",
            "  adding: content/data/pizza_steak_sushi/train/steak/937133.jpg (deflated 0%)\n",
            "  adding: content/data/pizza_steak_sushi/train/steak/2606444.jpg (deflated 56%)\n",
            "  adding: content/data/pizza_steak_sushi/train/steak/2825100.jpg (deflated 13%)\n",
            "  adding: content/data/pizza_steak_sushi/train/steak/3074367.jpg (deflated 0%)\n",
            "  adding: content/data/pizza_steak_sushi/train/steak/339891.jpg (deflated 14%)\n",
            "  adding: content/data/pizza_steak_sushi/train/steak/100135.jpg (deflated 0%)\n",
            "  adding: content/data/pizza_steak_sushi/train/steak/3727491.jpg (deflated 1%)\n",
            "  adding: content/data/pizza_steak_sushi/train/steak/2087958.jpg (deflated 1%)\n",
            "  adding: content/data/pizza_steak_sushi/train/steak/1961025.jpg (deflated 0%)\n",
            "  adding: content/data/pizza_steak_sushi/train/steak/3245622.jpg (deflated 0%)\n",
            "  adding: content/data/pizza_steak_sushi/train/steak/2017387.jpg (deflated 1%)\n",
            "  adding: content/data/pizza_steak_sushi/train/steak/2163079.jpg (deflated 2%)\n",
            "  adding: content/data/pizza_steak_sushi/train/steak/2614189.jpg (deflated 1%)\n",
            "  adding: content/data/pizza_steak_sushi/train/steak/1736968.jpg (deflated 1%)\n",
            "  adding: content/data/pizza_steak_sushi/train/steak/176508.jpg (deflated 0%)\n",
            "  adding: content/data/pizza_steak_sushi/train/steak/2254705.jpg (deflated 1%)\n",
            "  adding: content/data/pizza_steak_sushi/train/steak/2603058.jpg (deflated 1%)\n",
            "  adding: content/data/pizza_steak_sushi/train/steak/2880035.jpg (deflated 0%)\n",
            "  adding: content/data/pizza_steak_sushi/train/steak/167069.jpg (deflated 0%)\n",
            "  adding: content/data/pizza_steak_sushi/train/steak/3857508.jpg (deflated 1%)\n",
            "  adding: content/data/pizza_steak_sushi/train/steak/1839481.jpg (deflated 1%)\n",
            "  adding: content/data/pizza_steak_sushi/train/steak/735441.jpg (deflated 0%)\n",
            "  adding: content/data/pizza_steak_sushi/train/steak/1647351.jpg (deflated 1%)\n",
            "  adding: content/data/pizza_steak_sushi/train/steak/231296.jpg (deflated 0%)\n",
            "  adding: content/data/pizza_steak_sushi/train/steak/2129685.jpg (deflated 1%)\n",
            "  adding: content/data/pizza_steak_sushi/train/steak/2222018.jpg (deflated 1%)\n",
            "  adding: content/data/pizza_steak_sushi/train/steak/214320.jpg (deflated 0%)\n",
            "  adding: content/data/pizza_steak_sushi/train/steak/1761285.jpg (deflated 30%)\n",
            "  adding: content/data/pizza_steak_sushi/train/steak/75537.jpg (deflated 1%)\n",
            "  adding: content/data/pizza_steak_sushi/train/steak/461689.jpg (deflated 1%)\n",
            "  adding: content/data/pizza_steak_sushi/train/steak/2707522.jpg (deflated 1%)\n",
            "  adding: content/data/pizza_steak_sushi/train/steak/2629750.jpg (deflated 1%)\n",
            "  adding: content/data/pizza_steak_sushi/train/steak/2881783.jpg (deflated 1%)\n",
            "  adding: content/data/pizza_steak_sushi/train/steak/3577618.jpg (deflated 1%)\n",
            "  adding: content/data/pizza_steak_sushi/train/steak/2979061.jpg (deflated 1%)\n",
            "  adding: content/data/pizza_steak_sushi.zip (stored 0%)\n",
            "  adding: content/going_modular/ (stored 0%)\n",
            "  adding: content/going_modular/engine.py (deflated 72%)\n",
            "  adding: content/going_modular/model_builder.py (deflated 68%)\n",
            "  adding: content/going_modular/data_setup.py (deflated 68%)\n",
            "  adding: content/going_modular/__pycache__/ (stored 0%)\n",
            "  adding: content/going_modular/__pycache__/engine.cpython-310.pyc (deflated 44%)\n",
            "  adding: content/going_modular/__pycache__/data_setup.cpython-310.pyc (deflated 34%)\n",
            "  adding: content/going_modular/__pycache__/utils.cpython-310.pyc (deflated 29%)\n",
            "  adding: content/going_modular/__pycache__/model_builder.cpython-310.pyc (deflated 42%)\n",
            "  adding: content/going_modular/train.py (deflated 55%)\n",
            "  adding: content/going_modular/utils.py (deflated 52%)\n",
            "  adding: content/sample_data/ (stored 0%)\n",
            "  adding: content/sample_data/anscombe.json (deflated 83%)\n",
            "  adding: content/sample_data/README.md (deflated 42%)\n",
            "  adding: content/sample_data/california_housing_test.csv (deflated 76%)\n",
            "  adding: content/sample_data/california_housing_train.csv (deflated 79%)\n",
            "  adding: content/sample_data/mnist_test.csv (deflated 88%)\n",
            "  adding: content/sample_data/mnist_train_small.csv (deflated 88%)\n"
          ]
        }
      ]
    },
    {
      "cell_type": "code",
      "source": [
        "!zip -r pavic.zip content/ -x *samples*"
      ],
      "metadata": {
        "id": "q08jm_lGKmWs"
      },
      "execution_count": null,
      "outputs": []
    }
  ]
}