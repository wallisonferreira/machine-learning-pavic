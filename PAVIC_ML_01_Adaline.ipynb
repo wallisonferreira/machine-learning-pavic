{
  "cells": [
    {
      "cell_type": "markdown",
      "metadata": {
        "id": "view-in-github",
        "colab_type": "text"
      },
      "source": [
        "<a href=\"https://colab.research.google.com/github/wallisonferreira/machine-learning-pavic/blob/main/PAVIC_ML_01_Adaline.ipynb\" target=\"_parent\"><img src=\"https://colab.research.google.com/assets/colab-badge.svg\" alt=\"Open In Colab\"/></a>"
      ]
    },
    {
      "cell_type": "code",
      "execution_count": 1,
      "metadata": {
        "id": "ppwVt8hLUoZq"
      },
      "outputs": [],
      "source": [
        "import numpy as np\n",
        "import pandas as pd\n",
        "import matplotlib.pyplot as plt\n",
        "from random import random\n",
        "from sklearn.linear_model import LinearRegression\n",
        "from sklearn.preprocessing import MinMaxScaler\n",
        "from sklearn.datasets import make_blobs\n",
        "\n",
        "%matplotlib inline"
      ]
    },
    {
      "cell_type": "code",
      "execution_count": null,
      "metadata": {
        "id": "1X_BQV1RTReI"
      },
      "outputs": [],
      "source": [
        "#Algoritimo adaline\n",
        "\n",
        "# Inicializar o 'w' e o 'b'\n",
        "# Para cada amostra\n",
        "  # calcular o y_pred = f(E xi*wi + b)onde f é  função de ativação step, para regressão trocamos para linear\n",
        "  # calcular o erro erro = y - y_pred\n",
        "  # atualizar os pesos wi = wi + lambda * erro * xi\n",
        "  # atualizar o bias bi = bi + lambda*erro\n",
        "# repetir até encontrar o menor erro"
      ]
    },
    {
      "cell_type": "markdown",
      "metadata": {
        "id": "5yqjO_ka1s75"
      },
      "source": [
        "## Regressão"
      ]
    },
    {
      "cell_type": "code",
      "execution_count": 20,
      "metadata": {
        "colab": {
          "base_uri": "https://localhost:8080/",
          "height": 380
        },
        "id": "3Ltjn7dA10oi",
        "outputId": "71b59b37-391a-4e84-b646-51d6a750ac42"
      },
      "outputs": [
        {
          "output_type": "stream",
          "name": "stdout",
          "text": [
            "(25, 4)\n"
          ]
        },
        {
          "output_type": "execute_result",
          "data": {
            "text/plain": [
              "   prova1  prova2  prova3  final\n",
              "0      73      80      75    152\n",
              "1      93      88      93    185\n",
              "2      89      91      90    180\n",
              "3      96      98     100    196\n",
              "4      73      66      70    142\n",
              "5      53      46      55    101\n",
              "6      69      74      77    149\n",
              "7      47      56      60    115\n",
              "8      87      79      90    175\n",
              "9      79      70      88    164"
            ],
            "text/html": [
              "\n",
              "  <div id=\"df-420bc45e-af99-45e1-b7a7-cf7d6f5008ad\" class=\"colab-df-container\">\n",
              "    <div>\n",
              "<style scoped>\n",
              "    .dataframe tbody tr th:only-of-type {\n",
              "        vertical-align: middle;\n",
              "    }\n",
              "\n",
              "    .dataframe tbody tr th {\n",
              "        vertical-align: top;\n",
              "    }\n",
              "\n",
              "    .dataframe thead th {\n",
              "        text-align: right;\n",
              "    }\n",
              "</style>\n",
              "<table border=\"1\" class=\"dataframe\">\n",
              "  <thead>\n",
              "    <tr style=\"text-align: right;\">\n",
              "      <th></th>\n",
              "      <th>prova1</th>\n",
              "      <th>prova2</th>\n",
              "      <th>prova3</th>\n",
              "      <th>final</th>\n",
              "    </tr>\n",
              "  </thead>\n",
              "  <tbody>\n",
              "    <tr>\n",
              "      <th>0</th>\n",
              "      <td>73</td>\n",
              "      <td>80</td>\n",
              "      <td>75</td>\n",
              "      <td>152</td>\n",
              "    </tr>\n",
              "    <tr>\n",
              "      <th>1</th>\n",
              "      <td>93</td>\n",
              "      <td>88</td>\n",
              "      <td>93</td>\n",
              "      <td>185</td>\n",
              "    </tr>\n",
              "    <tr>\n",
              "      <th>2</th>\n",
              "      <td>89</td>\n",
              "      <td>91</td>\n",
              "      <td>90</td>\n",
              "      <td>180</td>\n",
              "    </tr>\n",
              "    <tr>\n",
              "      <th>3</th>\n",
              "      <td>96</td>\n",
              "      <td>98</td>\n",
              "      <td>100</td>\n",
              "      <td>196</td>\n",
              "    </tr>\n",
              "    <tr>\n",
              "      <th>4</th>\n",
              "      <td>73</td>\n",
              "      <td>66</td>\n",
              "      <td>70</td>\n",
              "      <td>142</td>\n",
              "    </tr>\n",
              "    <tr>\n",
              "      <th>5</th>\n",
              "      <td>53</td>\n",
              "      <td>46</td>\n",
              "      <td>55</td>\n",
              "      <td>101</td>\n",
              "    </tr>\n",
              "    <tr>\n",
              "      <th>6</th>\n",
              "      <td>69</td>\n",
              "      <td>74</td>\n",
              "      <td>77</td>\n",
              "      <td>149</td>\n",
              "    </tr>\n",
              "    <tr>\n",
              "      <th>7</th>\n",
              "      <td>47</td>\n",
              "      <td>56</td>\n",
              "      <td>60</td>\n",
              "      <td>115</td>\n",
              "    </tr>\n",
              "    <tr>\n",
              "      <th>8</th>\n",
              "      <td>87</td>\n",
              "      <td>79</td>\n",
              "      <td>90</td>\n",
              "      <td>175</td>\n",
              "    </tr>\n",
              "    <tr>\n",
              "      <th>9</th>\n",
              "      <td>79</td>\n",
              "      <td>70</td>\n",
              "      <td>88</td>\n",
              "      <td>164</td>\n",
              "    </tr>\n",
              "  </tbody>\n",
              "</table>\n",
              "</div>\n",
              "    <div class=\"colab-df-buttons\">\n",
              "\n",
              "  <div class=\"colab-df-container\">\n",
              "    <button class=\"colab-df-convert\" onclick=\"convertToInteractive('df-420bc45e-af99-45e1-b7a7-cf7d6f5008ad')\"\n",
              "            title=\"Convert this dataframe to an interactive table.\"\n",
              "            style=\"display:none;\">\n",
              "\n",
              "  <svg xmlns=\"http://www.w3.org/2000/svg\" height=\"24px\" viewBox=\"0 -960 960 960\">\n",
              "    <path d=\"M120-120v-720h720v720H120Zm60-500h600v-160H180v160Zm220 220h160v-160H400v160Zm0 220h160v-160H400v160ZM180-400h160v-160H180v160Zm440 0h160v-160H620v160ZM180-180h160v-160H180v160Zm440 0h160v-160H620v160Z\"/>\n",
              "  </svg>\n",
              "    </button>\n",
              "\n",
              "  <style>\n",
              "    .colab-df-container {\n",
              "      display:flex;\n",
              "      gap: 12px;\n",
              "    }\n",
              "\n",
              "    .colab-df-convert {\n",
              "      background-color: #E8F0FE;\n",
              "      border: none;\n",
              "      border-radius: 50%;\n",
              "      cursor: pointer;\n",
              "      display: none;\n",
              "      fill: #1967D2;\n",
              "      height: 32px;\n",
              "      padding: 0 0 0 0;\n",
              "      width: 32px;\n",
              "    }\n",
              "\n",
              "    .colab-df-convert:hover {\n",
              "      background-color: #E2EBFA;\n",
              "      box-shadow: 0px 1px 2px rgba(60, 64, 67, 0.3), 0px 1px 3px 1px rgba(60, 64, 67, 0.15);\n",
              "      fill: #174EA6;\n",
              "    }\n",
              "\n",
              "    .colab-df-buttons div {\n",
              "      margin-bottom: 4px;\n",
              "    }\n",
              "\n",
              "    [theme=dark] .colab-df-convert {\n",
              "      background-color: #3B4455;\n",
              "      fill: #D2E3FC;\n",
              "    }\n",
              "\n",
              "    [theme=dark] .colab-df-convert:hover {\n",
              "      background-color: #434B5C;\n",
              "      box-shadow: 0px 1px 3px 1px rgba(0, 0, 0, 0.15);\n",
              "      filter: drop-shadow(0px 1px 2px rgba(0, 0, 0, 0.3));\n",
              "      fill: #FFFFFF;\n",
              "    }\n",
              "  </style>\n",
              "\n",
              "    <script>\n",
              "      const buttonEl =\n",
              "        document.querySelector('#df-420bc45e-af99-45e1-b7a7-cf7d6f5008ad button.colab-df-convert');\n",
              "      buttonEl.style.display =\n",
              "        google.colab.kernel.accessAllowed ? 'block' : 'none';\n",
              "\n",
              "      async function convertToInteractive(key) {\n",
              "        const element = document.querySelector('#df-420bc45e-af99-45e1-b7a7-cf7d6f5008ad');\n",
              "        const dataTable =\n",
              "          await google.colab.kernel.invokeFunction('convertToInteractive',\n",
              "                                                    [key], {});\n",
              "        if (!dataTable) return;\n",
              "\n",
              "        const docLinkHtml = 'Like what you see? Visit the ' +\n",
              "          '<a target=\"_blank\" href=https://colab.research.google.com/notebooks/data_table.ipynb>data table notebook</a>'\n",
              "          + ' to learn more about interactive tables.';\n",
              "        element.innerHTML = '';\n",
              "        dataTable['output_type'] = 'display_data';\n",
              "        await google.colab.output.renderOutput(dataTable, element);\n",
              "        const docLink = document.createElement('div');\n",
              "        docLink.innerHTML = docLinkHtml;\n",
              "        element.appendChild(docLink);\n",
              "      }\n",
              "    </script>\n",
              "  </div>\n",
              "\n",
              "\n",
              "<div id=\"df-cb6671c0-ba5e-475d-8a0c-cac644fd0153\">\n",
              "  <button class=\"colab-df-quickchart\" onclick=\"quickchart('df-cb6671c0-ba5e-475d-8a0c-cac644fd0153')\"\n",
              "            title=\"Suggest charts.\"\n",
              "            style=\"display:none;\">\n",
              "\n",
              "<svg xmlns=\"http://www.w3.org/2000/svg\" height=\"24px\"viewBox=\"0 0 24 24\"\n",
              "     width=\"24px\">\n",
              "    <g>\n",
              "        <path d=\"M19 3H5c-1.1 0-2 .9-2 2v14c0 1.1.9 2 2 2h14c1.1 0 2-.9 2-2V5c0-1.1-.9-2-2-2zM9 17H7v-7h2v7zm4 0h-2V7h2v10zm4 0h-2v-4h2v4z\"/>\n",
              "    </g>\n",
              "</svg>\n",
              "  </button>\n",
              "\n",
              "<style>\n",
              "  .colab-df-quickchart {\n",
              "      --bg-color: #E8F0FE;\n",
              "      --fill-color: #1967D2;\n",
              "      --hover-bg-color: #E2EBFA;\n",
              "      --hover-fill-color: #174EA6;\n",
              "      --disabled-fill-color: #AAA;\n",
              "      --disabled-bg-color: #DDD;\n",
              "  }\n",
              "\n",
              "  [theme=dark] .colab-df-quickchart {\n",
              "      --bg-color: #3B4455;\n",
              "      --fill-color: #D2E3FC;\n",
              "      --hover-bg-color: #434B5C;\n",
              "      --hover-fill-color: #FFFFFF;\n",
              "      --disabled-bg-color: #3B4455;\n",
              "      --disabled-fill-color: #666;\n",
              "  }\n",
              "\n",
              "  .colab-df-quickchart {\n",
              "    background-color: var(--bg-color);\n",
              "    border: none;\n",
              "    border-radius: 50%;\n",
              "    cursor: pointer;\n",
              "    display: none;\n",
              "    fill: var(--fill-color);\n",
              "    height: 32px;\n",
              "    padding: 0;\n",
              "    width: 32px;\n",
              "  }\n",
              "\n",
              "  .colab-df-quickchart:hover {\n",
              "    background-color: var(--hover-bg-color);\n",
              "    box-shadow: 0 1px 2px rgba(60, 64, 67, 0.3), 0 1px 3px 1px rgba(60, 64, 67, 0.15);\n",
              "    fill: var(--button-hover-fill-color);\n",
              "  }\n",
              "\n",
              "  .colab-df-quickchart-complete:disabled,\n",
              "  .colab-df-quickchart-complete:disabled:hover {\n",
              "    background-color: var(--disabled-bg-color);\n",
              "    fill: var(--disabled-fill-color);\n",
              "    box-shadow: none;\n",
              "  }\n",
              "\n",
              "  .colab-df-spinner {\n",
              "    border: 2px solid var(--fill-color);\n",
              "    border-color: transparent;\n",
              "    border-bottom-color: var(--fill-color);\n",
              "    animation:\n",
              "      spin 1s steps(1) infinite;\n",
              "  }\n",
              "\n",
              "  @keyframes spin {\n",
              "    0% {\n",
              "      border-color: transparent;\n",
              "      border-bottom-color: var(--fill-color);\n",
              "      border-left-color: var(--fill-color);\n",
              "    }\n",
              "    20% {\n",
              "      border-color: transparent;\n",
              "      border-left-color: var(--fill-color);\n",
              "      border-top-color: var(--fill-color);\n",
              "    }\n",
              "    30% {\n",
              "      border-color: transparent;\n",
              "      border-left-color: var(--fill-color);\n",
              "      border-top-color: var(--fill-color);\n",
              "      border-right-color: var(--fill-color);\n",
              "    }\n",
              "    40% {\n",
              "      border-color: transparent;\n",
              "      border-right-color: var(--fill-color);\n",
              "      border-top-color: var(--fill-color);\n",
              "    }\n",
              "    60% {\n",
              "      border-color: transparent;\n",
              "      border-right-color: var(--fill-color);\n",
              "    }\n",
              "    80% {\n",
              "      border-color: transparent;\n",
              "      border-right-color: var(--fill-color);\n",
              "      border-bottom-color: var(--fill-color);\n",
              "    }\n",
              "    90% {\n",
              "      border-color: transparent;\n",
              "      border-bottom-color: var(--fill-color);\n",
              "    }\n",
              "  }\n",
              "</style>\n",
              "\n",
              "  <script>\n",
              "    async function quickchart(key) {\n",
              "      const quickchartButtonEl =\n",
              "        document.querySelector('#' + key + ' button');\n",
              "      quickchartButtonEl.disabled = true;  // To prevent multiple clicks.\n",
              "      quickchartButtonEl.classList.add('colab-df-spinner');\n",
              "      try {\n",
              "        const charts = await google.colab.kernel.invokeFunction(\n",
              "            'suggestCharts', [key], {});\n",
              "      } catch (error) {\n",
              "        console.error('Error during call to suggestCharts:', error);\n",
              "      }\n",
              "      quickchartButtonEl.classList.remove('colab-df-spinner');\n",
              "      quickchartButtonEl.classList.add('colab-df-quickchart-complete');\n",
              "    }\n",
              "    (() => {\n",
              "      let quickchartButtonEl =\n",
              "        document.querySelector('#df-cb6671c0-ba5e-475d-8a0c-cac644fd0153 button');\n",
              "      quickchartButtonEl.style.display =\n",
              "        google.colab.kernel.accessAllowed ? 'block' : 'none';\n",
              "    })();\n",
              "  </script>\n",
              "</div>\n",
              "    </div>\n",
              "  </div>\n"
            ]
          },
          "metadata": {},
          "execution_count": 20
        }
      ],
      "source": [
        "df = pd.read_csv('/content/notas.csv')\n",
        "\n",
        "print(df.shape)\n",
        "df.head(10)"
      ]
    },
    {
      "cell_type": "code",
      "execution_count": 21,
      "metadata": {
        "colab": {
          "base_uri": "https://localhost:8080/"
        },
        "id": "dLxlx6Hu2U5R",
        "outputId": "55489574-7774-4ba1-9b45-fe4655a52aaf"
      },
      "outputs": [
        {
          "output_type": "stream",
          "name": "stdout",
          "text": [
            "(25, 3) (25,)\n"
          ]
        }
      ],
      "source": [
        "x = df[['prova1', 'prova2', 'prova3']].values\n",
        "y = df['final'].values\n",
        "\n",
        "print(x.shape, y.shape)"
      ]
    },
    {
      "cell_type": "code",
      "execution_count": 22,
      "metadata": {
        "id": "quH-8U0A2YvR"
      },
      "outputs": [],
      "source": [
        "minmax = MinMaxScaler(feature_range=(-1,1))\n",
        "x = minmax.fit_transform(x.astype(np.float64))"
      ]
    },
    {
      "cell_type": "code",
      "execution_count": 23,
      "metadata": {
        "colab": {
          "base_uri": "https://localhost:8080/"
        },
        "id": "NBRXBMG03M6R",
        "outputId": "3c9c6ea7-f7b7-4a2f-a790-5ccfc4e5d006"
      },
      "outputs": [
        {
          "output_type": "stream",
          "name": "stdout",
          "text": [
            "(25, 3) (25,)\n"
          ]
        }
      ],
      "source": [
        "x = x.reshape(-1, 3)\n",
        "\n",
        "print(x.shape, y.shape)"
      ]
    },
    {
      "cell_type": "code",
      "execution_count": 19,
      "metadata": {
        "colab": {
          "base_uri": "https://localhost:8080/"
        },
        "id": "Qo_-VAmx2bsP",
        "outputId": "001f24f7-cfbc-4a88-d50a-dc9ca2af7444"
      },
      "outputs": [
        {
          "output_type": "stream",
          "name": "stdout",
          "text": [
            "step 0: 646600.972608327\n",
            "step 200: 1169.8872854537017\n",
            "step 400: 520.9580220709163\n",
            "step 600: 411.579762349554\n",
            "step 800: 336.8661074964189\n",
            "step 1000: 283.80038585988973\n",
            "step 1200: 245.9319868741145\n",
            "step 1400: 218.7798546890908\n",
            "step 1600: 199.21006828222076\n",
            "step 1800: 185.025687261757\n",
            "w:  [13.75755572 13.86295947 21.61990651]\n",
            "b:  149.98011653486887\n"
          ]
        }
      ],
      "source": [
        "#PUT YOUR CODE HERE\n",
        "D = x.shape[1]\n",
        "w = 2 * np.random.random(D)-1\n",
        "b = 2 * np.random.random()-1\n",
        "\n",
        "learning_rate = 1e-3\n",
        "\n",
        "for step in range(2000):\n",
        "    cost = 0\n",
        "    for x_n, y_n in zip(x,y):\n",
        "        y_pred = np.dot(x_n, w) + b\n",
        "        error = y_n - y_pred\n",
        "        w = w + learning_rate * np.dot(error, x_n)\n",
        "        b = b + learning_rate * error\n",
        "        cost += error ** 2\n",
        "\n",
        "    if step % 200 == 0:\n",
        "        print(\"step {0}: {1}\".format(step, cost))\n",
        "print('w: ', w)\n",
        "print('b: ', b)"
      ]
    },
    {
      "cell_type": "code",
      "execution_count": 9,
      "metadata": {
        "colab": {
          "base_uri": "https://localhost:8080/"
        },
        "id": "uua01Wmd4EpM",
        "outputId": "47779cc8-e5bb-4952-8124-292dea714e34"
      },
      "outputs": [
        {
          "output_type": "stream",
          "name": "stdout",
          "text": [
            "w:  [ 8.72048636 14.1054877  26.26749487]\n",
            "b:  150.65175754349872\n"
          ]
        }
      ],
      "source": [
        "reg = LinearRegression()\n",
        "reg.fit(x, y)\n",
        "\n",
        "print('w: ', reg.coef_)\n",
        "print('b: ', reg.intercept_)"
      ]
    },
    {
      "cell_type": "markdown",
      "metadata": {
        "id": "X0wtpAKYUa6-"
      },
      "source": [
        "# Classificação"
      ]
    },
    {
      "cell_type": "markdown",
      "metadata": {
        "id": "FUBaa87EUfGd"
      },
      "source": [
        "## Porta OR ou AND"
      ]
    },
    {
      "cell_type": "code",
      "execution_count": 24,
      "metadata": {
        "colab": {
          "base_uri": "https://localhost:8080/"
        },
        "id": "55RyBl-KUmtg",
        "outputId": "01098bd3-6c1c-4502-f4ac-974366a79f78"
      },
      "outputs": [
        {
          "output_type": "stream",
          "name": "stdout",
          "text": [
            "(4, 2) (4,)\n"
          ]
        }
      ],
      "source": [
        "x = np.array([[0, 0], [0, 1], [1, 0], [1, 1]])\n",
        "#y = np.array([0, 1, 1, 1]) # porta OR\n",
        "y = np.array([0, 0, 0, 1]).T # porta AND\n",
        "\n",
        "print(x.shape, y.shape)"
      ]
    },
    {
      "cell_type": "code",
      "execution_count": 29,
      "metadata": {
        "colab": {
          "base_uri": "https://localhost:8080/"
        },
        "id": "4QN4wPX0VAAb",
        "outputId": "a1edc926-1970-4269-d5fa-94b2078b1376"
      },
      "outputs": [
        {
          "output_type": "stream",
          "name": "stdout",
          "text": [
            "step 0: 0\n",
            "w:  [0.02458846 0.23310266]\n",
            "b:  -0.39207942515442473\n",
            "y_pred: [ 1.20469996  0.28499978 -0.42222219  1.45612775  1.07120236 -0.30260564\n",
            "  0.77830649  0.29506625  0.5304082   0.50049323  0.09355946  0.77769704\n",
            " -0.01485564  0.09425106 -0.07071401 -0.13239405  0.83872671  1.08291122\n",
            "  0.19497905  0.96375326 -0.12010878  0.99255564  0.63913456  0.66962812\n",
            "  0.15926093  0.77752157 -0.01553222  0.96658686  0.9391938   0.74746375\n",
            "  0.59575529  0.68621219 -0.38144613  0.09437225 -0.02169472  1.30632609\n",
            "  1.00085056  0.56510532  0.39970473  0.10438264 -0.13607573 -0.29084615\n",
            " -0.04668092  0.94879555 -0.17753989  0.72671085  0.74029298  0.88278254\n",
            "  0.01827452  1.16141138  0.85910218  0.01777626 -0.45729722 -0.19092406\n",
            "  0.21457879  1.15430501  0.83421287  1.36910914  0.69913001  1.11095677\n",
            "  0.75343117  0.60353166  0.66243691  0.82616657  0.54072803 -0.50863565\n",
            "  0.0263966   0.86017393 -0.0657727   0.91315464 -0.23761033  0.02647363\n",
            "  1.23739297 -0.10466951  0.10285449  0.77935156 -0.10174245  0.95755442\n",
            "  0.26784309  1.10554168 -0.03249976 -0.05148808  0.02592355  0.27395277\n",
            "  0.98837449  0.1648439   0.81436577  0.05024683  0.75755628  0.77459929\n",
            "  1.147128   -0.79374962  0.11389162  0.14016502  0.47075528 -0.49689297\n",
            "  0.75527434  0.60104231  0.16471772  0.35663204]\n"
          ]
        }
      ],
      "source": [
        "#PUT YOUR CODE HERE\n",
        "D = x.shape[1]\n",
        "w = 2 * np.random.random(D)-1\n",
        "b = 2 * np.random.random()-1\n",
        "\n",
        "learning_rate = 1e-3\n",
        "\n",
        "for step in range(101):\n",
        "    cost = 0\n",
        "    for x_n, y_n in zip(x, y):\n",
        "        y_pred = np.dot(x_n, w) + b\n",
        "        #y_pred = np.where(y_pred > 0, 1, 0) # a função de ativação já é linear f(x) = x\n",
        "        error = y_n - y_pred\n",
        "        w = w + learning_rate * np.dot(error, x_n)\n",
        "        b = b + learning_rate * error\n",
        "        cost += cost ** 2\n",
        "    if step%200 == 0:\n",
        "        print(\"step {0}: {1}\".format(step, cost))\n",
        "\n",
        "print('w: ', w)\n",
        "print('b: ', b)\n",
        "print('y_pred: {0}'.format(np.dot(x, w) + b))"
      ]
    },
    {
      "cell_type": "code",
      "execution_count": null,
      "metadata": {
        "id": "tlHkYZ2LV_du"
      },
      "outputs": [],
      "source": [
        "#PUT YOUR CODE HERE"
      ]
    },
    {
      "cell_type": "markdown",
      "metadata": {
        "id": "dCoqjMbJbNa_"
      },
      "source": [
        "## Exercício de Classificação\n"
      ]
    },
    {
      "cell_type": "code",
      "execution_count": 31,
      "metadata": {
        "colab": {
          "base_uri": "https://localhost:8080/",
          "height": 465
        },
        "id": "AUOmxveJY6mE",
        "outputId": "c21b1382-78f2-4407-e18b-65b3ff0f92af"
      },
      "outputs": [
        {
          "output_type": "stream",
          "name": "stdout",
          "text": [
            "(100, 2) (100,)\n"
          ]
        },
        {
          "output_type": "execute_result",
          "data": {
            "text/plain": [
              "<matplotlib.collections.PathCollection at 0x7d09d1039360>"
            ]
          },
          "metadata": {},
          "execution_count": 31
        },
        {
          "output_type": "display_data",
          "data": {
            "text/plain": [
              "<Figure size 640x480 with 1 Axes>"
            ],
            "image/png": "[encoded data removed]"
          },
          "metadata": {}
        }
      ],
      "source": [
        "x, y = make_blobs(n_samples=100, n_features=2, centers=2, random_state=1234)\n",
        "\n",
        "print(x.shape, y.shape)\n",
        "plt.scatter(x[:,0], x[:,1], c=y.ravel(), cmap='bwr')"
      ]
    },
    {
      "cell_type": "code",
      "execution_count": 32,
      "metadata": {
        "id": "YQ_j__8-bP0g"
      },
      "outputs": [],
      "source": [
        "def plot_linear_classifier(x, y, w, b):\n",
        "    x1_min, x1_max = x[:,0].min(), x[:,0].max()\n",
        "    x2_min, x2_max = x[:,1].min(), x[:,1].max()\n",
        "\n",
        "    x1, x2 = np.meshgrid(np.linspace(x1_min-1, x1_max+1,100), np.linspace(x2_min-1, x2_max+1, 100))\n",
        "    x_mesh = np.array([x1.ravel(), x2.ravel()]).T\n",
        "\n",
        "    plt.scatter(x[:,0], x[:,1], c=y.ravel(), cmap='bwr')\n",
        "\n",
        "    y_mesh = np.dot(x_mesh, np.array(w).reshape(1, -1).T) + b\n",
        "    y_mesh = np.where(y_mesh < 0.5, 0, 1)\n",
        "\n",
        "    plt.contourf(x1, x2, y_mesh.reshape(x1.shape), cmap='bwr', alpha=0.5)\n",
        "    plt.xlim(x1_min-1, x1_max+1)\n",
        "    plt.ylim(x2_min-1, x2_max+1)"
      ]
    },
    {
      "cell_type": "code",
      "execution_count": 33,
      "metadata": {
        "colab": {
          "base_uri": "https://localhost:8080/"
        },
        "id": "z7UBA97nbuWd",
        "outputId": "2470755d-4067-469f-a505-1738df3629fc"
      },
      "outputs": [
        {
          "output_type": "stream",
          "name": "stdout",
          "text": [
            "step 0: 0\n",
            "step 200: 0\n",
            "step 400: 0\n",
            "step 600: 0\n",
            "step 800: 0\n",
            "step 1000: 0\n",
            "w:  [0.13947153 0.08181954]\n",
            "b:  0.6712842349281214\n",
            "y_pred: [ 0.88439069  0.25217461 -0.02179977  1.14112669  0.96296558  0.06831365\n",
            "  0.93967883  0.24230237  0.94667221  0.91068163  0.20736158  0.64106665\n",
            " -0.13101703  0.13358872 -0.00162625 -0.07131771  1.04468184  1.11687106\n",
            "  0.09782841  0.86821005 -0.18035861  0.90498976  1.03051181  0.91872217\n",
            "  0.08287569  0.90936137  0.03651041  1.06749345  0.86312901  0.97854444\n",
            "  0.73231239  0.84491594 -0.04383097 -0.0172616  -0.07768012  0.83163494\n",
            "  1.00340936  0.79006874  0.21598627  0.10419627 -0.18058048  0.00961806\n",
            "  0.00159978  1.01032277 -0.0282282   0.99295073  0.74937075  0.893787\n",
            "  0.12109129  1.17823082  0.96577277 -0.03580417 -0.15411615  0.20033863\n",
            " -0.01729756  1.14282073  1.08325466  1.23329288  0.97503605  1.01481468\n",
            "  1.08806118  0.32363375  0.68572262  0.87322081  0.55471911 -0.04160144\n",
            " -0.00696578  0.9211899  -0.0109724   1.01403813 -0.05203843  0.11780353\n",
            "  1.14364208 -0.02510188  0.09081937  0.8173033   0.07842485  0.75922965\n",
            "  0.07172274  1.09891308 -0.19317565  0.15606307  0.05708689  0.19822858\n",
            "  1.27073716  0.15166976  1.08576914  0.10199285  0.87934857  0.94523319\n",
            "  0.82153951 -0.21617899 -0.06112355  0.00575604  0.04571147 -0.17068946\n",
            "  0.86924097  1.02339826  0.09758518  0.16228235]\n"
          ]
        }
      ],
      "source": [
        "#PUT YOUR CODE HERE\n",
        "D = x.shape[1]\n",
        "w = 2 * np.random.random(D)-1\n",
        "b = 2 * np.random.random()-1\n",
        "\n",
        "learning_rate = 1e-3\n",
        "\n",
        "for step in range(1001):\n",
        "    cost = 0\n",
        "    for x_n, y_n in zip(x, y):\n",
        "        y_pred = np.dot(x_n, w) + b\n",
        "        #y_pred = np.where(y_pred > 0, 1, 0) # a função de ativação já é linear f(x) = x\n",
        "        error = y_n - y_pred\n",
        "        w = w + learning_rate * np.dot(error, x_n)\n",
        "        b = b + learning_rate * error\n",
        "        cost += cost ** 2\n",
        "    if step%200 == 0:\n",
        "        print(\"step {0}: {1}\".format(step, cost))\n",
        "\n",
        "print('w: ', w)\n",
        "print('b: ', b)\n",
        "print('y_pred: {0}'.format(np.dot(x, w) + b))"
      ]
    },
    {
      "cell_type": "code",
      "execution_count": null,
      "metadata": {
        "id": "fQf-8mZzbw-X"
      },
      "outputs": [],
      "source": [
        "#PUT YOUR CODE HERE"
      ]
    },
    {
      "cell_type": "code",
      "execution_count": 34,
      "metadata": {
        "colab": {
          "base_uri": "https://localhost:8080/",
          "height": 430
        },
        "id": "2zojwKMJcDxM",
        "outputId": "d64aae03-8571-47c2-e337-3547768fccb5"
      },
      "outputs": [
        {
          "output_type": "display_data",
          "data": {
            "text/plain": [
              "<Figure size 640x480 with 1 Axes>"
            ],
            "image/png": "[encoded data removed]"
          },
          "metadata": {}
        }
      ],
      "source": [
        "plot_linear_classifier(x, y, w, b)"
      ]
    },
    {
      "cell_type": "markdown",
      "metadata": {
        "id": "8uH0NOYYcUgc"
      },
      "source": [
        "# Perceptron Regressão linear"
      ]
    },
    {
      "cell_type": "markdown",
      "metadata": {
        "id": "OsH2FJKEcdnK"
      },
      "source": [
        "Para transformar o Perceptron em um __regressor linear__, só o que temos de fazer é __remover a função de ativação _step___, transformando-a em uma função de ativação linear.\n",
        "\n",
        "Apesar dessa modificação, __a fórmula de atualização dos pesos não sofre nenhuma alteração__.\n",
        "\n",
        "Vamos, então, implementar nosso perceptron para classificação em Python, Numpy, Keras e TensorFlow:"
      ]
    },
    {
      "cell_type": "code",
      "execution_count": null,
      "metadata": {
        "id": "nghw_DgzcXMn"
      },
      "outputs": [],
      "source": [
        "df = pd.read_csv('/content/medidas.csv')\n",
        "print(df.shape)\n",
        "df.head(10)"
      ]
    },
    {
      "cell_type": "code",
      "execution_count": null,
      "metadata": {
        "id": "DcQpk36CcsXK"
      },
      "outputs": [],
      "source": [
        "x = df.Altura.values\n",
        "y = df.Peso.values\n",
        "\n",
        "plt.figure()\n",
        "plt.scatter(x, y)\n",
        "plt.xlabel('Altura')\n",
        "plt.ylabel('Peso')"
      ]
    },
    {
      "cell_type": "code",
      "execution_count": null,
      "metadata": {
        "id": "lkZbYowldjEb"
      },
      "outputs": [],
      "source": [
        "print(x.shape, y.shape)"
      ]
    },
    {
      "cell_type": "code",
      "execution_count": null,
      "metadata": {
        "id": "Ll-E8KHbdkvv"
      },
      "outputs": [],
      "source": [
        "x = x.reshape(-1, 1)\n",
        "\n",
        "print(x.shape, y.shape)"
      ]
    },
    {
      "cell_type": "code",
      "execution_count": null,
      "metadata": {
        "id": "hCLDytuCdqyS"
      },
      "outputs": [],
      "source": [
        "#PUT YOUR CODE HERE"
      ]
    },
    {
      "cell_type": "code",
      "execution_count": null,
      "metadata": {
        "id": "Mi5hAgBIdt3A"
      },
      "outputs": [],
      "source": [
        "# os dados nao estao normalizados peso em kg e altura em m\n",
        "# vamos normalizar\n",
        "minmax = MinMaxScaler(feature_range=(-1,1))\n",
        "x = minmax.fit_transform(x.astype(np.float64))\n",
        "\n",
        "print(x.min(), x.max())"
      ]
    },
    {
      "cell_type": "code",
      "execution_count": null,
      "metadata": {
        "id": "6_gFCFNTfVMO"
      },
      "outputs": [],
      "source": [
        "plt.figure()\n",
        "plt.scatter(x, y)\n",
        "plt.xlabel('Altura')\n",
        "plt.ylabel('Peso')"
      ]
    },
    {
      "cell_type": "code",
      "execution_count": null,
      "metadata": {
        "id": "BlKqU6JefEGM"
      },
      "outputs": [],
      "source": [
        "reg = LinearRegression()\n",
        "reg.fit(x,y)\n",
        "\n",
        "print('w: ', reg.coef_)\n",
        "print('b: ', reg.intercept_)"
      ]
    },
    {
      "cell_type": "code",
      "execution_count": null,
      "metadata": {
        "id": "UHZ5f1jvfGpz"
      },
      "outputs": [],
      "source": [
        "#PUT YOUR CODE HERE"
      ]
    },
    {
      "cell_type": "code",
      "execution_count": null,
      "metadata": {
        "id": "GVdwrzozfk0F"
      },
      "outputs": [],
      "source": [
        "def plot_line(w, b):\n",
        "    plt.figure(0, figsize=(8,8))\n",
        "    plt.subplot(1,1,1)\n",
        "    plt.scatter(x, y)\n",
        "    y_pred = x*w + b\n",
        "    plt.plot(x, y_pred, c='red')\n",
        "    plt.xlim(140, 210)\n",
        "    plt.ylim(40, 120)\n",
        "\n",
        "    plt.subplot(1,1,1)\n",
        "    x_ = np.array([0, x.max()])\n",
        "    y_ = x_*w + b\n",
        "    plt.scatter(x, y)\n",
        "    plt.plot(x_, y_, c='red')\n",
        "    plt.xlim(0, 1)\n",
        "    plt.ylim(-160, 120)\n",
        "\n",
        "    plt.show()"
      ]
    },
    {
      "cell_type": "code",
      "execution_count": null,
      "metadata": {
        "id": "eDPKk0ZvfxNl"
      },
      "outputs": [],
      "source": [
        "plot_line(w, b)"
      ]
    },
    {
      "cell_type": "markdown",
      "metadata": {
        "id": "No-m4_3TglJP"
      },
      "source": [
        "## Exercício"
      ]
    },
    {
      "cell_type": "code",
      "execution_count": null,
      "metadata": {
        "id": "dLaa2tkggo2q"
      },
      "outputs": [],
      "source": [
        "df = pd.read_csv('/content/notas.csv')\n",
        "\n",
        "print(df.shape)\n",
        "df.head(10)"
      ]
    },
    {
      "cell_type": "code",
      "execution_count": null,
      "metadata": {
        "id": "p3RWQdGUgxdw"
      },
      "outputs": [],
      "source": [
        "plt.figure(figsize=(20, 4))\n",
        "\n",
        "plt.subplot(1, 3, 1)\n",
        "plt.scatter(df.prova1.values, df.final.values)\n",
        "plt.xlabel('Prova 1')\n",
        "plt.ylabel('Final')\n",
        "\n",
        "plt.subplot(1, 3, 2)\n",
        "plt.scatter(df.prova2.values, df.final.values)\n",
        "plt.xlabel('Prova 2')\n",
        "plt.ylabel('Final')\n",
        "\n",
        "plt.subplot(1, 3, 3)\n",
        "plt.scatter(df.prova3.values, df.final.values)\n",
        "plt.xlabel('Prova 3')\n",
        "plt.ylabel('Final')"
      ]
    },
    {
      "cell_type": "code",
      "execution_count": null,
      "metadata": {
        "id": "aTXgJjN8g1Ij"
      },
      "outputs": [],
      "source": [
        "x = df[['prova1', 'prova2', 'prova3']].values\n",
        "y = df['final'].values\n",
        "\n",
        "print(x.shape, y.shape)"
      ]
    },
    {
      "cell_type": "code",
      "execution_count": null,
      "metadata": {
        "id": "2EVTWBCUg3jA"
      },
      "outputs": [],
      "source": [
        "minmax = MinMaxScaler(feature_range=(-1,1))\n",
        "x = minmax.fit_transform(x.astype(np.float64))"
      ]
    },
    {
      "cell_type": "code",
      "execution_count": null,
      "metadata": {
        "id": "bYbI1Yzqg5Lw"
      },
      "outputs": [],
      "source": [
        "reg = LinearRegression()\n",
        "reg.fit(x, y)\n",
        "\n",
        "print('w: ', reg.coef_)\n",
        "print('b: ', reg.intercept_)"
      ]
    },
    {
      "cell_type": "code",
      "execution_count": null,
      "metadata": {
        "id": "4WKgn2zNg7eJ"
      },
      "outputs": [],
      "source": [
        "#PUT YOUR CODE HERE"
      ]
    }
  ],
  "metadata": {
    "colab": {
      "provenance": [],
      "include_colab_link": true
    },
    "kernelspec": {
      "display_name": "Python 3",
      "name": "python3"
    },
    "language_info": {
      "name": "python"
    }
  },
  "nbformat": 4,
  "nbformat_minor": 0
}