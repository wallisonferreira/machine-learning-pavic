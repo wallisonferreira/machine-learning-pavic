{
  "nbformat": 4,
  "nbformat_minor": 0,
  "metadata": {
    "colab": {
      "provenance": [],
      "gpuType": "T4",
      "authorship_tag": "ABX9TyOLowQYsmR2WlMfgsgk3Zjn",
      "include_colab_link": true
    },
    "kernelspec": {
      "name": "python3",
      "display_name": "Python 3"
    },
    "language_info": {
      "name": "python"
    },
    "accelerator": "GPU"
  },
  "cells": [
    {
      "cell_type": "markdown",
      "metadata": {
        "id": "view-in-github",
        "colab_type": "text"
      },
      "source": [
        "<a href=\"https://colab.research.google.com/github/wallisonferreira/machine-learning-pavic/blob/main/PAVIC_ML_13_PT_autoencoders.ipynb\" target=\"_parent\"><img src=\"https://colab.research.google.com/assets/colab-badge.svg\" alt=\"Open In Colab\"/></a>"
      ]
    },
    {
      "cell_type": "markdown",
      "source": [
        "# Auto Encoders:\n",
        "\n",
        "Compactação de imagens"
      ],
      "metadata": {
        "id": "qpvm6MP8sYrM"
      }
    },
    {
      "cell_type": "markdown",
      "source": [
        "## Step 1: import libs"
      ],
      "metadata": {
        "id": "XGXO4v8dsezD"
      }
    },
    {
      "cell_type": "code",
      "execution_count": 1,
      "metadata": {
        "colab": {
          "base_uri": "https://localhost:8080/"
        },
        "id": "dNU3B4loragR",
        "outputId": "ee30de55-9fca-4272-aa37-4e5f45b3ee57"
      },
      "outputs": [
        {
          "output_type": "execute_result",
          "data": {
            "text/plain": [
              "<torch._C.Generator at 0x7a3705741310>"
            ]
          },
          "metadata": {},
          "execution_count": 1
        }
      ],
      "source": [
        "from torchvision import datasets, transforms\n",
        "import torch\n",
        "from torch import nn, optim\n",
        "import matplotlib.pyplot as plt\n",
        "\n",
        "torch.manual_seed(123)"
      ]
    },
    {
      "cell_type": "markdown",
      "source": [
        "## Step 2: Dataset"
      ],
      "metadata": {
        "id": "7pQKrZpZs4L9"
      }
    },
    {
      "cell_type": "code",
      "source": [
        "dataset_train = datasets.MNIST('MNIST_data',\n",
        "                               train=True,\n",
        "                               download=True,\n",
        "                               transform = transforms.ToTensor()) # 28 x 28 escala de cinza\n",
        "\n",
        "train_dataloader = torch.utils.data.DataLoader(dataset_train,\n",
        "                                               batch_size=256,\n",
        "                                               shuffle=True)"
      ],
      "metadata": {
        "colab": {
          "base_uri": "https://localhost:8080/"
        },
        "id": "ld9SEe6as6Ud",
        "outputId": "e7a23ae3-937e-44ae-8365-0b8ce9749ef5"
      },
      "execution_count": 2,
      "outputs": [
        {
          "output_type": "stream",
          "name": "stdout",
          "text": [
            "Downloading http://yann.lecun.com/exdb/mnist/train-images-idx3-ubyte.gz\n",
            "Downloading http://yann.lecun.com/exdb/mnist/train-images-idx3-ubyte.gz to MNIST_data/MNIST/raw/train-images-idx3-ubyte.gz\n"
          ]
        },
        {
          "output_type": "stream",
          "name": "stderr",
          "text": [
            "100%|██████████| 9912422/9912422 [00:00<00:00, 115991036.81it/s]\n"
          ]
        },
        {
          "output_type": "stream",
          "name": "stdout",
          "text": [
            "Extracting MNIST_data/MNIST/raw/train-images-idx3-ubyte.gz to MNIST_data/MNIST/raw\n",
            "\n",
            "Downloading http://yann.lecun.com/exdb/mnist/train-labels-idx1-ubyte.gz\n",
            "Downloading http://yann.lecun.com/exdb/mnist/train-labels-idx1-ubyte.gz to MNIST_data/MNIST/raw/train-labels-idx1-ubyte.gz\n"
          ]
        },
        {
          "output_type": "stream",
          "name": "stderr",
          "text": [
            "100%|██████████| 28881/28881 [00:00<00:00, 41499038.65it/s]\n"
          ]
        },
        {
          "output_type": "stream",
          "name": "stdout",
          "text": [
            "Extracting MNIST_data/MNIST/raw/train-labels-idx1-ubyte.gz to MNIST_data/MNIST/raw\n",
            "\n",
            "Downloading http://yann.lecun.com/exdb/mnist/t10k-images-idx3-ubyte.gz\n",
            "Downloading http://yann.lecun.com/exdb/mnist/t10k-images-idx3-ubyte.gz to MNIST_data/MNIST/raw/t10k-images-idx3-ubyte.gz\n"
          ]
        },
        {
          "output_type": "stream",
          "name": "stderr",
          "text": [
            "100%|██████████| 1648877/1648877 [00:00<00:00, 42559593.58it/s]\n"
          ]
        },
        {
          "output_type": "stream",
          "name": "stdout",
          "text": [
            "Extracting MNIST_data/MNIST/raw/t10k-images-idx3-ubyte.gz to MNIST_data/MNIST/raw\n",
            "\n",
            "Downloading http://yann.lecun.com/exdb/mnist/t10k-labels-idx1-ubyte.gz\n",
            "Downloading http://yann.lecun.com/exdb/mnist/t10k-labels-idx1-ubyte.gz to MNIST_data/MNIST/raw/t10k-labels-idx1-ubyte.gz\n"
          ]
        },
        {
          "output_type": "stream",
          "name": "stderr",
          "text": [
            "100%|██████████| 4542/4542 [00:00<00:00, 2217498.40it/s]\n"
          ]
        },
        {
          "output_type": "stream",
          "name": "stdout",
          "text": [
            "Extracting MNIST_data/MNIST/raw/t10k-labels-idx1-ubyte.gz to MNIST_data/MNIST/raw\n",
            "\n"
          ]
        }
      ]
    },
    {
      "cell_type": "code",
      "source": [
        "dataset_val = datasets.MNIST('MNIST_data',\n",
        "                               train=False,\n",
        "                               download=True,\n",
        "                               transform = transforms.ToTensor()) # 28 x 28 escala de cinza\n",
        "\n",
        "val_dataloader = torch.utils.data.DataLoader(dataset_val,\n",
        "                                               batch_size=256,\n",
        "                                               shuffle=True)"
      ],
      "metadata": {
        "id": "IlfThFJ9ty4-"
      },
      "execution_count": 3,
      "outputs": []
    },
    {
      "cell_type": "markdown",
      "source": [
        "## Step 3: criar o autoencoder"
      ],
      "metadata": {
        "id": "nN1dnvqwuCKj"
      }
    },
    {
      "cell_type": "code",
      "source": [
        "class autoencoder(nn.Module):\n",
        "    def __init__(self):\n",
        "        super().__init__()\n",
        "        self.dense0 = nn.Linear(784, 32)\n",
        "        self.activation0 = nn.ReLU()\n",
        "        self.dense1 = nn.Linear(32, 784)\n",
        "        self.activation1 = nn.Sigmoid()\n",
        "\n",
        "    def forward(self, x):\n",
        "        x = x.view(-1, 28*28)\n",
        "        x = self.dense0(x) # 784 -> 32 (encode)\n",
        "        x = self.activation0(x)\n",
        "        x = self.dense1(x) # 32 -> 784 (decode)\n",
        "        x = self.activation1(x)\n",
        "        return x"
      ],
      "metadata": {
        "id": "JB9Sy4smuBwD"
      },
      "execution_count": 17,
      "outputs": []
    },
    {
      "cell_type": "code",
      "source": [
        "device = 'cuda' if torch.cuda.is_available() else 'cpu'"
      ],
      "metadata": {
        "id": "Hu7DkREow7Cc"
      },
      "execution_count": 5,
      "outputs": []
    },
    {
      "cell_type": "code",
      "source": [
        "model = autoencoder().to(device)"
      ],
      "metadata": {
        "id": "_HxBvMTHxCjk"
      },
      "execution_count": 19,
      "outputs": []
    },
    {
      "cell_type": "code",
      "source": [
        "loss_fn = nn.BCELoss() # função de custo: binary crossentropy\n",
        "optimizer = optim.Adam(model.parameters())"
      ],
      "metadata": {
        "id": "dZsf0Km-xPoB"
      },
      "execution_count": 22,
      "outputs": []
    },
    {
      "cell_type": "markdown",
      "source": [
        "## Step 4: Treinamento do autoencoder"
      ],
      "metadata": {
        "id": "b3wlRWidxd5F"
      }
    },
    {
      "cell_type": "code",
      "source": [
        "for epoch in range(20):\n",
        "\n",
        "    running_loss_train = 0\n",
        "    for data in train_dataloader:\n",
        "        model.train() # seta o modelo para o modo de treinamento\n",
        "        inputs, _ = data\n",
        "        inputs = inputs.to(device)\n",
        "        optimizer.zero_grad()\n",
        "        outputs = model(inputs)\n",
        "\n",
        "        loss = loss_fn(outputs, inputs.view(*outputs.shape))\n",
        "        loss.backward()\n",
        "        optimizer.step()\n",
        "\n",
        "        running_loss_train += loss.item()\n",
        "\n",
        "    running_loss_val = 0.\n",
        "    for data in val_dataloader:\n",
        "        model.eval()\n",
        "        with torch.inference_mode():\n",
        "            inputs, _ = data\n",
        "            inputs = inputs.to(device)\n",
        "            outputs = model(inputs)\n",
        "        loss = loss_fn(outputs, inputs.view(*outputs.shape))\n",
        "        running_loss_val += loss.item()\n",
        "\n",
        "    print(f\"Epoch: {epoch + 1}  \"\n",
        "          f\"train_loss: {running_loss_train/len(train_dataloader):.3f} \"\n",
        "          f\"Val_loss: {running_loss_val/len(val_dataloader):.3f}\")"
      ],
      "metadata": {
        "colab": {
          "base_uri": "https://localhost:8080/"
        },
        "id": "7Pwi5rhhxPh5",
        "outputId": "7a9ebe8b-a7c3-40aa-bf3f-a482beb4dfb3"
      },
      "execution_count": 23,
      "outputs": [
        {
          "output_type": "stream",
          "name": "stdout",
          "text": [
            "Epoch: 1  train_loss: 0.288 Val_loss: 0.192\n",
            "Epoch: 2  train_loss: 0.175 Val_loss: 0.158\n",
            "Epoch: 3  train_loss: 0.150 Val_loss: 0.140\n",
            "Epoch: 4  train_loss: 0.135 Val_loss: 0.128\n",
            "Epoch: 5  train_loss: 0.126 Val_loss: 0.120\n",
            "Epoch: 6  train_loss: 0.120 Val_loss: 0.115\n",
            "Epoch: 7  train_loss: 0.115 Val_loss: 0.111\n",
            "Epoch: 8  train_loss: 0.111 Val_loss: 0.107\n",
            "Epoch: 9  train_loss: 0.108 Val_loss: 0.105\n",
            "Epoch: 10  train_loss: 0.106 Val_loss: 0.104\n",
            "Epoch: 11  train_loss: 0.105 Val_loss: 0.103\n",
            "Epoch: 12  train_loss: 0.104 Val_loss: 0.103\n",
            "Epoch: 13  train_loss: 0.104 Val_loss: 0.102\n",
            "Epoch: 14  train_loss: 0.103 Val_loss: 0.102\n",
            "Epoch: 15  train_loss: 0.103 Val_loss: 0.101\n",
            "Epoch: 16  train_loss: 0.103 Val_loss: 0.101\n",
            "Epoch: 17  train_loss: 0.103 Val_loss: 0.101\n",
            "Epoch: 18  train_loss: 0.102 Val_loss: 0.101\n",
            "Epoch: 19  train_loss: 0.102 Val_loss: 0.101\n",
            "Epoch: 20  train_loss: 0.102 Val_loss: 0.101\n"
          ]
        }
      ]
    },
    {
      "cell_type": "markdown",
      "source": [
        "## Step 5: Gerando o Encoder"
      ],
      "metadata": {
        "id": "LelTC9gU2f5R"
      }
    },
    {
      "cell_type": "code",
      "source": [
        "list(model.children())"
      ],
      "metadata": {
        "colab": {
          "base_uri": "https://localhost:8080/"
        },
        "id": "e_AOCric2kiD",
        "outputId": "1fa13227-c546-41f6-f3a1-e239479f7057"
      },
      "execution_count": 25,
      "outputs": [
        {
          "output_type": "execute_result",
          "data": {
            "text/plain": [
              "[Linear(in_features=784, out_features=32, bias=True),\n",
              " ReLU(),\n",
              " Linear(in_features=32, out_features=784, bias=True),\n",
              " Sigmoid()]"
            ]
          },
          "metadata": {},
          "execution_count": 25
        }
      ]
    },
    {
      "cell_type": "code",
      "source": [
        "class encoder(nn.Module):\n",
        "    def __init__(self):\n",
        "        super().__init__()\n",
        "        self.dense0 = list(model.children())[0]\n",
        "        self.activation0 = list(model.children())[1]\n",
        "    def forward(self, x):\n",
        "        x = x.view(-1, 28*28)\n",
        "        x = self.dense0(x)\n",
        "        x = self.activation0(x)\n",
        "        return x"
      ],
      "metadata": {
        "id": "L5tsf5WP21Lb"
      },
      "execution_count": 26,
      "outputs": []
    },
    {
      "cell_type": "code",
      "source": [
        "model1 = encoder().to(device)"
      ],
      "metadata": {
        "id": "XHRU3_Dy3dyS"
      },
      "execution_count": 27,
      "outputs": []
    },
    {
      "cell_type": "markdown",
      "source": [
        "## Step 6: Gerando o decoder"
      ],
      "metadata": {
        "id": "b79TF_sc3jog"
      }
    },
    {
      "cell_type": "code",
      "source": [
        "class decoder(nn.Module):\n",
        "    def __init__(self):\n",
        "        super().__init__()\n",
        "        self.dense0 = list(model.children())[2]\n",
        "        self.activation0 = list(model.children())[3]\n",
        "\n",
        "    def forward(self, x):\n",
        "        x = self.dense0(x)\n",
        "        x = self.activation0(x)\n",
        "        return x"
      ],
      "metadata": {
        "id": "-eb3MxE_3mx4"
      },
      "execution_count": 28,
      "outputs": []
    },
    {
      "cell_type": "code",
      "source": [
        "model2 = decoder().to(device)"
      ],
      "metadata": {
        "id": "z3WtZ5Fx4JUJ"
      },
      "execution_count": 29,
      "outputs": []
    },
    {
      "cell_type": "markdown",
      "source": [
        "## Step 7: Visualizar os resultados"
      ],
      "metadata": {
        "id": "KTnTDDU44arc"
      }
    },
    {
      "cell_type": "code",
      "source": [
        "numero_imagens = 10\n",
        "imagens_teste = next(iter(val_dataloader))[0][:numero_imagens]\n",
        "imagens_teste = imagens_teste.to(device)"
      ],
      "metadata": {
        "id": "JkU_zrcP4e_b"
      },
      "execution_count": 46,
      "outputs": []
    },
    {
      "cell_type": "code",
      "source": [
        "imagens_teste.shape"
      ],
      "metadata": {
        "colab": {
          "base_uri": "https://localhost:8080/"
        },
        "id": "2DLZkh0F4-L0",
        "outputId": "1b8b1b2c-9f38-4421-fda3-2e1f678184be"
      },
      "execution_count": 31,
      "outputs": [
        {
          "output_type": "execute_result",
          "data": {
            "text/plain": [
              "torch.Size([10, 1, 28, 28])"
            ]
          },
          "metadata": {},
          "execution_count": 31
        }
      ]
    },
    {
      "cell_type": "code",
      "source": [
        "# codificação das imagens de teste - model1\n",
        "model1.eval()\n",
        "with torch.inference_mode():\n",
        "    imagens_codificadas = model1(imagens_teste)"
      ],
      "metadata": {
        "id": "lvCPF3EG5AvC"
      },
      "execution_count": 47,
      "outputs": []
    },
    {
      "cell_type": "code",
      "source": [
        "imagens_codificadas.shape # codificado para 32"
      ],
      "metadata": {
        "colab": {
          "base_uri": "https://localhost:8080/"
        },
        "id": "839OmUbM5ait",
        "outputId": "e8ea643d-56b6-4107-b66b-0088ad4d9d39"
      },
      "execution_count": 39,
      "outputs": [
        {
          "output_type": "execute_result",
          "data": {
            "text/plain": [
              "(10, 8, 4)"
            ]
          },
          "metadata": {},
          "execution_count": 39
        }
      ]
    },
    {
      "cell_type": "code",
      "source": [
        "# decodificação das imagens\n",
        "model2.eval()\n",
        "with torch.inference_mode():\n",
        "    imagens_decodificadas = model2(imagens_codificadas)"
      ],
      "metadata": {
        "id": "4MiCbEJ15i2l"
      },
      "execution_count": 48,
      "outputs": []
    },
    {
      "cell_type": "code",
      "source": [
        "imagens_decodificadas.shape # decodificado de volta para 784"
      ],
      "metadata": {
        "colab": {
          "base_uri": "https://localhost:8080/"
        },
        "id": "Qd5ESgda50ZO",
        "outputId": "66a1a2d9-0e7a-4e35-8dde-def1b5a08905"
      },
      "execution_count": 37,
      "outputs": [
        {
          "output_type": "execute_result",
          "data": {
            "text/plain": [
              "torch.Size([10, 784])"
            ]
          },
          "metadata": {},
          "execution_count": 37
        }
      ]
    },
    {
      "cell_type": "code",
      "source": [
        "imagens_teste = imagens_teste.detach().cpu().numpy().reshape(-1, 28, 28)\n",
        "imagens_codificadas = imagens_codificadas.detach().cpu().numpy().reshape(-1, 8, 4) # 8 * 4 = 32\n",
        "imagens_decodificadas = imagens_decodificadas.detach().cpu().numpy().reshape(-1, 28, 28)"
      ],
      "metadata": {
        "id": "A81phq5g6p9U"
      },
      "execution_count": 49,
      "outputs": []
    },
    {
      "cell_type": "markdown",
      "source": [
        "### O decoder preserva as features mais fortes (espaço latente) e, por este motivo o ruído é diminuído na decodificação.\n",
        "\n",
        "### Muito usado em sistemas de recomendação. Ele diminui a dimensionalidade das features e considera o espaço latente."
      ],
      "metadata": {
        "id": "0KxVfH2-9ZBn"
      }
    },
    {
      "cell_type": "code",
      "source": [
        "fig, axes = plt.subplots(nrows=3, ncols=numero_imagens, figsize=(10, 4))\n",
        "for imagens, ax_row in zip([imagens_teste, imagens_codificadas, imagens_decodificadas], axes):\n",
        "    for img, ax in zip(imagens, ax_row):\n",
        "        ax.imshow(img, cmap=\"gray\")\n",
        "        ax.get_xaxis().set_visible(False)\n",
        "        ax.get_yaxis().set_visible(False)"
      ],
      "metadata": {
        "colab": {
          "base_uri": "https://localhost:8080/",
          "height": 320
        },
        "id": "nzShD2q57lNW",
        "outputId": "cfe85b49-661c-4eaf-c8e5-8456cfa312b5"
      },
      "execution_count": 52,
      "outputs": [
        {
          "output_type": "display_data",
          "data": {
            "text/plain": [
              "<Figure size 1000x400 with 30 Axes>"
            ],
            "image/png": "[encoded data removed]"
          },
          "metadata": {}
        }
      ]
    }
  ]
}