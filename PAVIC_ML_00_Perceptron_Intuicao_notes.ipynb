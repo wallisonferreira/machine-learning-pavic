{
  "cells": [
    {
      "cell_type": "markdown",
      "metadata": {
        "id": "Y3tvti5mMWzK"
      },
      "source": [
        "__Objetivos__:\n",
        "- entender como o perceptron funciona intuitivamente, tanto em regressão quanto em classificação."
      ]
    },
    {
      "cell_type": "markdown",
      "metadata": {
        "id": "BIcMEoOHMWzM"
      },
      "source": [
        "# Sumário"
      ]
    },
    {
      "cell_type": "markdown",
      "metadata": {
        "id": "gABMUnEbMWzM"
      },
      "source": [
        "[Regressão](#Regressão)\n",
        "\n",
        "[Classificação](#Classificação)\n",
        "- [Porta AND](#Porta-AND)\n",
        "- [Porta OR](#Porta-OR)\n",
        "- [Porta XOR](#Porta-XOR)\n",
        "'"
      ]
    },
    {
      "cell_type": "markdown",
      "metadata": {
        "id": "kuCIUWDzMWzM"
      },
      "source": [
        "# Imports"
      ]
    },
    {
      "cell_type": "code",
      "execution_count": 1,
      "metadata": {
        "ExecuteTime": {
          "end_time": "2017-09-12T12:19:56.559341Z",
          "start_time": "2017-09-12T12:19:55.344478Z"
        },
        "id": "hbHx8zvhMWzM"
      },
      "outputs": [],
      "source": [
        "import numpy as np\n",
        "import pandas as pd\n",
        "import matplotlib.pyplot as plt\n",
        "import ipywidgets as wg\n",
        "from ipywidgets import interactive, fixed, interact, interact_manual\n",
        "import ipywidgets as widgets\n",
        "%matplotlib inline\n",
        "\n",
        "#! jupyter nbextension enable --py widgetsnbextension --sys-prefix\n",
        "#! restart jupyter notebook"
      ]
    },
    {
      "cell_type": "code",
      "source": [
        "!pip install ipyaladin\n",
        "!jupyter nbextension enable --py widgetsnbextension --sys-prefix\n",
        "!jupyter nbextension enable --py --sys-prefix ipyaladin"
      ],
      "metadata": {
        "id": "NBCWGtE8NTFd",
        "colab": {
          "base_uri": "https://localhost:8080/"
        },
        "outputId": "678a15ce-1401-494b-ddd3-b2161f048c9c"
      },
      "execution_count": 2,
      "outputs": [
        {
          "output_type": "stream",
          "name": "stdout",
          "text": [
            "Requirement already satisfied: ipyaladin in /usr/local/lib/python3.10/dist-packages (0.2.5)\n",
            "Requirement already satisfied: ipywidgets<9,>=8.0.6 in /usr/local/lib/python3.10/dist-packages (from ipyaladin) (8.1.1)\n",
            "Requirement already satisfied: comm>=0.1.3 in /usr/local/lib/python3.10/dist-packages (from ipywidgets<9,>=8.0.6->ipyaladin) (0.1.4)\n",
            "Requirement already satisfied: ipython>=6.1.0 in /usr/local/lib/python3.10/dist-packages (from ipywidgets<9,>=8.0.6->ipyaladin) (7.34.0)\n",
            "Requirement already satisfied: traitlets>=4.3.1 in /usr/local/lib/python3.10/dist-packages (from ipywidgets<9,>=8.0.6->ipyaladin) (5.7.1)\n",
            "Requirement already satisfied: widgetsnbextension~=4.0.9 in /usr/local/lib/python3.10/dist-packages (from ipywidgets<9,>=8.0.6->ipyaladin) (4.0.9)\n",
            "Requirement already satisfied: jupyterlab-widgets~=3.0.9 in /usr/local/lib/python3.10/dist-packages (from ipywidgets<9,>=8.0.6->ipyaladin) (3.0.9)\n",
            "Requirement already satisfied: setuptools>=18.5 in /usr/local/lib/python3.10/dist-packages (from ipython>=6.1.0->ipywidgets<9,>=8.0.6->ipyaladin) (67.7.2)\n",
            "Requirement already satisfied: jedi>=0.16 in /usr/local/lib/python3.10/dist-packages (from ipython>=6.1.0->ipywidgets<9,>=8.0.6->ipyaladin) (0.19.1)\n",
            "Requirement already satisfied: decorator in /usr/local/lib/python3.10/dist-packages (from ipython>=6.1.0->ipywidgets<9,>=8.0.6->ipyaladin) (4.4.2)\n",
            "Requirement already satisfied: pickleshare in /usr/local/lib/python3.10/dist-packages (from ipython>=6.1.0->ipywidgets<9,>=8.0.6->ipyaladin) (0.7.5)\n",
            "Requirement already satisfied: prompt-toolkit!=3.0.0,!=3.0.1,<3.1.0,>=2.0.0 in /usr/local/lib/python3.10/dist-packages (from ipython>=6.1.0->ipywidgets<9,>=8.0.6->ipyaladin) (3.0.39)\n",
            "Requirement already satisfied: pygments in /usr/local/lib/python3.10/dist-packages (from ipython>=6.1.0->ipywidgets<9,>=8.0.6->ipyaladin) (2.16.1)\n",
            "Requirement already satisfied: backcall in /usr/local/lib/python3.10/dist-packages (from ipython>=6.1.0->ipywidgets<9,>=8.0.6->ipyaladin) (0.2.0)\n",
            "Requirement already satisfied: matplotlib-inline in /usr/local/lib/python3.10/dist-packages (from ipython>=6.1.0->ipywidgets<9,>=8.0.6->ipyaladin) (0.1.6)\n",
            "Requirement already satisfied: pexpect>4.3 in /usr/local/lib/python3.10/dist-packages (from ipython>=6.1.0->ipywidgets<9,>=8.0.6->ipyaladin) (4.8.0)\n",
            "Requirement already satisfied: parso<0.9.0,>=0.8.3 in /usr/local/lib/python3.10/dist-packages (from jedi>=0.16->ipython>=6.1.0->ipywidgets<9,>=8.0.6->ipyaladin) (0.8.3)\n",
            "Requirement already satisfied: ptyprocess>=0.5 in /usr/local/lib/python3.10/dist-packages (from pexpect>4.3->ipython>=6.1.0->ipywidgets<9,>=8.0.6->ipyaladin) (0.7.0)\n",
            "Requirement already satisfied: wcwidth in /usr/local/lib/python3.10/dist-packages (from prompt-toolkit!=3.0.0,!=3.0.1,<3.1.0,>=2.0.0->ipython>=6.1.0->ipywidgets<9,>=8.0.6->ipyaladin) (0.2.8)\n",
            "Enabling notebook extension jupyter-js-widgets/extension...\n",
            "Paths used for configuration of notebook: \n",
            "    \t/usr/etc/jupyter/nbconfig/notebook.json\n",
            "Paths used for configuration of notebook: \n",
            "    \t\n",
            "      - Validating: \u001b[32mOK\u001b[0m\n",
            "Paths used for configuration of notebook: \n",
            "    \t/usr/etc/jupyter/nbconfig/notebook.json\n",
            "Enabling notebook extension ipyaladin/extension...\n",
            "Paths used for configuration of notebook: \n",
            "    \t/usr/etc/jupyter/nbconfig/notebook.json\n",
            "Paths used for configuration of notebook: \n",
            "    \t\n",
            "      - Validating: \u001b[32mOK\u001b[0m\n",
            "Paths used for configuration of notebook: \n",
            "    \t/usr/etc/jupyter/nbconfig/notebook.json\n"
          ]
        }
      ]
    },
    {
      "cell_type": "markdown",
      "metadata": {
        "id": "EXtU4QS-MWzN"
      },
      "source": [
        "# Regressão"
      ]
    },
    {
      "cell_type": "code",
      "execution_count": 3,
      "metadata": {
        "ExecuteTime": {
          "end_time": "2017-09-12T12:19:58.026525Z",
          "start_time": "2017-09-12T12:19:57.992499Z"
        },
        "colab": {
          "base_uri": "https://localhost:8080/",
          "height": 380
        },
        "id": "NILDNWJvMWzN",
        "outputId": "c3edeae0-fbea-4b65-f4b8-87baa8795530"
      },
      "outputs": [
        {
          "output_type": "stream",
          "name": "stdout",
          "text": [
            "(100, 2)\n"
          ]
        },
        {
          "output_type": "execute_result",
          "data": {
            "text/plain": [
              "   Altura    Peso\n",
              "0     187  109.72\n",
              "1     177   91.09\n",
              "2     180   88.93\n",
              "3     177   89.39\n",
              "4     177   92.02\n",
              "5     183   94.70\n",
              "6     178   83.57\n",
              "7     177   85.19\n",
              "8     183   92.96\n",
              "9     188  108.21"
            ],
            "text/html": [
              "\n",
              "  <div id=\"df-a2a140eb-51a7-4190-815f-4e5fd8fd1be1\" class=\"colab-df-container\">\n",
              "    <div>\n",
              "<style scoped>\n",
              "    .dataframe tbody tr th:only-of-type {\n",
              "        vertical-align: middle;\n",
              "    }\n",
              "\n",
              "    .dataframe tbody tr th {\n",
              "        vertical-align: top;\n",
              "    }\n",
              "\n",
              "    .dataframe thead th {\n",
              "        text-align: right;\n",
              "    }\n",
              "</style>\n",
              "<table border=\"1\" class=\"dataframe\">\n",
              "  <thead>\n",
              "    <tr style=\"text-align: right;\">\n",
              "      <th></th>\n",
              "      <th>Altura</th>\n",
              "      <th>Peso</th>\n",
              "    </tr>\n",
              "  </thead>\n",
              "  <tbody>\n",
              "    <tr>\n",
              "      <th>0</th>\n",
              "      <td>187</td>\n",
              "      <td>109.72</td>\n",
              "    </tr>\n",
              "    <tr>\n",
              "      <th>1</th>\n",
              "      <td>177</td>\n",
              "      <td>91.09</td>\n",
              "    </tr>\n",
              "    <tr>\n",
              "      <th>2</th>\n",
              "      <td>180</td>\n",
              "      <td>88.93</td>\n",
              "    </tr>\n",
              "    <tr>\n",
              "      <th>3</th>\n",
              "      <td>177</td>\n",
              "      <td>89.39</td>\n",
              "    </tr>\n",
              "    <tr>\n",
              "      <th>4</th>\n",
              "      <td>177</td>\n",
              "      <td>92.02</td>\n",
              "    </tr>\n",
              "    <tr>\n",
              "      <th>5</th>\n",
              "      <td>183</td>\n",
              "      <td>94.70</td>\n",
              "    </tr>\n",
              "    <tr>\n",
              "      <th>6</th>\n",
              "      <td>178</td>\n",
              "      <td>83.57</td>\n",
              "    </tr>\n",
              "    <tr>\n",
              "      <th>7</th>\n",
              "      <td>177</td>\n",
              "      <td>85.19</td>\n",
              "    </tr>\n",
              "    <tr>\n",
              "      <th>8</th>\n",
              "      <td>183</td>\n",
              "      <td>92.96</td>\n",
              "    </tr>\n",
              "    <tr>\n",
              "      <th>9</th>\n",
              "      <td>188</td>\n",
              "      <td>108.21</td>\n",
              "    </tr>\n",
              "  </tbody>\n",
              "</table>\n",
              "</div>\n",
              "    <div class=\"colab-df-buttons\">\n",
              "\n",
              "  <div class=\"colab-df-container\">\n",
              "    <button class=\"colab-df-convert\" onclick=\"convertToInteractive('df-a2a140eb-51a7-4190-815f-4e5fd8fd1be1')\"\n",
              "            title=\"Convert this dataframe to an interactive table.\"\n",
              "            style=\"display:none;\">\n",
              "\n",
              "  <svg xmlns=\"http://www.w3.org/2000/svg\" height=\"24px\" viewBox=\"0 -960 960 960\">\n",
              "    <path d=\"M120-120v-720h720v720H120Zm60-500h600v-160H180v160Zm220 220h160v-160H400v160Zm0 220h160v-160H400v160ZM180-400h160v-160H180v160Zm440 0h160v-160H620v160ZM180-180h160v-160H180v160Zm440 0h160v-160H620v160Z\"/>\n",
              "  </svg>\n",
              "    </button>\n",
              "\n",
              "  <style>\n",
              "    .colab-df-container {\n",
              "      display:flex;\n",
              "      gap: 12px;\n",
              "    }\n",
              "\n",
              "    .colab-df-convert {\n",
              "      background-color: #E8F0FE;\n",
              "      border: none;\n",
              "      border-radius: 50%;\n",
              "      cursor: pointer;\n",
              "      display: none;\n",
              "      fill: #1967D2;\n",
              "      height: 32px;\n",
              "      padding: 0 0 0 0;\n",
              "      width: 32px;\n",
              "    }\n",
              "\n",
              "    .colab-df-convert:hover {\n",
              "      background-color: #E2EBFA;\n",
              "      box-shadow: 0px 1px 2px rgba(60, 64, 67, 0.3), 0px 1px 3px 1px rgba(60, 64, 67, 0.15);\n",
              "      fill: #174EA6;\n",
              "    }\n",
              "\n",
              "    .colab-df-buttons div {\n",
              "      margin-bottom: 4px;\n",
              "    }\n",
              "\n",
              "    [theme=dark] .colab-df-convert {\n",
              "      background-color: #3B4455;\n",
              "      fill: #D2E3FC;\n",
              "    }\n",
              "\n",
              "    [theme=dark] .colab-df-convert:hover {\n",
              "      background-color: #434B5C;\n",
              "      box-shadow: 0px 1px 3px 1px rgba(0, 0, 0, 0.15);\n",
              "      filter: drop-shadow(0px 1px 2px rgba(0, 0, 0, 0.3));\n",
              "      fill: #FFFFFF;\n",
              "    }\n",
              "  </style>\n",
              "\n",
              "    <script>\n",
              "      const buttonEl =\n",
              "        document.querySelector('#df-a2a140eb-51a7-4190-815f-4e5fd8fd1be1 button.colab-df-convert');\n",
              "      buttonEl.style.display =\n",
              "        google.colab.kernel.accessAllowed ? 'block' : 'none';\n",
              "\n",
              "      async function convertToInteractive(key) {\n",
              "        const element = document.querySelector('#df-a2a140eb-51a7-4190-815f-4e5fd8fd1be1');\n",
              "        const dataTable =\n",
              "          await google.colab.kernel.invokeFunction('convertToInteractive',\n",
              "                                                    [key], {});\n",
              "        if (!dataTable) return;\n",
              "\n",
              "        const docLinkHtml = 'Like what you see? Visit the ' +\n",
              "          '<a target=\"_blank\" href=https://colab.research.google.com/notebooks/data_table.ipynb>data table notebook</a>'\n",
              "          + ' to learn more about interactive tables.';\n",
              "        element.innerHTML = '';\n",
              "        dataTable['output_type'] = 'display_data';\n",
              "        await google.colab.output.renderOutput(dataTable, element);\n",
              "        const docLink = document.createElement('div');\n",
              "        docLink.innerHTML = docLinkHtml;\n",
              "        element.appendChild(docLink);\n",
              "      }\n",
              "    </script>\n",
              "  </div>\n",
              "\n",
              "\n",
              "<div id=\"df-011407ae-c821-40d6-b4eb-dd3f678d2e9b\">\n",
              "  <button class=\"colab-df-quickchart\" onclick=\"quickchart('df-011407ae-c821-40d6-b4eb-dd3f678d2e9b')\"\n",
              "            title=\"Suggest charts.\"\n",
              "            style=\"display:none;\">\n",
              "\n",
              "<svg xmlns=\"http://www.w3.org/2000/svg\" height=\"24px\"viewBox=\"0 0 24 24\"\n",
              "     width=\"24px\">\n",
              "    <g>\n",
              "        <path d=\"M19 3H5c-1.1 0-2 .9-2 2v14c0 1.1.9 2 2 2h14c1.1 0 2-.9 2-2V5c0-1.1-.9-2-2-2zM9 17H7v-7h2v7zm4 0h-2V7h2v10zm4 0h-2v-4h2v4z\"/>\n",
              "    </g>\n",
              "</svg>\n",
              "  </button>\n",
              "\n",
              "<style>\n",
              "  .colab-df-quickchart {\n",
              "      --bg-color: #E8F0FE;\n",
              "      --fill-color: #1967D2;\n",
              "      --hover-bg-color: #E2EBFA;\n",
              "      --hover-fill-color: #174EA6;\n",
              "      --disabled-fill-color: #AAA;\n",
              "      --disabled-bg-color: #DDD;\n",
              "  }\n",
              "\n",
              "  [theme=dark] .colab-df-quickchart {\n",
              "      --bg-color: #3B4455;\n",
              "      --fill-color: #D2E3FC;\n",
              "      --hover-bg-color: #434B5C;\n",
              "      --hover-fill-color: #FFFFFF;\n",
              "      --disabled-bg-color: #3B4455;\n",
              "      --disabled-fill-color: #666;\n",
              "  }\n",
              "\n",
              "  .colab-df-quickchart {\n",
              "    background-color: var(--bg-color);\n",
              "    border: none;\n",
              "    border-radius: 50%;\n",
              "    cursor: pointer;\n",
              "    display: none;\n",
              "    fill: var(--fill-color);\n",
              "    height: 32px;\n",
              "    padding: 0;\n",
              "    width: 32px;\n",
              "  }\n",
              "\n",
              "  .colab-df-quickchart:hover {\n",
              "    background-color: var(--hover-bg-color);\n",
              "    box-shadow: 0 1px 2px rgba(60, 64, 67, 0.3), 0 1px 3px 1px rgba(60, 64, 67, 0.15);\n",
              "    fill: var(--button-hover-fill-color);\n",
              "  }\n",
              "\n",
              "  .colab-df-quickchart-complete:disabled,\n",
              "  .colab-df-quickchart-complete:disabled:hover {\n",
              "    background-color: var(--disabled-bg-color);\n",
              "    fill: var(--disabled-fill-color);\n",
              "    box-shadow: none;\n",
              "  }\n",
              "\n",
              "  .colab-df-spinner {\n",
              "    border: 2px solid var(--fill-color);\n",
              "    border-color: transparent;\n",
              "    border-bottom-color: var(--fill-color);\n",
              "    animation:\n",
              "      spin 1s steps(1) infinite;\n",
              "  }\n",
              "\n",
              "  @keyframes spin {\n",
              "    0% {\n",
              "      border-color: transparent;\n",
              "      border-bottom-color: var(--fill-color);\n",
              "      border-left-color: var(--fill-color);\n",
              "    }\n",
              "    20% {\n",
              "      border-color: transparent;\n",
              "      border-left-color: var(--fill-color);\n",
              "      border-top-color: var(--fill-color);\n",
              "    }\n",
              "    30% {\n",
              "      border-color: transparent;\n",
              "      border-left-color: var(--fill-color);\n",
              "      border-top-color: var(--fill-color);\n",
              "      border-right-color: var(--fill-color);\n",
              "    }\n",
              "    40% {\n",
              "      border-color: transparent;\n",
              "      border-right-color: var(--fill-color);\n",
              "      border-top-color: var(--fill-color);\n",
              "    }\n",
              "    60% {\n",
              "      border-color: transparent;\n",
              "      border-right-color: var(--fill-color);\n",
              "    }\n",
              "    80% {\n",
              "      border-color: transparent;\n",
              "      border-right-color: var(--fill-color);\n",
              "      border-bottom-color: var(--fill-color);\n",
              "    }\n",
              "    90% {\n",
              "      border-color: transparent;\n",
              "      border-bottom-color: var(--fill-color);\n",
              "    }\n",
              "  }\n",
              "</style>\n",
              "\n",
              "  <script>\n",
              "    async function quickchart(key) {\n",
              "      const quickchartButtonEl =\n",
              "        document.querySelector('#' + key + ' button');\n",
              "      quickchartButtonEl.disabled = true;  // To prevent multiple clicks.\n",
              "      quickchartButtonEl.classList.add('colab-df-spinner');\n",
              "      try {\n",
              "        const charts = await google.colab.kernel.invokeFunction(\n",
              "            'suggestCharts', [key], {});\n",
              "      } catch (error) {\n",
              "        console.error('Error during call to suggestCharts:', error);\n",
              "      }\n",
              "      quickchartButtonEl.classList.remove('colab-df-spinner');\n",
              "      quickchartButtonEl.classList.add('colab-df-quickchart-complete');\n",
              "    }\n",
              "    (() => {\n",
              "      let quickchartButtonEl =\n",
              "        document.querySelector('#df-011407ae-c821-40d6-b4eb-dd3f678d2e9b button');\n",
              "      quickchartButtonEl.style.display =\n",
              "        google.colab.kernel.accessAllowed ? 'block' : 'none';\n",
              "    })();\n",
              "  </script>\n",
              "</div>\n",
              "    </div>\n",
              "  </div>\n"
            ]
          },
          "metadata": {},
          "execution_count": 3
        }
      ],
      "source": [
        "df = pd.read_csv('medidas.csv')\n",
        "print(df.shape)\n",
        "df.head(10)"
      ]
    },
    {
      "cell_type": "code",
      "execution_count": 4,
      "metadata": {
        "ExecuteTime": {
          "end_time": "2017-09-12T12:20:01.271158Z",
          "start_time": "2017-09-12T12:20:00.922905Z"
        },
        "colab": {
          "base_uri": "https://localhost:8080/",
          "height": 466
        },
        "id": "qjsgcVutMWzO",
        "outputId": "6cb66734-dafa-4f2d-f72e-7ac32cc5c221"
      },
      "outputs": [
        {
          "output_type": "execute_result",
          "data": {
            "text/plain": [
              "Text(0, 0.5, 'Peso')"
            ]
          },
          "metadata": {},
          "execution_count": 4
        },
        {
          "output_type": "display_data",
          "data": {
            "text/plain": [
              "<Figure size 640x480 with 1 Axes>"
            ],
            "image/png": "[encoded data removed]"
          },
          "metadata": {}
        }
      ],
      "source": [
        "x = df.Altura\n",
        "y = df.Peso\n",
        "\n",
        "plt.figure()\n",
        "plt.scatter(x, y)\n",
        "plt.xlabel('Altura')\n",
        "plt.ylabel('Peso')"
      ]
    },
    {
      "cell_type": "code",
      "execution_count": 5,
      "metadata": {
        "ExecuteTime": {
          "end_time": "2017-09-12T12:20:55.215232Z",
          "start_time": "2017-09-12T12:20:55.145178Z"
        },
        "id": "_fNngEUPMWzO"
      },
      "outputs": [],
      "source": [
        "def plot_line(w, b):\n",
        "    plt.figure(0, figsize=(20,4))\n",
        "    plt.subplot(1,3,3)\n",
        "    plt.scatter(x, y)\n",
        "    y_pred = x*w + b\n",
        "    plt.plot(x, y_pred, c='red')\n",
        "    plt.xlim(140, 210)\n",
        "    plt.ylim(40, 120)\n",
        "\n",
        "    plt.subplot(1,3,2)\n",
        "    x_ = np.array([0, x.max()])\n",
        "    y_ = x_*w + b\n",
        "    plt.scatter(x, y)\n",
        "    plt.plot(x_, y_, c='red')\n",
        "    plt.xlim(0, 210)\n",
        "    plt.ylim(-160, 120)\n",
        "\n",
        "    plt.subplot(1,3,1)\n",
        "    mse = np.mean((y - y_pred)**2)\n",
        "    loss.append(mse)\n",
        "    plt.plot(loss)\n",
        "    plt.title('Loss')\n",
        "\n",
        "    plt.show()"
      ]
    },
    {
      "cell_type": "code",
      "execution_count": 6,
      "metadata": {
        "ExecuteTime": {
          "end_time": "2017-09-12T12:20:56.782344Z",
          "start_time": "2017-09-12T12:20:55.705578Z"
        },
        "colab": {
          "base_uri": "https://localhost:8080/",
          "height": 291,
          "referenced_widgets": [
            "6c94400a0b564a729d187b015852a583",
            "6292856b0bde45578641706e4ba518af",
            "9a2c06384afe40e6857acd07fb4cf6ff",
            "166a0969533c4bd6beb79cf641ca27ba",
            "075421607e684d14bb175696c8cfa90b",
            "6038295783ba431782c31333f8a2d91b",
            "2d20d008c1094f29b014f9528d6fc7d1",
            "ea66b469ba964a228b36675d1c8d919d",
            "653fd99634954a968499f2a0ca1d17be",
            "7da6945a8b8e4c2bb951062f9eced0a1"
          ]
        },
        "id": "6QrLlxgEMWzO",
        "outputId": "87b90974-a8e7-4dea-e157-42200073adc4"
      },
      "outputs": [
        {
          "output_type": "execute_result",
          "data": {
            "text/plain": [
              "interactive(children=(FloatSlider(value=1.25, description='w', max=1.5, min=1.0, step=0.01), IntSlider(value=-…"
            ],
            "application/vnd.jupyter.widget-view+json": {
              "version_major": 2,
              "version_minor": 0,
              "model_id": "6c94400a0b564a729d187b015852a583"
            }
          },
          "metadata": {},
          "execution_count": 6
        }
      ],
      "source": [
        "loss = []\n",
        "\n",
        "interactive_plot = interactive(plot_line, w=(1, 1.5, 0.01), b=(-200, 0, 1))\n",
        "output = interactive_plot.children[-1]\n",
        "output.layout_height = '350px'\n",
        "interactive_plot"
      ]
    },
    {
      "cell_type": "code",
      "execution_count": 7,
      "metadata": {
        "ExecuteTime": {
          "end_time": "2017-09-12T12:22:03.437838Z",
          "start_time": "2017-09-12T12:21:50.268473Z"
        },
        "colab": {
          "base_uri": "https://localhost:8080/"
        },
        "id": "uTwvryJmMWzO",
        "outputId": "d3e3ae62-917f-421b-ef00-0b1691c7e282"
      },
      "outputs": [
        {
          "output_type": "stream",
          "name": "stdout",
          "text": [
            "w: 1.37 \n",
            "b: -157.47\n"
          ]
        }
      ],
      "source": [
        "from sklearn.linear_model import LinearRegression\n",
        "\n",
        "reg = LinearRegression()\n",
        "reg.fit(x.values.reshape(-1,1), y)\n",
        "print(\"w: {:.2f} \\nb: {:.2f}\".format(reg.coef_[0], reg.intercept_))"
      ]
    },
    {
      "cell_type": "markdown",
      "metadata": {
        "id": "otl5tE40MWzO"
      },
      "source": [
        "# Classificação"
      ]
    },
    {
      "cell_type": "code",
      "source": [
        "!pip install ipympl"
      ],
      "metadata": {
        "id": "ttdJCTt4TaeM",
        "colab": {
          "base_uri": "https://localhost:8080/"
        },
        "outputId": "d435412f-7532-420f-893f-65e1e4b2d956"
      },
      "execution_count": 8,
      "outputs": [
        {
          "output_type": "stream",
          "name": "stdout",
          "text": [
            "Collecting ipympl\n",
            "  Downloading ipympl-0.9.3-py2.py3-none-any.whl (511 kB)\n",
            "\u001b[?25l     \u001b[90m━━━━━━━━━━━━━━━━━━━━━━━━━━━━━━━━━━━━━━━━\u001b[0m \u001b[32m0.0/511.6 kB\u001b[0m \u001b[31m?\u001b[0m eta \u001b[36m-:--:--\u001b[0m\r\u001b[2K     \u001b[91m━━━━━━━━━━━\u001b[0m\u001b[90m╺\u001b[0m\u001b[90m━━━━━━━━━━━━━━━━━━━━━━━━━━━━\u001b[0m \u001b[32m143.4/511.6 kB\u001b[0m \u001b[31m4.2 MB/s\u001b[0m eta \u001b[36m0:00:01\u001b[0m\r\u001b[2K     \u001b[90m━━━━━━━━━━━━━━━━━━━━━━━━━━━━━━━━━━━━━━━━\u001b[0m \u001b[32m511.6/511.6 kB\u001b[0m \u001b[31m8.6 MB/s\u001b[0m eta \u001b[36m0:00:00\u001b[0m\n",
            "\u001b[?25hRequirement already satisfied: ipython<9 in /usr/local/lib/python3.10/dist-packages (from ipympl) (7.34.0)\n",
            "Requirement already satisfied: numpy in /usr/local/lib/python3.10/dist-packages (from ipympl) (1.23.5)\n",
            "Requirement already satisfied: ipython-genutils in /usr/local/lib/python3.10/dist-packages (from ipympl) (0.2.0)\n",
            "Requirement already satisfied: pillow in /usr/local/lib/python3.10/dist-packages (from ipympl) (9.4.0)\n",
            "Requirement already satisfied: traitlets<6 in /usr/local/lib/python3.10/dist-packages (from ipympl) (5.7.1)\n",
            "Requirement already satisfied: ipywidgets<9,>=7.6.0 in /usr/local/lib/python3.10/dist-packages (from ipympl) (8.1.1)\n",
            "Requirement already satisfied: matplotlib<4,>=3.4.0 in /usr/local/lib/python3.10/dist-packages (from ipympl) (3.7.1)\n",
            "Requirement already satisfied: setuptools>=18.5 in /usr/local/lib/python3.10/dist-packages (from ipython<9->ipympl) (67.7.2)\n",
            "Requirement already satisfied: jedi>=0.16 in /usr/local/lib/python3.10/dist-packages (from ipython<9->ipympl) (0.19.1)\n",
            "Requirement already satisfied: decorator in /usr/local/lib/python3.10/dist-packages (from ipython<9->ipympl) (4.4.2)\n",
            "Requirement already satisfied: pickleshare in /usr/local/lib/python3.10/dist-packages (from ipython<9->ipympl) (0.7.5)\n",
            "Requirement already satisfied: prompt-toolkit!=3.0.0,!=3.0.1,<3.1.0,>=2.0.0 in /usr/local/lib/python3.10/dist-packages (from ipython<9->ipympl) (3.0.39)\n",
            "Requirement already satisfied: pygments in /usr/local/lib/python3.10/dist-packages (from ipython<9->ipympl) (2.16.1)\n",
            "Requirement already satisfied: backcall in /usr/local/lib/python3.10/dist-packages (from ipython<9->ipympl) (0.2.0)\n",
            "Requirement already satisfied: matplotlib-inline in /usr/local/lib/python3.10/dist-packages (from ipython<9->ipympl) (0.1.6)\n",
            "Requirement already satisfied: pexpect>4.3 in /usr/local/lib/python3.10/dist-packages (from ipython<9->ipympl) (4.8.0)\n",
            "Requirement already satisfied: comm>=0.1.3 in /usr/local/lib/python3.10/dist-packages (from ipywidgets<9,>=7.6.0->ipympl) (0.1.4)\n",
            "Requirement already satisfied: widgetsnbextension~=4.0.9 in /usr/local/lib/python3.10/dist-packages (from ipywidgets<9,>=7.6.0->ipympl) (4.0.9)\n",
            "Requirement already satisfied: jupyterlab-widgets~=3.0.9 in /usr/local/lib/python3.10/dist-packages (from ipywidgets<9,>=7.6.0->ipympl) (3.0.9)\n",
            "Requirement already satisfied: contourpy>=1.0.1 in /usr/local/lib/python3.10/dist-packages (from matplotlib<4,>=3.4.0->ipympl) (1.1.1)\n",
            "Requirement already satisfied: cycler>=0.10 in /usr/local/lib/python3.10/dist-packages (from matplotlib<4,>=3.4.0->ipympl) (0.12.1)\n",
            "Requirement already satisfied: fonttools>=4.22.0 in /usr/local/lib/python3.10/dist-packages (from matplotlib<4,>=3.4.0->ipympl) (4.43.1)\n",
            "Requirement already satisfied: kiwisolver>=1.0.1 in /usr/local/lib/python3.10/dist-packages (from matplotlib<4,>=3.4.0->ipympl) (1.4.5)\n",
            "Requirement already satisfied: packaging>=20.0 in /usr/local/lib/python3.10/dist-packages (from matplotlib<4,>=3.4.0->ipympl) (23.2)\n",
            "Requirement already satisfied: pyparsing>=2.3.1 in /usr/local/lib/python3.10/dist-packages (from matplotlib<4,>=3.4.0->ipympl) (3.1.1)\n",
            "Requirement already satisfied: python-dateutil>=2.7 in /usr/local/lib/python3.10/dist-packages (from matplotlib<4,>=3.4.0->ipympl) (2.8.2)\n",
            "Requirement already satisfied: parso<0.9.0,>=0.8.3 in /usr/local/lib/python3.10/dist-packages (from jedi>=0.16->ipython<9->ipympl) (0.8.3)\n",
            "Requirement already satisfied: ptyprocess>=0.5 in /usr/local/lib/python3.10/dist-packages (from pexpect>4.3->ipython<9->ipympl) (0.7.0)\n",
            "Requirement already satisfied: wcwidth in /usr/local/lib/python3.10/dist-packages (from prompt-toolkit!=3.0.0,!=3.0.1,<3.1.0,>=2.0.0->ipython<9->ipympl) (0.2.8)\n",
            "Requirement already satisfied: six>=1.5 in /usr/local/lib/python3.10/dist-packages (from python-dateutil>=2.7->matplotlib<4,>=3.4.0->ipympl) (1.16.0)\n",
            "Installing collected packages: ipympl\n",
            "Successfully installed ipympl-0.9.3\n"
          ]
        }
      ]
    },
    {
      "cell_type": "code",
      "execution_count": 9,
      "metadata": {
        "ExecuteTime": {
          "end_time": "2017-09-12T12:57:48.364600Z",
          "start_time": "2017-09-12T12:57:48.232507Z"
        },
        "id": "onRRb6BLMWzO"
      },
      "outputs": [],
      "source": [
        "def plot_line(w1, w2, b):\n",
        "    x1, x2 = np.meshgrid(np.linspace(0,1,100), np.linspace(0,1,100))\n",
        "    x_mesh = np.array([x1.ravel(), x2.ravel()]).T\n",
        "\n",
        "    plt.figure(0, figsize=(10,4))\n",
        "    plt.subplot(1,2,2)\n",
        "    plt.scatter(x[:,0], x[:,1], c=y.ravel(), s=100, cmap='bwr')\n",
        "\n",
        "    y_mesh = np.dot(x_mesh, np.array([w1, w2]).T) + b\n",
        "    y_mesh = np.where(y_mesh <= 0, 0, 1)\n",
        "\n",
        "    plt.contourf(x1, x2, y_mesh.reshape(x1.shape), cmap='bwr')\n",
        "\n",
        "    y_pred = np.dot(x, np.array([w1, w2]).T) + b\n",
        "    y_bin = np.where(y_pred <= 0, 0, 1)\n",
        "    print('{0} => {1}'.format(y_pred, y_bin))\n",
        "\n",
        "    plt.subplot(1,2,1)\n",
        "    mse = np.mean((y.ravel() - y_bin)**2)\n",
        "    loss.append(mse)\n",
        "    print('Loss:' ,mse)\n",
        "    plt.scatter(x[:,0], x[:,1], c=y.ravel(), s=100, cmap='bwr')\n",
        "    plt.title('Training...')\n",
        "\n",
        "    plt.show()"
      ]
    },
    {
      "cell_type": "markdown",
      "metadata": {
        "id": "-siABP8FMWzO"
      },
      "source": [
        "### Porta AND"
      ]
    },
    {
      "cell_type": "code",
      "execution_count": 10,
      "metadata": {
        "ExecuteTime": {
          "end_time": "2017-09-12T12:22:17.785319Z",
          "start_time": "2017-09-12T12:22:17.770308Z"
        },
        "colab": {
          "base_uri": "https://localhost:8080/"
        },
        "id": "qeQOL5SBMWzP",
        "outputId": "09a8f251-d377-4fa1-bee0-3e07a6e4a942"
      },
      "outputs": [
        {
          "output_type": "stream",
          "name": "stdout",
          "text": [
            "[[0 0]\n",
            " [0 1]\n",
            " [1 0]\n",
            " [1 1]]\n",
            "[[0]\n",
            " [0]\n",
            " [0]\n",
            " [1]]\n"
          ]
        }
      ],
      "source": [
        "x = np.array([[0, 0], [0, 1], [1, 0], [1, 1]])\n",
        "y = np.array([[0, 0, 0, 1]]).T\n",
        "\n",
        "print(x, y, sep='\\n')"
      ]
    },
    {
      "cell_type": "code",
      "execution_count": 11,
      "metadata": {
        "ExecuteTime": {
          "end_time": "2017-09-12T12:22:20.966580Z",
          "start_time": "2017-09-12T12:22:20.670370Z"
        },
        "colab": {
          "base_uri": "https://localhost:8080/",
          "height": 447
        },
        "id": "bg_CZd8fMWzP",
        "outputId": "e4160ab8-8432-45de-ad29-efb77d6887ce"
      },
      "outputs": [
        {
          "output_type": "execute_result",
          "data": {
            "text/plain": [
              "<matplotlib.collections.PathCollection at 0x79959e3042e0>"
            ]
          },
          "metadata": {},
          "execution_count": 11
        },
        {
          "output_type": "display_data",
          "data": {
            "text/plain": [
              "<Figure size 640x480 with 1 Axes>"
            ],
            "image/png": "[encoded data removed]"
          },
          "metadata": {}
        }
      ],
      "source": [
        "plt.scatter(x[:,0], x[:,1], c=y.ravel(), s=50, cmap='bwr')"
      ]
    },
    {
      "cell_type": "code",
      "execution_count": 12,
      "metadata": {
        "ExecuteTime": {
          "end_time": "2017-09-12T12:57:49.470386Z",
          "start_time": "2017-09-12T12:57:48.796908Z"
        },
        "colab": {
          "base_uri": "https://localhost:8080/",
          "height": 522,
          "referenced_widgets": [
            "b7f0048cea314a80accc757e539f9e0c",
            "32b84cddc5214cbaae24203e9fc8f5c8",
            "dc574581cac242dfa8abe7ac5dd090a0",
            "0481d3f00308409590dd7af66ed7905e",
            "b56e4b4f39a44e50945c60946c52e416",
            "f502a9c973de4855b3b0fcebfbfd718a",
            "be158ddabcca47e8a7b6aba1e1b28595",
            "901e9b77fe5348d8bafe5e5750057923",
            "ee516a906acd4122b88de1e428140e15",
            "5f4e9a4117d2415491bd09398a55afdd",
            "801bfde76a4b4756b08862b474da2000",
            "24bcda6690134d1488d40f274dac14bf",
            "2ad67f68a178444890a40ac97e951994"
          ]
        },
        "id": "yG7CN__gMWzP",
        "outputId": "41319b76-3296-4923-dc72-ee41c42bc4f5"
      },
      "outputs": [
        {
          "output_type": "execute_result",
          "data": {
            "text/plain": [
              "interactive(children=(FloatSlider(value=0.0, description='w1', max=1.0, min=-1.0, step=0.01), FloatSlider(valu…"
            ],
            "application/vnd.jupyter.widget-view+json": {
              "version_major": 2,
              "version_minor": 0,
              "model_id": "b7f0048cea314a80accc757e539f9e0c"
            }
          },
          "metadata": {},
          "execution_count": 12
        }
      ],
      "source": [
        "loss = []\n",
        "interactive_plot = interactive(plot_line, w1=(-1,1,0.01), w2=(-1,1,0.01), b=(-1.5, 1.5, 0.01))\n",
        "interactive_plot"
      ]
    },
    {
      "cell_type": "markdown",
      "metadata": {
        "id": "og8Shnt_MWzP"
      },
      "source": [
        "### Porta OR"
      ]
    },
    {
      "cell_type": "code",
      "execution_count": 13,
      "metadata": {
        "colab": {
          "base_uri": "https://localhost:8080/"
        },
        "id": "XXCAgoQAMWzP",
        "outputId": "feb12e8b-a4a8-4960-d559-c9e9562fad7f"
      },
      "outputs": [
        {
          "output_type": "stream",
          "name": "stdout",
          "text": [
            "[[0 0]\n",
            " [0 1]\n",
            " [1 0]\n",
            " [1 1]]\n",
            "[[0]\n",
            " [1]\n",
            " [1]\n",
            " [1]]\n"
          ]
        }
      ],
      "source": [
        "x = np.array([[0, 0], [0, 1], [1, 0], [1, 1]])\n",
        "y = np.array([[0, 1, 1, 1]]).T\n",
        "\n",
        "print(x, y, sep='\\n')"
      ]
    },
    {
      "cell_type": "code",
      "execution_count": 14,
      "metadata": {
        "colab": {
          "base_uri": "https://localhost:8080/",
          "height": 447
        },
        "id": "k6rvf3YSMWzP",
        "outputId": "ab170279-1855-45ac-c9e8-34af9c056aed"
      },
      "outputs": [
        {
          "output_type": "execute_result",
          "data": {
            "text/plain": [
              "<matplotlib.collections.PathCollection at 0x79959e388970>"
            ]
          },
          "metadata": {},
          "execution_count": 14
        },
        {
          "output_type": "display_data",
          "data": {
            "text/plain": [
              "<Figure size 640x480 with 1 Axes>"
            ],
            "image/png": "[encoded data removed]"
          },
          "metadata": {}
        }
      ],
      "source": [
        "plt.scatter(x[:,0], x[:,1], c=y.ravel(), s=50, cmap='bwr')"
      ]
    },
    {
      "cell_type": "code",
      "execution_count": 15,
      "metadata": {
        "colab": {
          "base_uri": "https://localhost:8080/",
          "height": 522,
          "referenced_widgets": [
            "1d9f34f9f63d4b59a6ca13e297319be6",
            "affc4be68bf84153aab2141bdeb34158",
            "e57f040bf1064bc7bdb112cb35b0d0c4",
            "bce750ae6c464f20a1a784aea6f77b97",
            "2423f1488cae4f839e59deb4eccd5664",
            "83b9b934d2f74779a20a86867c8b0c53",
            "bc95be5b4f3e43bba557d7c6c00f79e5",
            "f3c892dac32342b9a90b36ef82443c3e",
            "fd94fa5765f64d6b8eed12b32db79212",
            "b2142ec02f1f4efb825775a602ab1051",
            "7fb73c0a8531425d8ed974499124cc52",
            "79e39a32bb194340ac055aae94c92c82",
            "fe35f3eee881428f961954dad42c877c"
          ]
        },
        "id": "bnZhktYwMWzP",
        "outputId": "8273cf40-2b3f-4fbf-ba2f-f686eb39ffab"
      },
      "outputs": [
        {
          "output_type": "execute_result",
          "data": {
            "text/plain": [
              "interactive(children=(FloatSlider(value=0.0, description='w1', max=1.0, min=-1.0, step=0.01), FloatSlider(valu…"
            ],
            "application/vnd.jupyter.widget-view+json": {
              "version_major": 2,
              "version_minor": 0,
              "model_id": "1d9f34f9f63d4b59a6ca13e297319be6"
            }
          },
          "metadata": {},
          "execution_count": 15
        }
      ],
      "source": [
        "loss = []\n",
        "\n",
        "interactive_plot = interactive(plot_line, w1=(-1,1,0.01), w2=(-1,1,0.01), b=(-1.5, 1.5, 0.01))\n",
        "interactive_plot"
      ]
    },
    {
      "cell_type": "markdown",
      "metadata": {
        "id": "7aLPS4RDMWzP"
      },
      "source": [
        "### Porta XOR"
      ]
    },
    {
      "cell_type": "code",
      "execution_count": 16,
      "metadata": {
        "colab": {
          "base_uri": "https://localhost:8080/"
        },
        "id": "U74U8kpXMWzQ",
        "outputId": "2e4355cd-c604-4e55-bf8f-0b245d2ace8d"
      },
      "outputs": [
        {
          "output_type": "stream",
          "name": "stdout",
          "text": [
            "[[0 0]\n",
            " [0 1]\n",
            " [1 0]\n",
            " [1 1]]\n",
            "[[0]\n",
            " [1]\n",
            " [1]\n",
            " [0]]\n"
          ]
        }
      ],
      "source": [
        "x = np.array([[0, 0], [0, 1], [1, 0], [1, 1]])\n",
        "y = np.array([[0, 1, 1, 0]]).T\n",
        "\n",
        "print(x, y, sep='\\n')"
      ]
    },
    {
      "cell_type": "code",
      "execution_count": 17,
      "metadata": {
        "colab": {
          "base_uri": "https://localhost:8080/",
          "height": 447
        },
        "id": "3F-Bvj4qMWzQ",
        "outputId": "9598c401-ef42-4713-efb7-c5db760b1ac5"
      },
      "outputs": [
        {
          "output_type": "execute_result",
          "data": {
            "text/plain": [
              "<matplotlib.collections.PathCollection at 0x79959dc28370>"
            ]
          },
          "metadata": {},
          "execution_count": 17
        },
        {
          "output_type": "display_data",
          "data": {
            "text/plain": [
              "<Figure size 640x480 with 1 Axes>"
            ],
            "image/png": "[encoded data removed]"
          },
          "metadata": {}
        }
      ],
      "source": [
        "plt.scatter(x[:,0], x[:,1], c=y.ravel(), s=50, cmap='bwr')"
      ]
    },
    {
      "cell_type": "code",
      "execution_count": null,
      "metadata": {
        "colab": {
          "base_uri": "https://localhost:8080/",
          "height": 522,
          "referenced_widgets": [
            "48516251f8884b219096dfd20e928a88",
            "18a3c5c503134cb4818bab60c61c71f8",
            "108ae140c48344c7b75ad12f91a05790",
            "2bdaf0ea58b049519b31082258d970bf",
            "600126f54a934264b37628d0fdd6513c",
            "46f4663e59334478a99931e12df4ef51",
            "f7dc4dd64c284759b7202345efd619ab",
            "6ae6f65c477a422db08be1f4c7464a4d",
            "f419148e343e471597ecf5844ca09749",
            "7592aadd45da401fb0e4a276208e37de",
            "0f4b8bd2f2934701a6c6dc2dafb5c7c5",
            "4522112a70484758b0d6e80f6b7620d6",
            "703341c6448243f3a02af8cca86f7a2f"
          ]
        },
        "id": "an1CAdV1MWzQ",
        "outputId": "1a902cc9-4445-49f1-8419-ff1da7d40c99"
      },
      "outputs": [
        {
          "output_type": "display_data",
          "data": {
            "text/plain": [
              "interactive(children=(FloatSlider(value=0.0, description='w1', max=1.0, min=-1.0, step=0.01), FloatSlider(valu…"
            ],
            "application/vnd.jupyter.widget-view+json": {
              "version_major": 2,
              "version_minor": 0,
              "model_id": "48516251f8884b219096dfd20e928a88"
            }
          },
          "metadata": {
            "application/vnd.jupyter.widget-view+json": {
              "colab": {
                "custom_widget_manager": {
                  "url": "https://ssl.gstatic.com/colaboratory-static/widgets/colab-cdn-widget-manager/b3e629b1971e1542/manager.min.js"
                }
              }
            }
          }
        }
      ],
      "source": [
        "loss = []\n",
        "\n",
        "interactive_plot = interactive(plot_line, w1=(-1,1,0.01), w2=(-1,1,0.01), b=(-1.5, 1.5, 0.01))\n",
        "interactive_plot"
      ]
    }
  ],
  "metadata": {
    "anaconda-cloud": {},
    "kernelspec": {
      "display_name": "Python 3",
      "name": "python3"
    },
    "language_info": {
      "codemirror_mode": {
        "name": "ipython",
        "version": 3
      },
      "file_extension": ".py",
      "mimetype": "text/x-python",
      "name": "python",
      "nbconvert_exporter": "python",
      "pygments_lexer": "ipython3",
      "version": "3.10.7"
    },
    "widgets": {
      "application/vnd.jupyter.widget-state+json": {
        "48516251f8884b219096dfd20e928a88": {
          "model_module": "@jupyter-widgets/controls",
          "model_name": "VBoxModel",
          "model_module_version": "1.5.0",
          "state": {
            "_dom_classes": [
              "widget-interact"
            ],
            "_model_module": "@jupyter-widgets/controls",
            "_model_module_version": "1.5.0",
            "_model_name": "VBoxModel",
            "_view_count": null,
            "_view_module": "@jupyter-widgets/controls",
            "_view_module_version": "1.5.0",
            "_view_name": "VBoxView",
            "box_style": "",
            "children": [
              "IPY_MODEL_18a3c5c503134cb4818bab60c61c71f8",
              "IPY_MODEL_108ae140c48344c7b75ad12f91a05790",
              "IPY_MODEL_2bdaf0ea58b049519b31082258d970bf",
              "IPY_MODEL_600126f54a934264b37628d0fdd6513c"
            ],
            "layout": "IPY_MODEL_46f4663e59334478a99931e12df4ef51"
          }
        },
        "18a3c5c503134cb4818bab60c61c71f8": {
          "model_module": "@jupyter-widgets/controls",
          "model_name": "FloatSliderModel",
          "model_module_version": "1.5.0",
          "state": {
            "_dom_classes": [],
            "_model_module": "@jupyter-widgets/controls",
            "_model_module_version": "1.5.0",
            "_model_name": "FloatSliderModel",
            "_view_count": null,
            "_view_module": "@jupyter-widgets/controls",
            "_view_module_version": "1.5.0",
            "_view_name": "FloatSliderView",
            "continuous_update": true,
            "description": "w1",
            "description_tooltip": null,
            "disabled": false,
            "layout": "IPY_MODEL_f7dc4dd64c284759b7202345efd619ab",
            "max": 1,
            "min": -1,
            "orientation": "horizontal",
            "readout": true,
            "readout_format": ".2f",
            "step": 0.01,
            "style": "IPY_MODEL_6ae6f65c477a422db08be1f4c7464a4d",
            "value": 0.20999999999999996
          }
        },
        "108ae140c48344c7b75ad12f91a05790": {
          "model_module": "@jupyter-widgets/controls",
          "model_name": "FloatSliderModel",
          "model_module_version": "1.5.0",
          "state": {
            "_dom_classes": [],
            "_model_module": "@jupyter-widgets/controls",
            "_model_module_version": "1.5.0",
            "_model_name": "FloatSliderModel",
            "_view_count": null,
            "_view_module": "@jupyter-widgets/controls",
            "_view_module_version": "1.5.0",
            "_view_name": "FloatSliderView",
            "continuous_update": true,
            "description": "w2",
            "description_tooltip": null,
            "disabled": false,
            "layout": "IPY_MODEL_f419148e343e471597ecf5844ca09749",
            "max": 1,
            "min": -1,
            "orientation": "horizontal",
            "readout": true,
            "readout_format": ".2f",
            "step": 0.01,
            "style": "IPY_MODEL_7592aadd45da401fb0e4a276208e37de",
            "value": 0.31000000000000005
          }
        },
        "2bdaf0ea58b049519b31082258d970bf": {
          "model_module": "@jupyter-widgets/controls",
          "model_name": "FloatSliderModel",
          "model_module_version": "1.5.0",
          "state": {
            "_dom_classes": [],
            "_model_module": "@jupyter-widgets/controls",
            "_model_module_version": "1.5.0",
            "_model_name": "FloatSliderModel",
            "_view_count": null,
            "_view_module": "@jupyter-widgets/controls",
            "_view_module_version": "1.5.0",
            "_view_name": "FloatSliderView",
            "continuous_update": true,
            "description": "b",
            "description_tooltip": null,
            "disabled": false,
            "layout": "IPY_MODEL_0f4b8bd2f2934701a6c6dc2dafb5c7c5",
            "max": 1.5,
            "min": -1.5,
            "orientation": "horizontal",
            "readout": true,
            "readout_format": ".2f",
            "step": 0.01,
            "style": "IPY_MODEL_4522112a70484758b0d6e80f6b7620d6",
            "value": -0.24
          }
        },
        "600126f54a934264b37628d0fdd6513c": {
          "model_module": "@jupyter-widgets/output",
          "model_name": "OutputModel",
          "model_module_version": "1.0.0",
          "state": {
            "_dom_classes": [],
            "_model_module": "@jupyter-widgets/output",
            "_model_module_version": "1.0.0",
            "_model_name": "OutputModel",
            "_view_count": null,
            "_view_module": "@jupyter-widgets/output",
            "_view_module_version": "1.0.0",
            "_view_name": "OutputView",
            "layout": "IPY_MODEL_703341c6448243f3a02af8cca86f7a2f",
            "msg_id": "",
            "outputs": [
              {
                "output_type": "stream",
                "name": "stdout",
                "text": [
                  "[-0.24  0.07 -0.03  0.28] => [0 1 0 1]\n",
                  "Loss: 0.5\n"
                ]
              },
              {
                "output_type": "display_data",
                "data": {
                  "text/plain": "<Figure size 1000x400 with 2 Axes>",
                  "image/png": "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\n"
                },
                "metadata": {}
              }
            ]
          }
        },
        "46f4663e59334478a99931e12df4ef51": {
          "model_module": "@jupyter-widgets/base",
          "model_name": "LayoutModel",
          "model_module_version": "1.2.0",
          "state": {
            "_model_module": "@jupyter-widgets/base",
            "_model_module_version": "1.2.0",
            "_model_name": "LayoutModel",
            "_view_count": null,
            "_view_module": "@jupyter-widgets/base",
            "_view_module_version": "1.2.0",
            "_view_name": "LayoutView",
            "align_content": null,
            "align_items": null,
            "align_self": null,
            "border": null,
            "bottom": null,
            "display": null,
            "flex": null,
            "flex_flow": null,
            "grid_area": null,
            "grid_auto_columns": null,
            "grid_auto_flow": null,
            "grid_auto_rows": null,
            "grid_column": null,
            "grid_gap": null,
            "grid_row": null,
            "grid_template_areas": null,
            "grid_template_columns": null,
            "grid_template_rows": null,
            "height": null,
            "justify_content": null,
            "justify_items": null,
            "left": null,
            "margin": null,
            "max_height": null,
            "max_width": null,
            "min_height": null,
            "min_width": null,
            "object_fit": null,
            "object_position": null,
            "order": null,
            "overflow": null,
            "overflow_x": null,
            "overflow_y": null,
            "padding": null,
            "right": null,
            "top": null,
            "visibility": null,
            "width": null
          }
        },
        "f7dc4dd64c284759b7202345efd619ab": {
          "model_module": "@jupyter-widgets/base",
          "model_name": "LayoutModel",
          "model_module_version": "1.2.0",
          "state": {
            "_model_module": "@jupyter-widgets/base",
            "_model_module_version": "1.2.0",
            "_model_name": "LayoutModel",
            "_view_count": null,
            "_view_module": "@jupyter-widgets/base",
            "_view_module_version": "1.2.0",
            "_view_name": "LayoutView",
            "align_content": null,
            "align_items": null,
            "align_self": null,
            "border": null,
            "bottom": null,
            "display": null,
            "flex": null,
            "flex_flow": null,
            "grid_area": null,
            "grid_auto_columns": null,
            "grid_auto_flow": null,
            "grid_auto_rows": null,
            "grid_column": null,
            "grid_gap": null,
            "grid_row": null,
            "grid_template_areas": null,
            "grid_template_columns": null,
            "grid_template_rows": null,
            "height": null,
            "justify_content": null,
            "justify_items": null,
            "left": null,
            "margin": null,
            "max_height": null,
            "max_width": null,
            "min_height": null,
            "min_width": null,
            "object_fit": null,
            "object_position": null,
            "order": null,
            "overflow": null,
            "overflow_x": null,
            "overflow_y": null,
            "padding": null,
            "right": null,
            "top": null,
            "visibility": null,
            "width": null
          }
        },
        "6ae6f65c477a422db08be1f4c7464a4d": {
          "model_module": "@jupyter-widgets/controls",
          "model_name": "SliderStyleModel",
          "model_module_version": "1.5.0",
          "state": {
            "_model_module": "@jupyter-widgets/controls",
            "_model_module_version": "1.5.0",
            "_model_name": "SliderStyleModel",
            "_view_count": null,
            "_view_module": "@jupyter-widgets/base",
            "_view_module_version": "1.2.0",
            "_view_name": "StyleView",
            "description_width": "",
            "handle_color": null
          }
        },
        "f419148e343e471597ecf5844ca09749": {
          "model_module": "@jupyter-widgets/base",
          "model_name": "LayoutModel",
          "model_module_version": "1.2.0",
          "state": {
            "_model_module": "@jupyter-widgets/base",
            "_model_module_version": "1.2.0",
            "_model_name": "LayoutModel",
            "_view_count": null,
            "_view_module": "@jupyter-widgets/base",
            "_view_module_version": "1.2.0",
            "_view_name": "LayoutView",
            "align_content": null,
            "align_items": null,
            "align_self": null,
            "border": null,
            "bottom": null,
            "display": null,
            "flex": null,
            "flex_flow": null,
            "grid_area": null,
            "grid_auto_columns": null,
            "grid_auto_flow": null,
            "grid_auto_rows": null,
            "grid_column": null,
            "grid_gap": null,
            "grid_row": null,
            "grid_template_areas": null,
            "grid_template_columns": null,
            "grid_template_rows": null,
            "height": null,
            "justify_content": null,
            "justify_items": null,
            "left": null,
            "margin": null,
            "max_height": null,
            "max_width": null,
            "min_height": null,
            "min_width": null,
            "object_fit": null,
            "object_position": null,
            "order": null,
            "overflow": null,
            "overflow_x": null,
            "overflow_y": null,
            "padding": null,
            "right": null,
            "top": null,
            "visibility": null,
            "width": null
          }
        },
        "7592aadd45da401fb0e4a276208e37de": {
          "model_module": "@jupyter-widgets/controls",
          "model_name": "SliderStyleModel",
          "model_module_version": "1.5.0",
          "state": {
            "_model_module": "@jupyter-widgets/controls",
            "_model_module_version": "1.5.0",
            "_model_name": "SliderStyleModel",
            "_view_count": null,
            "_view_module": "@jupyter-widgets/base",
            "_view_module_version": "1.2.0",
            "_view_name": "StyleView",
            "description_width": "",
            "handle_color": null
          }
        },
        "0f4b8bd2f2934701a6c6dc2dafb5c7c5": {
          "model_module": "@jupyter-widgets/base",
          "model_name": "LayoutModel",
          "model_module_version": "1.2.0",
          "state": {
            "_model_module": "@jupyter-widgets/base",
            "_model_module_version": "1.2.0",
            "_model_name": "LayoutModel",
            "_view_count": null,
            "_view_module": "@jupyter-widgets/base",
            "_view_module_version": "1.2.0",
            "_view_name": "LayoutView",
            "align_content": null,
            "align_items": null,
            "align_self": null,
            "border": null,
            "bottom": null,
            "display": null,
            "flex": null,
            "flex_flow": null,
            "grid_area": null,
            "grid_auto_columns": null,
            "grid_auto_flow": null,
            "grid_auto_rows": null,
            "grid_column": null,
            "grid_gap": null,
            "grid_row": null,
            "grid_template_areas": null,
            "grid_template_columns": null,
            "grid_template_rows": null,
            "height": null,
            "justify_content": null,
            "justify_items": null,
            "left": null,
            "margin": null,
            "max_height": null,
            "max_width": null,
            "min_height": null,
            "min_width": null,
            "object_fit": null,
            "object_position": null,
            "order": null,
            "overflow": null,
            "overflow_x": null,
            "overflow_y": null,
            "padding": null,
            "right": null,
            "top": null,
            "visibility": null,
            "width": null
          }
        },
        "4522112a70484758b0d6e80f6b7620d6": {
          "model_module": "@jupyter-widgets/controls",
          "model_name": "SliderStyleModel",
          "model_module_version": "1.5.0",
          "state": {
            "_model_module": "@jupyter-widgets/controls",
            "_model_module_version": "1.5.0",
            "_model_name": "SliderStyleModel",
            "_view_count": null,
            "_view_module": "@jupyter-widgets/base",
            "_view_module_version": "1.2.0",
            "_view_name": "StyleView",
            "description_width": "",
            "handle_color": null
          }
        },
        "703341c6448243f3a02af8cca86f7a2f": {
          "model_module": "@jupyter-widgets/base",
          "model_name": "LayoutModel",
          "model_module_version": "1.2.0",
          "state": {
            "_model_module": "@jupyter-widgets/base",
            "_model_module_version": "1.2.0",
            "_model_name": "LayoutModel",
            "_view_count": null,
            "_view_module": "@jupyter-widgets/base",
            "_view_module_version": "1.2.0",
            "_view_name": "LayoutView",
            "align_content": null,
            "align_items": null,
            "align_self": null,
            "border": null,
            "bottom": null,
            "display": null,
            "flex": null,
            "flex_flow": null,
            "grid_area": null,
            "grid_auto_columns": null,
            "grid_auto_flow": null,
            "grid_auto_rows": null,
            "grid_column": null,
            "grid_gap": null,
            "grid_row": null,
            "grid_template_areas": null,
            "grid_template_columns": null,
            "grid_template_rows": null,
            "height": null,
            "justify_content": null,
            "justify_items": null,
            "left": null,
            "margin": null,
            "max_height": null,
            "max_width": null,
            "min_height": null,
            "min_width": null,
            "object_fit": null,
            "object_position": null,
            "order": null,
            "overflow": null,
            "overflow_x": null,
            "overflow_y": null,
            "padding": null,
            "right": null,
            "top": null,
            "visibility": null,
            "width": null
          }
        },
        "6c94400a0b564a729d187b015852a583": {
          "model_module": "@jupyter-widgets/controls",
          "model_name": "VBoxModel",
          "model_module_version": "2.0.0",
          "state": {
            "_dom_classes": [
              "widget-interact"
            ],
            "_model_module": "@jupyter-widgets/controls",
            "_model_module_version": "2.0.0",
            "_model_name": "VBoxModel",
            "_view_count": null,
            "_view_module": "@jupyter-widgets/controls",
            "_view_module_version": "2.0.0",
            "_view_name": "VBoxView",
            "box_style": "",
            "children": [
              "IPY_MODEL_6292856b0bde45578641706e4ba518af",
              "IPY_MODEL_9a2c06384afe40e6857acd07fb4cf6ff",
              "IPY_MODEL_166a0969533c4bd6beb79cf641ca27ba"
            ],
            "layout": "IPY_MODEL_075421607e684d14bb175696c8cfa90b",
            "tabbable": null,
            "tooltip": null
          }
        },
        "6292856b0bde45578641706e4ba518af": {
          "model_module": "@jupyter-widgets/controls",
          "model_name": "FloatSliderModel",
          "model_module_version": "2.0.0",
          "state": {
            "_dom_classes": [],
            "_model_module": "@jupyter-widgets/controls",
            "_model_module_version": "2.0.0",
            "_model_name": "FloatSliderModel",
            "_view_count": null,
            "_view_module": "@jupyter-widgets/controls",
            "_view_module_version": "2.0.0",
            "_view_name": "FloatSliderView",
            "behavior": "drag-tap",
            "continuous_update": true,
            "description": "w",
            "description_allow_html": false,
            "disabled": false,
            "layout": "IPY_MODEL_6038295783ba431782c31333f8a2d91b",
            "max": 1.5,
            "min": 1,
            "orientation": "horizontal",
            "readout": true,
            "readout_format": ".2f",
            "step": 0.01,
            "style": "IPY_MODEL_2d20d008c1094f29b014f9528d6fc7d1",
            "tabbable": null,
            "tooltip": null,
            "value": 1.17
          }
        },
        "9a2c06384afe40e6857acd07fb4cf6ff": {
          "model_module": "@jupyter-widgets/controls",
          "model_name": "IntSliderModel",
          "model_module_version": "2.0.0",
          "state": {
            "_dom_classes": [],
            "_model_module": "@jupyter-widgets/controls",
            "_model_module_version": "2.0.0",
            "_model_name": "IntSliderModel",
            "_view_count": null,
            "_view_module": "@jupyter-widgets/controls",
            "_view_module_version": "2.0.0",
            "_view_name": "IntSliderView",
            "behavior": "drag-tap",
            "continuous_update": true,
            "description": "b",
            "description_allow_html": false,
            "disabled": false,
            "layout": "IPY_MODEL_ea66b469ba964a228b36675d1c8d919d",
            "max": 0,
            "min": -200,
            "orientation": "horizontal",
            "readout": true,
            "readout_format": "d",
            "step": 1,
            "style": "IPY_MODEL_653fd99634954a968499f2a0ca1d17be",
            "tabbable": null,
            "tooltip": null,
            "value": -124
          }
        },
        "166a0969533c4bd6beb79cf641ca27ba": {
          "model_module": "@jupyter-widgets/output",
          "model_name": "OutputModel",
          "model_module_version": "1.0.0",
          "state": {
            "_dom_classes": [],
            "_model_module": "@jupyter-widgets/output",
            "_model_module_version": "1.0.0",
            "_model_name": "OutputModel",
            "_view_count": null,
            "_view_module": "@jupyter-widgets/output",
            "_view_module_version": "1.0.0",
            "_view_name": "OutputView",
            "layout": "IPY_MODEL_7da6945a8b8e4c2bb951062f9eced0a1",
            "msg_id": "",
            "outputs": [
              {
                "output_type": "display_data",
                "data": {
                  "text/plain": "<Figure size 2000x400 with 3 Axes>",
                  "image/png": "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\n"
                },
                "metadata": {}
              }
            ],
            "tabbable": null,
            "tooltip": null
          }
        },
        "075421607e684d14bb175696c8cfa90b": {
          "model_module": "@jupyter-widgets/base",
          "model_name": "LayoutModel",
          "model_module_version": "2.0.0",
          "state": {
            "_model_module": "@jupyter-widgets/base",
            "_model_module_version": "2.0.0",
            "_model_name": "LayoutModel",
            "_view_count": null,
            "_view_module": "@jupyter-widgets/base",
            "_view_module_version": "2.0.0",
            "_view_name": "LayoutView",
            "align_content": null,
            "align_items": null,
            "align_self": null,
            "border_bottom": null,
            "border_left": null,
            "border_right": null,
            "border_top": null,
            "bottom": null,
            "display": null,
            "flex": null,
            "flex_flow": null,
            "grid_area": null,
            "grid_auto_columns": null,
            "grid_auto_flow": null,
            "grid_auto_rows": null,
            "grid_column": null,
            "grid_gap": null,
            "grid_row": null,
            "grid_template_areas": null,
            "grid_template_columns": null,
            "grid_template_rows": null,
            "height": null,
            "justify_content": null,
            "justify_items": null,
            "left": null,
            "margin": null,
            "max_height": null,
            "max_width": null,
            "min_height": null,
            "min_width": null,
            "object_fit": null,
            "object_position": null,
            "order": null,
            "overflow": null,
            "padding": null,
            "right": null,
            "top": null,
            "visibility": null,
            "width": null
          }
        },
        "6038295783ba431782c31333f8a2d91b": {
          "model_module": "@jupyter-widgets/base",
          "model_name": "LayoutModel",
          "model_module_version": "2.0.0",
          "state": {
            "_model_module": "@jupyter-widgets/base",
            "_model_module_version": "2.0.0",
            "_model_name": "LayoutModel",
            "_view_count": null,
            "_view_module": "@jupyter-widgets/base",
            "_view_module_version": "2.0.0",
            "_view_name": "LayoutView",
            "align_content": null,
            "align_items": null,
            "align_self": null,
            "border_bottom": null,
            "border_left": null,
            "border_right": null,
            "border_top": null,
            "bottom": null,
            "display": null,
            "flex": null,
            "flex_flow": null,
            "grid_area": null,
            "grid_auto_columns": null,
            "grid_auto_flow": null,
            "grid_auto_rows": null,
            "grid_column": null,
            "grid_gap": null,
            "grid_row": null,
            "grid_template_areas": null,
            "grid_template_columns": null,
            "grid_template_rows": null,
            "height": null,
            "justify_content": null,
            "justify_items": null,
            "left": null,
            "margin": null,
            "max_height": null,
            "max_width": null,
            "min_height": null,
            "min_width": null,
            "object_fit": null,
            "object_position": null,
            "order": null,
            "overflow": null,
            "padding": null,
            "right": null,
            "top": null,
            "visibility": null,
            "width": null
          }
        },
        "2d20d008c1094f29b014f9528d6fc7d1": {
          "model_module": "@jupyter-widgets/controls",
          "model_name": "SliderStyleModel",
          "model_module_version": "2.0.0",
          "state": {
            "_model_module": "@jupyter-widgets/controls",
            "_model_module_version": "2.0.0",
            "_model_name": "SliderStyleModel",
            "_view_count": null,
            "_view_module": "@jupyter-widgets/base",
            "_view_module_version": "2.0.0",
            "_view_name": "StyleView",
            "description_width": "",
            "handle_color": null
          }
        },
        "ea66b469ba964a228b36675d1c8d919d": {
          "model_module": "@jupyter-widgets/base",
          "model_name": "LayoutModel",
          "model_module_version": "2.0.0",
          "state": {
            "_model_module": "@jupyter-widgets/base",
            "_model_module_version": "2.0.0",
            "_model_name": "LayoutModel",
            "_view_count": null,
            "_view_module": "@jupyter-widgets/base",
            "_view_module_version": "2.0.0",
            "_view_name": "LayoutView",
            "align_content": null,
            "align_items": null,
            "align_self": null,
            "border_bottom": null,
            "border_left": null,
            "border_right": null,
            "border_top": null,
            "bottom": null,
            "display": null,
            "flex": null,
            "flex_flow": null,
            "grid_area": null,
            "grid_auto_columns": null,
            "grid_auto_flow": null,
            "grid_auto_rows": null,
            "grid_column": null,
            "grid_gap": null,
            "grid_row": null,
            "grid_template_areas": null,
            "grid_template_columns": null,
            "grid_template_rows": null,
            "height": null,
            "justify_content": null,
            "justify_items": null,
            "left": null,
            "margin": null,
            "max_height": null,
            "max_width": null,
            "min_height": null,
            "min_width": null,
            "object_fit": null,
            "object_position": null,
            "order": null,
            "overflow": null,
            "padding": null,
            "right": null,
            "top": null,
            "visibility": null,
            "width": null
          }
        },
        "653fd99634954a968499f2a0ca1d17be": {
          "model_module": "@jupyter-widgets/controls",
          "model_name": "SliderStyleModel",
          "model_module_version": "2.0.0",
          "state": {
            "_model_module": "@jupyter-widgets/controls",
            "_model_module_version": "2.0.0",
            "_model_name": "SliderStyleModel",
            "_view_count": null,
            "_view_module": "@jupyter-widgets/base",
            "_view_module_version": "2.0.0",
            "_view_name": "StyleView",
            "description_width": "",
            "handle_color": null
          }
        },
        "7da6945a8b8e4c2bb951062f9eced0a1": {
          "model_module": "@jupyter-widgets/base",
          "model_name": "LayoutModel",
          "model_module_version": "2.0.0",
          "state": {
            "_model_module": "@jupyter-widgets/base",
            "_model_module_version": "2.0.0",
            "_model_name": "LayoutModel",
            "_view_count": null,
            "_view_module": "@jupyter-widgets/base",
            "_view_module_version": "2.0.0",
            "_view_name": "LayoutView",
            "align_content": null,
            "align_items": null,
            "align_self": null,
            "border_bottom": null,
            "border_left": null,
            "border_right": null,
            "border_top": null,
            "bottom": null,
            "display": null,
            "flex": null,
            "flex_flow": null,
            "grid_area": null,
            "grid_auto_columns": null,
            "grid_auto_flow": null,
            "grid_auto_rows": null,
            "grid_column": null,
            "grid_gap": null,
            "grid_row": null,
            "grid_template_areas": null,
            "grid_template_columns": null,
            "grid_template_rows": null,
            "height": null,
            "justify_content": null,
            "justify_items": null,
            "left": null,
            "margin": null,
            "max_height": null,
            "max_width": null,
            "min_height": null,
            "min_width": null,
            "object_fit": null,
            "object_position": null,
            "order": null,
            "overflow": null,
            "padding": null,
            "right": null,
            "top": null,
            "visibility": null,
            "width": null
          }
        },
        "b7f0048cea314a80accc757e539f9e0c": {
          "model_module": "@jupyter-widgets/controls",
          "model_name": "VBoxModel",
          "model_module_version": "2.0.0",
          "state": {
            "_dom_classes": [
              "widget-interact"
            ],
            "_model_module": "@jupyter-widgets/controls",
            "_model_module_version": "2.0.0",
            "_model_name": "VBoxModel",
            "_view_count": null,
            "_view_module": "@jupyter-widgets/controls",
            "_view_module_version": "2.0.0",
            "_view_name": "VBoxView",
            "box_style": "",
            "children": [
              "IPY_MODEL_32b84cddc5214cbaae24203e9fc8f5c8",
              "IPY_MODEL_dc574581cac242dfa8abe7ac5dd090a0",
              "IPY_MODEL_0481d3f00308409590dd7af66ed7905e",
              "IPY_MODEL_b56e4b4f39a44e50945c60946c52e416"
            ],
            "layout": "IPY_MODEL_f502a9c973de4855b3b0fcebfbfd718a",
            "tabbable": null,
            "tooltip": null
          }
        },
        "32b84cddc5214cbaae24203e9fc8f5c8": {
          "model_module": "@jupyter-widgets/controls",
          "model_name": "FloatSliderModel",
          "model_module_version": "2.0.0",
          "state": {
            "_dom_classes": [],
            "_model_module": "@jupyter-widgets/controls",
            "_model_module_version": "2.0.0",
            "_model_name": "FloatSliderModel",
            "_view_count": null,
            "_view_module": "@jupyter-widgets/controls",
            "_view_module_version": "2.0.0",
            "_view_name": "FloatSliderView",
            "behavior": "drag-tap",
            "continuous_update": true,
            "description": "w1",
            "description_allow_html": false,
            "disabled": false,
            "layout": "IPY_MODEL_be158ddabcca47e8a7b6aba1e1b28595",
            "max": 1,
            "min": -1,
            "orientation": "horizontal",
            "readout": true,
            "readout_format": ".2f",
            "step": 0.01,
            "style": "IPY_MODEL_901e9b77fe5348d8bafe5e5750057923",
            "tabbable": null,
            "tooltip": null,
            "value": 0.71
          }
        },
        "dc574581cac242dfa8abe7ac5dd090a0": {
          "model_module": "@jupyter-widgets/controls",
          "model_name": "FloatSliderModel",
          "model_module_version": "2.0.0",
          "state": {
            "_dom_classes": [],
            "_model_module": "@jupyter-widgets/controls",
            "_model_module_version": "2.0.0",
            "_model_name": "FloatSliderModel",
            "_view_count": null,
            "_view_module": "@jupyter-widgets/controls",
            "_view_module_version": "2.0.0",
            "_view_name": "FloatSliderView",
            "behavior": "drag-tap",
            "continuous_update": true,
            "description": "w2",
            "description_allow_html": false,
            "disabled": false,
            "layout": "IPY_MODEL_ee516a906acd4122b88de1e428140e15",
            "max": 1,
            "min": -1,
            "orientation": "horizontal",
            "readout": true,
            "readout_format": ".2f",
            "step": 0.01,
            "style": "IPY_MODEL_5f4e9a4117d2415491bd09398a55afdd",
            "tabbable": null,
            "tooltip": null,
            "value": 0.74
          }
        },
        "0481d3f00308409590dd7af66ed7905e": {
          "model_module": "@jupyter-widgets/controls",
          "model_name": "FloatSliderModel",
          "model_module_version": "2.0.0",
          "state": {
            "_dom_classes": [],
            "_model_module": "@jupyter-widgets/controls",
            "_model_module_version": "2.0.0",
            "_model_name": "FloatSliderModel",
            "_view_count": null,
            "_view_module": "@jupyter-widgets/controls",
            "_view_module_version": "2.0.0",
            "_view_name": "FloatSliderView",
            "behavior": "drag-tap",
            "continuous_update": true,
            "description": "b",
            "description_allow_html": false,
            "disabled": false,
            "layout": "IPY_MODEL_801bfde76a4b4756b08862b474da2000",
            "max": 1.5,
            "min": -1.5,
            "orientation": "horizontal",
            "readout": true,
            "readout_format": ".2f",
            "step": 0.01,
            "style": "IPY_MODEL_24bcda6690134d1488d40f274dac14bf",
            "tabbable": null,
            "tooltip": null,
            "value": -0.83
          }
        },
        "b56e4b4f39a44e50945c60946c52e416": {
          "model_module": "@jupyter-widgets/output",
          "model_name": "OutputModel",
          "model_module_version": "1.0.0",
          "state": {
            "_dom_classes": [],
            "_model_module": "@jupyter-widgets/output",
            "_model_module_version": "1.0.0",
            "_model_name": "OutputModel",
            "_view_count": null,
            "_view_module": "@jupyter-widgets/output",
            "_view_module_version": "1.0.0",
            "_view_name": "OutputView",
            "layout": "IPY_MODEL_2ad67f68a178444890a40ac97e951994",
            "msg_id": "",
            "outputs": [
              {
                "output_type": "stream",
                "name": "stdout",
                "text": [
                  "[-0.83 -0.09 -0.12  0.62] => [0 0 0 1]\n",
                  "Loss: 0.0\n"
                ]
              },
              {
                "output_type": "display_data",
                "data": {
                  "text/plain": "<Figure size 1000x400 with 2 Axes>",
                  "image/png": "iVBORw0KGgoAAAANSUhEUgAAA0UAAAF2CAYAAACh9jOfAAAAOXRFWHRTb2Z0d2FyZQBNYXRwbG90bGliIHZlcnNpb24zLjcuMSwgaHR0cHM6Ly9tYXRwbG90bGliLm9yZy/bCgiHAAAACXBIWXMAAA9hAAAPYQGoP6dpAAA2RklEQVR4nO3dfXRU5bn+8WsSyAQqiSglIRiNICgIBgRJA1L0NDaApVLbZZQeQIooCERJT5FAIAqWcBCoDQRToxTaUwR1KbokhNJY6lHTwxFIf76AiAHDqUwwWjIxSGIy+/dHzOiYycuEed/fz1p7uWbn2cm9B5mHK/vZ97YYhmEIAAAAAEwqItAFAAAAAEAgEYoAAAAAmBqhCAAAAICpEYoAAAAAmBqhCAAAAICpEYoAAAAAmBqhCAAAAICpEYoAAAAAmBqhCAAAAICpEYqATrr77ruVlJTUpWMffvhhWSwW7xYEAAAAryAUIeRZLJZObfv37w90qQAAAAhCFsMwjEAXAVyI//qv/3J5/Yc//EH79u3TH//4R5f9t9xyi+Li4rr8c7788ks5HA5ZrVaPj21sbFRjY6Oio6O7/PMBAADgG4QihJ0FCxaooKBAHf2vfe7cOfXs2dNPVQEAACBYsXwOpnDTTTdp2LBhOnjwoL7//e+rZ8+eWrp0qSTppZde0q233qqEhARZrVYNHDhQq1atUlNTk8v3+PY9RSdPnpTFYtG6dev05JNPauDAgbJarbrhhhv0v//7vy7HurunyGKxaMGCBdq1a5eGDRsmq9Wqa6+9ViUlJa3q379/v0aPHq3o6GgNHDhQv/vd77hPCQAAwEu6BboAwF8+/fRTTZo0SXfeeaf+/d//3bmUbuvWrbrooouUlZWliy66SK+++qpWrFghu92uxx57rMPvu337dtXW1uq+++6TxWLR2rVrdfvtt6uiokLdu3dv99jXX39dL7zwgu6//3716tVL+fn5+ulPf6rKykpdeumlkqTDhw9r4sSJ6tevnx555BE1NTVp5cqV+u53v3vhbwoAAAAIRTAPm82mwsJC3XfffS77t2/frh49ejhfz507V3PnztXmzZv16KOPdngPUWVlpT744AP17t1bknT11Vfrtttu0969e/WjH/2o3WOPHDmi9957TwMHDpQk3XzzzUpOTtYzzzyjBQsWSJJyc3MVGRmpN954QwkJCZKkO+64Q0OGDPHsDQAAAIBbLJ+DaVitVs2aNavV/m8GotraWlVXV2v8+PE6d+6cjh492uH3zcjIcAYiSRo/frwkqaKiosNj09LSnIFIkq677jrFxMQ4j21qatJf/vIXTZ061RmIJOmqq67SpEmTOvz+AAAA6BhXimAa/fv3V1RUVKv97777rnJycvTqq6/Kbre7fK2mpqbD73v55Ze7vG4JSP/61788Prbl+JZjz5w5oy+++EJXXXVVq3Hu9gEAAMBzhCKYxjevCLU4e/asJkyYoJiYGK1cuVIDBw5UdHS0Dh06pIceekgOh6PD7xsZGel2f2caO17IsQAAAPAOQhFMbf/+/fr000/1wgsv6Pvf/75z/4kTJwJY1df69u2r6OhoHT9+vNXX3O0DAACA57inCKbWcqXmm1dmGhoatHnz5kCV5CIyMlJpaWnatWuXPv74Y+f+48ePa8+ePa3GV1ZWtroPqrq6WkePHtW5c+ec+1rul6qurvZd8QAAACGCUARTGzt2rHr37q2ZM2dqw4YN+s1vfqPvfe97QbV87eGHH1ZjY6PGjRuntWvXKi8vTxMmTNCwYcNajZ0xY0arrnSbNm3SkCFDdODAAee+AwcOaMiQIdq0aZPP6wcAAAh2hCKY2qWXXqpXXnlF/fr1U05OjtatW6dbbrlFa9euDXRpTqNGjdKePXvUu3dvLV++XE8//bRWrlypH/zgB4qOjg50eQAAACHPYgTTr8QBdNrUqVP17rvv6oMPPgh0KQAAACGNK0VACPjiiy9cXn/wwQcqLi7WTTfdFJiCAAAAwghXioAQ0K9fP919990aMGCAPvroIz3xxBOqr6/X4cOHNWjQoECXBwAAENJoyQ2EgIkTJ+qZZ56RzWaT1WpVamqqVq9eTSACAADwApbPASHg97//vU6ePKnz58+rpqZGJSUluv766wNdFhAUXnvtNU2ZMkUJCQmyWCzatWtXh8fs379f119/vaxWq6666ipt3brV53UCAIIXoQgAENLq6uqUnJysgoKCTo0/ceKEbr31Vt18880qLy/Xgw8+qHvuuUd79+71caUAgGDFPUUAgLBhsVj04osvaurUqW2Oeeihh7R792698847zn133nmnzp49q5KSEj9UCQAINiFxT5HD4dDHH3+sXr16yWKxBLocADANwzBUW1urhIQERUSEx+KCsrIypaWluexLT0/Xgw8+2OYx9fX1qq+vd752OBz67LPPdOmllzIvAYCf+WJuColQ9PHHHysxMTHQZQCAaZ06dUqXXXZZoMvwCpvNpri4OJd9cXFxstvt+uKLL9SjR49Wx+Tl5emRRx7xV4kAgE7w5twUEqGoV69ekppPPCYmJsDVAIB52O12JSYmOj+HzSo7O1tZWVnO1zU1Nbr88suVlHRKERGhMS+lpUmPrTWkxYulv/wl0OUAQJfZHQ4lnjzp1bkpJEJRy9KEmJgYQhEABEA4LRGLj49XVVWVy76qqirFxMS4vUokSVarVVartdX+iIiYkAlFr74qLcuRNhYWSpmZEvdPAQhx3pybwmOBOAAAnZSamqrS0lKXffv27VNqamqAKvKfkhJpYaZFys9v3gAAkghFAIAQ9/nnn6u8vFzl5eWSmltul5eXq7KyUlLz0rcZM2Y4x8+dO1cVFRVavHixjh49qs2bN+vZZ5/VokWLAlG+35WUSIMGW7RHkwhGAPAVQhEAIKS99dZbGjlypEaOHClJysrK0siRI7VixQpJ0unTp50BSZKuvPJK7d69W/v27VNycrLWr1+vp556Sunp6QGpP1AyM0UwAoCvhMRziux2u2JjY1VTU+PRPUXnzkmvvy599plktUpDh0pXX+3DQgEgWDgcUlmZ9PHHza8TE6UxYyQPW5d29fM33LW8LwMG1ITMPUVtyc+XJmlPc0oCgBBgdzgUW1Hh1bkpLK8UffihtGiRFB8vpadLd90l3X67dM010vjx0rPPNv97AQDCztmz0mOPSVdeKd14o3THHc1baqp01VXSb34j2e2BrhJBxHnF6NgxaeLEQJcDAAERdqGouFgaNkzatEmqrW399bIyKSND+ulPpS++8H99AOAzx49LI0dKS5ZI31gu5nTypPTLX0qjR0sffeT38hC8MjO/0YCBYATAhMIqFP3tb9Jtt0n19VJjo/sxTU3N/3355eYrSC2vASCk2WzSTTdJp061fSncMJq3Eyeax1ZX+7NCBDmXznQEIwAm43Eoeu211zRlyhQlJCTIYrFo165dHR6zf/9+XX/99bJarbrqqqu0devWLpTavqYmafr05n8LdOYuKYdDeukl6fnnvV4KAPjf4sVSVVXnftPT2NgcnpYv931dCCm07AZgVh6Horq6OiUnJ6ugoKBT40+cOKFbb71VN998s8rLy/Xggw/qnnvu0d69ez0utj1797b/C1J3IiKkjRu9WgYA+F91tbRjR9uXyN1papK2buX+IrRCy24AZuRxKJo0aZIeffRR/eQnP+nU+MLCQl155ZVav369hgwZogULFuhnP/uZfvOb33hcbHueeEKKjPTsGIdDeuMN6cgRr5YCAP71xz92bS1wfb20fbv360FYoGU3ADPx+T1FZWVlSktLc9mXnp6usrKyNo+pr6+X3W532Tryj390/f6g997r2nEAEBTefdfjVtuSpG7d+ABEuwhGAMzC56HIZrMpLi7OZV9cXJzsdru+aKP9W15enmJjY51bYmJihz+noaHrNZ4/3/VjASDgzp/v3M2U32YYtOFEhzIzpYXFtOwGEN6Csvtcdna2ampqnNupU6c6PKZ3767/vEsu6fqxABBwl1wiWSxdPxboAJ3pAIQ7n4ei+Ph4VVVVueyrqqpSTEyMevTo4fYYq9WqmJgYl60jt9/u+T1FkvSd7zQ/0BUAQtaPfuRZk4UWjY3SlCnerwdhiWAEIJz5PBSlpqaqtLTUZd++ffuUmprq1Z9z772edZ6TmpfT/+IX0kUXebUUAPCvtDQpKcmzq0UWizRkiDRunM/KQvihZTeAcOVxKPr8889VXl6u8vJySc0tt8vLy1X51dPTs7OzNWPGDOf4uXPnqqKiQosXL9bRo0e1efNmPfvss1q0aJF3zuArV1zR/DDWzt5rbLE0X1lauNCrZQCA/0VESMuWeXZfkWFIOTldX3YH06JlN4Bw5HEoeuuttzRy5EiNHDlSkpSVlaWRI0dqxYoVkqTTp087A5IkXXnlldq9e7f27dun5ORkrV+/Xk899ZTS09O9dApfe/JJafTojoNRRETz9uyz0qBBXi8DAPxv9mzPfsuzZIk0bZrv6kHYozMdgHBiMYyutCzyL7vdrtjYWNXU1HR4f1FdnTRnTvNzDCMiXNt0R0Y2v05IkP7wB+kHP/Bx4QDgT4YhrVkjrVzZ/Ayiln3S11eEevSQHn1UevDBTl0l8uTz10xa3pcBA2oUEWHu9yU/X5qkPVJxcfNlJADwMbvDodiKCq/OTUHZfe5CfOc7zc8irKiQFi+WBg+W+vSRLrtMuuUW6aWXpMpKAhGAMGSxSNnZks3W/C/VkSOluDgpPl4aNUravLn5a4sWsWwOXuNs2U0DBgAhLOyuFAEAvIfPX/e4UtTaxInSxnyjOSVxxQiAD3GlCAAABCVadgMIZYQiAADgFbTsBhCqCEUAAMBraNkNIBQRigAAgNfRshtAKCEUAQAAn3AJRtxnBCCIEYoAAIDP0LIbQCggFAEAAJ+iMx2AYEcoAgAAPkcwAhDMCEUAAMAvaNkNIFh1C3QBAADAPFpadufnT9Kk/HypuLj1AADwM0IRAADwu8xMfRWMJrb+AsEIgJ8RigAAQEBkZkoTJ1pc9m3Mz28ORZmZAaoKgBlxTxEAAAiYkhLXbdBgCw99BeB3hCIAABBUXB76CgB+QCgCAABBxyUY0cIbgI8RigAAQFDKzJQWFhOMAPgeoQgAAAQtHvoKwB8IRQAAIKgRjAD4GqEIAAAEPZdgRAMGAF5GKAIAACGBlt0AfIVQBAAAQgotuwF4G6EIAACEHFp2A/AmQhEAAAhJtOwG4C2EIgAAELLoTAfAGwhFAAAgpBGMAFwoQhEAAAh5tOwGcCEIRQAAICzQshtAVxGKAABAWKFlNwBPEYoAAEDYoWU3AE8QigAAQFiiZTeAziIUAQCAsEVnOgCdQSgCAABhjWAEoCOEIgAAEPZo2Q2gPYQiAABgCrTsBtAWQhEAICwUFBQoKSlJ0dHRSklJ0YEDB9od//jjj+vqq69Wjx49lJiYqEWLFun8+fN+qhaBRMtuAN9GKAIAhLydO3cqKytLubm5OnTokJKTk5Wenq4zZ864Hb99+3YtWbJEubm5OnLkiJ5++mnt3LlTS5cu9XPlCBRadgP4JkIRACDkbdiwQXPmzNGsWbM0dOhQFRYWqmfPntqyZYvb8W+++abGjRunadOmKSkpST/84Q911113dXh1CeGFlt0AWhCKAAAhraGhQQcPHlRaWppzX0REhNLS0lRWVub2mLFjx+rgwYPOEFRRUaHi4mJNnjzZLzUjeNCZDoAkdQt0AQAAXIjq6mo1NTUpLi7OZX9cXJyOHj3q9php06apurpaN954owzDUGNjo+bOndvm8rn6+nrV19c7X9vtdu+dAAKuJRhtzM9vvnxUUhLokgD4GVeKAACms3//fq1evVqbN2/WoUOH9MILL2j37t1atWqV2/F5eXmKjY11bomJiX6uGL5Gy27A3AhFAICQ1qdPH0VGRqqqqsplf1VVleLj490es3z5ck2fPl333HOPhg8frp/85CdavXq18vLy5HA4Wo3Pzs5WTU2Nczt16pRPzgWBRctuwLwIRQCAkBYVFaVRo0aptLTUuc/hcKi0tFSpqalujzl37pwiIlynwMjISEmSYRitxlutVsXExLhsCF+07AbMh1AEAAh5WVlZKioq0rZt23TkyBHNmzdPdXV1mjVrliRpxowZys7Odo6fMmWKnnjiCe3YsUMnTpzQvn37tHz5ck2ZMsUZjmButOwGzKVLoYgH5AEAgklGRobWrVunFStWaMSIESovL1dJSYmz+UJlZaVOnz7tHJ+Tk6Nf/vKXysnJ0dChQzV79mylp6frd7/7XaBOAUGIlt2AeVgMd+sE2rFz507NmDFDhYWFSklJ0eOPP67nnntO77//vvr27dtq/Pbt2/WLX/xCW7Zs0dixY3Xs2DHdfffduvPOO7Vhw4ZO/Uy73a7Y2FjV1NSwZAEA/IjPX/da3pcBA2oUEcH7Eu4mTpQ25ht0pgOChN3hUGxFhVfnJo+vFPGAPAAAYCY8ywgIfx6FIn89IK++vl52u91lAwAACJSWYLRn8kYaMABhyKNQ1N4D8mw2m9tjpk2bppUrV+rGG29U9+7dNXDgQN10001tPiBP4nkQAAAg+JSU0JkOCFc+7z7n6QPyJJ4HAQAAghfBCAg/3TwZfKEPyJOk4cOHq66uTvfee6+WLVvW6jkRUvPzIKxWqyelAQAA+E1mppSfP0mT8vOl4mIaMAAhzqMrRf54QB4AAEAooGU3ED48Xj7HA/IAAACa0ZkOCA8eLZ+Tmh+Q98knn2jFihWy2WwaMWJEqwfkffPKUE5OjiwWi3JycvTPf/5T3/3udzVlyhT9+te/9t5ZAAAABEhLMNqYn8+zjIAQ5fHDWwOBhwcCQGDw+eseD2+FOxMnSpMnS5O0pzkcAfCJoHh4KwAAAFqjZTcQughFAAAAXkQwAkIPoQgAAMDLXIIRDRiAoEcoAgAA8AFadgOhg1AEAADgI7TsBkIDoQgAAMCHCEZA8CMUAQAA+FhLMNozeSMNGIAgRCgCAADwA1p2A8GLUAQAAOBHBCMg+BCKAAAA/IyW3UBwIRQBAAAEAC27geBBKAIAAAgQOtMBwYFQBAAAEEAEIyDwCEUAAAABRstuILAIRQAAAEGAlt1A4BCKAAAAggjBCPA/QhEAAECQoWU34F+EIgAAgCBEy27AfwhFAAAAQYrOdIB/EIoAAACCGMEI8D1CEQAAQJCjZTfgW4QiAACAEEDLbsB3CEUAAAAhhGAEeB+hCAAAIMTQshvwLkIRAABACKJlN+A9hCIAAIAQRWc6wDsIRQAAACGMYARcOEIRAABAiKNlN3BhCEUAAABhgJbdQNcRigAAAMIIwQjwXLdAFwAAAADvysyU8vMnaZK7YJSZ6f+CgCBHKAIAAAhDmZnSxImTNHmy6/5J+fkEI+BbCEUAAABhqqSkefsm5xUkghHgxD1FAAAAJuJyzxEtvAFJhCIAAADTycyUFhYTjIAWhCIAAAAT4qGvwNcIRQAAACZFMAKaEYoAAABMrCUY7Zm8kWcbwbQIRQAAACZXUsJDX2FuhCIAAABIIhjBvAhFAAAAcKJlN8yIUAQAAAAXtOyG2RCKAABhoaCgQElJSYqOjlZKSooOHDjQ7vizZ89q/vz56tevn6xWqwYPHqzi4mI/VQsEPzrTwUwIRQCAkLdz505lZWUpNzdXhw4dUnJystLT03XmzBm34xsaGnTLLbfo5MmTev755/X++++rqKhI/fv393PlQHAjGMEsLIZhGIEuoiN2u12xsbGqqalRTExMoMsBANMIlc/flJQU3XDDDdq0aZMkyeFwKDExUQsXLtSSJUtajS8sLNRjjz2mo0ePqnv37h7/vJb3ZcCAGkVEBO/7AnjLxInS5MnSJO1pXlsHBJDd4VBsRYVX56YuXSliiQIAIFg0NDTo4MGDSktLc+6LiIhQWlqaysrK3B7z8ssvKzU1VfPnz1dcXJyGDRum1atXq6mpye34+vp62e12lw0wE1p2I9x5HIpYogAACCbV1dVqampSXFycy/64uDjZbDa3x1RUVOj5559XU1OTiouLtXz5cq1fv16PPvqo2/F5eXmKjY11bomJiV4/DyAUEIwQrjwORRs2bNCcOXM0a9YsDR06VIWFherZs6e2bNnidvyWLVv02WefadeuXRo3bpySkpI0YcIEJScnX3DxAAB0hcPhUN++ffXkk09q1KhRysjI0LJly1RYWOh2fHZ2tmpqapzbqVOn/FwxEDycwejYMe4zQtjwKBT5Y4mCxDIFAEDn9enTR5GRkaqqqnLZX1VVpfj4eLfH9OvXT4MHD1ZkZKRz35AhQ2Sz2dTQ0NBqvNVqVUxMjMsGmFlmJg0YEF48CkX+WKIgsUwBANB5UVFRGjVqlEpLS537HA6HSktLlZqa6vaYcePG6fjx43I4HM59x44dU79+/RQVFeXzmoFwQGc6hBOft+T2dImCxDIFAIBnsrKyVFRUpG3btunIkSOaN2+e6urqNGvWLEnSjBkzlJ2d7Rw/b948ffbZZ3rggQd07Ngx7d69W6tXr9b8+fMDdQpASCIYIVx082RwV5codO/evc0lCu5+I2e1WmW1Wj0pDQBgYhkZGfrkk0+0YsUK2Ww2jRgxQiUlJc6VDZWVlYqI+Pr3gImJidq7d68WLVqk6667Tv3799cDDzyghx56KFCnAISslmA0efJGTZpMy26EJo+uFLFEAQAQrBYsWKCPPvpI9fX1+p//+R+lpKQ4v7Z//35t3brVZXxqaqr+/ve/6/z58/rwww+1dOlSl1/gAeg8WnYj1Hm8fI4lCgAAAHCHYIRQ5dHyOYklCgAAAGhbZqaUnz9Jk44da35RUhLokoAOWQzDMAJdREfsdrtiY2NVU1NDG1QA8CM+f91reV8GDKhRRATvC+DOxInSxnyDYASvszsciq2o8Orc5PPucwAAADAfOtMhlBCKAAAA4BMEI4QKQhEAAAB8piUY7Zm8kQYMCFqEIgAAAPgULbsR7AhFAAAA8AuCEYIVoQgAAAB+4wxGx45xnxGCBqEIAAAAfpWZSQMGBBdCEQAAAPyOznQIJoQiAAAABATBCMGCUAQAAICAoWU3ggGhCAAAAAFFy24EGqEIAAAAQYFghEAhFAEAACBo0LIbgUAoAgAAQFChZTf8jVAEAACAoENnOvgToQgAAABBiWAEfyEUAQAAIGjRshv+QCgCAABAUKNlN3yNUAQAAICQQDCCrxCKAAAAEDJo2Q1fIBQBAAAgpNCyG95GKAIAAEDIoTMdvIlQBAAAgJBEMIK3EIoAAAAQskpKpEGDadmNC0MoAgAAQMijMx0uBKEIAAAAYYFghK4iFAEAACBs0LIbXUEoAgAAQFihZTc8RSgCAABA2KEzHTxBKAIAAEBYIhihswhFAAAACFu07EZnEIoAAAAQ9uhMh/YQigAAAGAKBCO0hVAEAAAA06BlN9whFAEAAMBUaNmNbyMUAQAAwHToTIdvIhQBAADAlFyCEfcZmRqhCAAAAKblbNlNAwZTIxQBAADA9OhMZ26EIgAAAEAEIzMjFAEAAABfoWW3ORGKAAAAgG+gZbf5EIoAAACAb6Flt7kQigAAAAA3aNltHoQiAAAAoA207DaHLoWigoICJSUlKTo6WikpKTpw4ECnjtuxY4csFoumTp3alR8LAAAABASd6cKbx6Fo586dysrKUm5urg4dOqTk5GSlp6frzJkz7R538uRJ/cd//IfGjx/f5WIBAACAQCEYhS+PQ9GGDRs0Z84czZo1S0OHDlVhYaF69uypLVu2tHlMU1OTfv7zn+uRRx7RgAEDLqhgAAAAIFBo2R2ePApFDQ0NOnjwoNLS0r7+BhERSktLU1lZWZvHrVy5Un379tXs2bM79XPq6+tlt9tdNgAA2sPSbgD+Qsvu8ONRKKqurlZTU5Pi4uJc9sfFxclms7k95vXXX9fTTz+toqKiTv+cvLw8xcbGOrfExERPygQAmAxLuwH4m0tnumPHvt5YWheSfNp9rra2VtOnT1dRUZH69OnT6eOys7NVU1Pj3E6dOuXDKgEAoY6l3QACoSUYfXNjaV1o6ubJ4D59+igyMlJVVVUu+6uqqhQfH99q/IcffqiTJ09qypQpzn0Oh6P5B3frpvfff18DBw5sdZzVapXVavWkNACASbUs7c7Oznbu83Rp93//93+3+zPq6+tVX1/vfM2ybgAtSkpav5440aKN+fnN6+y+PQBByaMrRVFRURo1apRKS0ud+xwOh0pLS5Wamtpq/DXXXKO3335b5eXlzu3HP/6xbr75ZpWXl7MsDgBwwfyxtJtl3QA84bK0jitGIcHj5XNZWVkqKirStm3bdOTIEc2bN091dXWaNWuWJGnGjBnO39ZFR0dr2LBhLtvFF1+sXr16adiwYYqKivLu2QAA0IGuLO1mWTcAT7kEI+4zCnoeLZ+TpIyMDH3yySdasWKFbDabRowYoZKSEudv6CorKxUR4dNblQAAcPLH0m6WdQPoipISadBgi/LzJ2lSy3I6BCWLYRhGoIvoiN1uV2xsrGpqahQTExPocgDANELl8zclJUVjxozRxo0bJTWHnMsvv1wLFizQkiVLXMaeP39ex48fd9mXk5Oj2tpa/fa3v9XgwYM7XMnQ8r4MGFCjiIjgfV8ABI/8fGmS9hCMvMDucCi2osKrc5PHV4oAAAg2WVlZmjlzpkaPHq0xY8bo8ccfb7W0u3///srLy3Mu7f6miy++WJJa7QcAb8nMFFeMghjr3AAAIS8jI0Pr1q3TihUrNGLECJWXl7da2n369OkAVwnA7DIzRcvuIMXyOQBAm/j8dY/lcwAuxMSJ0sZ8g5bdXeSL5XNcKQIAAAD8iJbdwYdQBAAAAPgZLbuDC6EIAAAACICWlt17NIlgFGCEIgAAACCAnA0YCEYBQygCAAAAAoxgFFiEIgAAACAI0LI7cAhFAAAAQJDIzKQzXSAQigAAAIAgQstu/yMUAQAAAEGGlt3+RSgCAAAAghAtu/2HUAQAAAAEMTrT+R6hCAAAAAhyBCPfIhQBAAAAIYCW3b5DKAIAAABCBC27fYNQBAAAAIQQWnZ7H6EIAAAACDG07PYuQhEAAAAQgmjZ7T2EIgAAACCE0ZnuwhGKAAAAgBBHMLowhCIAAAAgDNCyu+sIRQAAAECYoGV31xCKAAAAgDBCy27PEYoAAACAMEPLbs8QigAAAIAwRMvuziMUAQAAAGGMznQdIxQBAAAAYY5g1D5CEQAAAGACmZnSwmJadrtDKAIAAABMgs507hGKAAAAABMhGLVGKAIAAABMhpbdrghFAAAAgAnRsvtrhCIAAADAxOhMRygCAAAATM8lGJnwPiNCEQAAAICvW3abMBgRigAAAABIMm9nOkIRAAAAACczBiNCEQAAAAAXZmvZTSgCAAAA0IqZWnYTigAAAAC0yQwtuwlFAAAAANoV7i27CUUAAAAAOhTOLbsJRQAAAAA6JVw703UpFBUUFCgpKUnR0dFKSUnRgQMH2hxbVFSk8ePHq3fv3urdu7fS0tLaHQ8AAAAgeIVjMPI4FO3cuVNZWVnKzc3VoUOHlJycrPT0dJ05c8bt+P379+uuu+7SX//6V5WVlSkxMVE//OEP9c9//vOCiwcAAADgf+HWsttiGIbhyQEpKSm64YYbtGnTJkmSw+FQYmKiFi5cqCVLlnR4fFNTk3r37q1NmzZpxowZnfqZdrtdsbGxqqmpUUxMjCflAgAuAJ+/7rW8LwMG1CgigvcFgLnl50uTtKf5piM/sDsciq2o8Orc5NGVooaGBh08eFBpaWlff4OICKWlpamsrKxT3+PcuXP68ssvdckll7Q5pr6+Xna73WUDAAAAEHzCoWW3R6GourpaTU1NiouLc9kfFxcnm83Wqe/x0EMPKSEhwSVYfVteXp5iY2OdW2JioidlAgAAAPCjUG/Z7dfuc2vWrNGOHTv04osvKjo6us1x2dnZqqmpcW6nTp3yY5UAAAAAPBXKLbs9CkV9+vRRZGSkqqqqXPZXVVUpPj6+3WPXrVunNWvW6M9//rOuu+66dsdarVbFxMS4bAAAAACCW6h2pvMoFEVFRWnUqFEqLS117nM4HCotLVVqamqbx61du1arVq1SSUmJRo8e3fVqAQAAAAS1UAxGHi+fy8rKUlFRkbZt26YjR45o3rx5qqur06xZsyRJM2bMUHZ2tnP8f/7nf2r58uXasmWLkpKSZLPZZLPZ9Pnnn3vvLAAApscz9AAgeIRay26PQ1FGRobWrVunFStWaMSIESovL1dJSYmz+UJlZaVOnz7tHP/EE0+ooaFBP/vZz9SvXz/ntm7dOu+dBQDA1HiGHgAEn5ISadBgS0h0pvP4OUWBwHMyACAwQuXz19/P0OM5RQDgGW8+yyjgzykCACDY+OsZegCArgv2lt2EIgBASPPHM/R4qDgAXLhgbtlNKAIAmFpnnqHHQ8UBwDuCtTMdoQgAENL88Qw9HioOAN4TjMGIUAQACGn+eIYeDxUHAO8KtpbdhCIAQMjjGXoAEHqCqWU3oQgAEPJ4hh4AhC6XznQBwnOKAABt4vPXPZ5TBADe53yWUXFx82WkNvjiOUXdvPJdAAAAAOACZGZKEydO0sb8ia0f8tpOSPIGQhEAAACAoNDSgGHy5I0u+ydN3tM6KHkRoQgAAABA0CgpaX1hKD9/kibl5zcvrSsu9vrPpNECAAAAgKCWmSktLP6qGUNamte/P6EIAAAAQNBzPtto7Vqvf29CEQAAAICQUFIijbze4vXvSygCAAAAYGqEIgAAAACmRigCAAAAYGqEIgAAAACmRigCAAAAYGqEIgAAAACmRigCAAAAYGqEIgAAAACmRigCAAAAYGqEIgAAAACmRigCAAAAYGqEIgAAAACmRigCAAAAYGqEIgAAAACmRigCAAAAYGqEIgAAAACmRigCAAAAYGqEIgAAAACmRigCAAAAYGqEIgAAAACmRigCAAAAYGqEIgAAAACmRigCAAAAYGqEIgAAAACmRigCAAAAYGqEIgAAAACmRigCAAAAYGrdAl2AL507J73+uvTZZ5LVKg0dKl19daCrAgDfcziksjLp44+bXycmSmPGSBH8KgwAgFbCMhR9+KG0aZP09NNSba3r1268UVq4UPrZz/jHAYDwc/asVFTU/BlYWen6tSuvbP78mz1biokJSHkAAASlsIsFxcXSsGHN/yD4diCSmn9zmpEh/fSn0hdf+L8+APCV48elkSOlJUtaByJJOnlS+uUvpdGjpY8+8nt5AAAErbAKRX/7m3TbbVJ9vdTY6H5MU1Pzf19+Wbrrrq9fA0Aos9mkm26STp1qXjrnjmE0bydONI+trvZnhQAABK8uhaKCggIlJSUpOjpaKSkpOnDgQLvjn3vuOV1zzTWKjo7W8OHDVVxc3KVi29PUJE2f3vyPAcPoeLzDIb30kvT8814vBQD8bvFiqaqqc7/oaWxsDk/Ll/u+LgAAQoHHoWjnzp3KyspSbm6uDh06pOTkZKWnp+vMmTNux7/55pu66667NHv2bB0+fFhTp07V1KlT9c4771xw8d+0d2/7vyF1JyJC2rjRq2UAgN9VV0s7drR9hdydpiZp61bJbvdZWQAAhAyPQ9GGDRs0Z84czZo1S0OHDlVhYaF69uypLVu2uB3/29/+VhMnTtSvfvUrDRkyRKtWrdL111+vTZs2XXDx3/TEE1JkpGfHOBzSG29IR454tRQA8Ks//rFrS4Hr66Xt271fDwAAocajUNTQ0KCDBw8qLS3t628QEaG0tDSVlZW5PaasrMxlvCSlp6e3OV6S6uvrZbfbXbaO/OMfXb8/6L33unYcAASDd9/tWjfNbt34/AMAQPIwFFVXV6upqUlxcXEu++Pi4mSz2dweY7PZPBovSXl5eYqNjXVuiYmJHdbW0NCJE2jD+fNdPxYAAu38+c7dS/lthkEXTgAApCDtPpedna2amhrndurUqQ6P6d276z/vkku6fiwABNoll0gWS9ePBQDA7DwKRX369FFkZKSqqqpc9ldVVSk+Pt7tMfHx8R6NlySr1aqYmBiXrSO33+75PUWS9J3vSOPHe34cAASLH/3IsyYLLRobpSlTvF8PAAChxqNQFBUVpVGjRqm0tNS5z+FwqLS0VKmpqW6PSU1NdRkvSfv27WtzfFfde69nneek5vX0v/iFdNFFXi0FAPwqLU1KSvLsapHFIg0ZIo0b57OyAAAIGR4vn8vKylJRUZG2bdumI0eOaN68eaqrq9OsWbMkSTNmzFB2drZz/AMPPKCSkhKtX79eR48e1cMPP6y33npLCxYs8N5ZSLriiuaHsXb2ZmOLpfnK0sKFXi0DAPwuIkJatsyz+4oMQ8rJ6fqyOwAAwkk3Tw/IyMjQJ598ohUrVshms2nEiBEqKSlxNlOorKxUxDeSydixY7V9+3bl5ORo6dKlGjRokHbt2qVhw4Z57yy+8uST0vHj0ltvtX/VKCKi+R8Czz4rDRrk9TIAwO9mz5b+3//r/LPXliyRpk3zbU0AAIQKi2F0pWeRf9ntdsXGxqqmpqbD+4vq6qQ5c5ofZBgR4dqmOzKy+XVCgvSHP0g/+IGPCwcAPzIMac0aaeXK5mcQteyTvr4i1KOH9Oij0oMPdu4qkSefv2bS8r4MGFCjiAjeFwDwJ4fDrooK785NQdl97kJ85zvNDyOsqJAWL5YGD5b69JEuu0y65RbppZekykoCEYDwY7FI2dmSzSbl50sjR0pxcVJ8vDRqlLR5c/PXFi1i2RwAAN8UdleKAADew+eve1wpAoDA4UoRAAAAAHgZoQgAEBYKCgqUlJSk6OhopaSk6MCBA+2Of+6553TNNdcoOjpaw4cPV3FxsZ8qBQAEG0IRACDk7dy5U1lZWcrNzdWhQ4eUnJys9PR0nTlzxu34N998U3fddZdmz56tw4cPa+rUqZo6dareeecdP1cOAAgG3FMEAGhTqHz+pqSk6IYbbtCmTZskNT9YPDExUQsXLtSSJUtajc/IyFBdXZ1eeeUV577vfe97GjFihAoLCzv8edxTBACB44t7ijx+TlEgtOQ2u90e4EoAwFxaPneD+fdnDQ0NOnjwoMuDwyMiIpSWlqaysjK3x5SVlSkrK8tlX3p6unbt2uV2fH19vepb+pxLqqmpkdQ8MQMA/Kvls9ebc1NIhKLa2lpJUmJiYoArAQBzqq2tVWxsbKDLcKu6ulpNTU3Oh4i3iIuL09GjR90eY7PZ3I632Wxux+fl5emRRx5ptf/kSeYlAAiUTz/91GtzU0iEooSEBJ06dUq9evWSpQsP17Db7UpMTNSpU6eCevmHr3D+nD/nz/l39fwNw1Btba0SEhJ8UF3oyM7OdrmydPbsWV1xxRWqrKwM2rAYKGb/O9cW3pe28d64x/vStpqaGl1++eW65JJLvPY9QyIURURE6LLLLrvg7xMTE2Pq/6k4f86f8+f8uyLY/9Hfp08fRUZGqqqqymV/VVWV4uPj3R4THx/v0Xir1Sqr1dpqf2xsrKn/v2qP2f/OtYX3pW28N+7xvrQtIsJ7PePoPgcACGlRUVEaNWqUSktLnfscDodKS0uVmprq9pjU1FSX8ZK0b9++NscDAMJbSFwpAgCgPVlZWZo5c6ZGjx6tMWPG6PHHH1ddXZ1mzZolSZoxY4b69++vvLw8SdIDDzygCRMmaP369br11lu1Y8cOvfXWW3ryyScDeRoAgAAxRSiyWq3Kzc11u/TBDDh/zp/z5/zD/fwzMjL0ySefaMWKFbLZbBoxYoRKSkqczRQqKytdllmMHTtW27dvV05OjpYuXapBgwZp165dGjZsWKd+nlne167gvXGP96VtvDfu8b60zRfvTUg8pwgAAAAAfIV7igAAAACYGqEIAAAAgKkRigAAAACYGqEIAAAAgKmFTSgqKChQUlKSoqOjlZKSogMHDrQ7/rnnntM111yj6OhoDR8+XMXFxX6q1Dc8Of+ioiKNHz9evXv3Vu/evZWWltbh+xXsPP3zb7Fjxw5ZLBZNnTrVtwX6mKfnf/bsWc2fP1/9+vWT1WrV4MGDQ/rvgKfn//jjj+vqq69Wjx49lJiYqEWLFun8+fN+qta7XnvtNU2ZMkUJCQmyWCzatWtXh8fs379f119/vaxWq6666ipt3brV53WGIrPPK+0x+5zTFrPPRe0x+zzVFjPPX20J2LxmhIEdO3YYUVFRxpYtW4x3333XmDNnjnHxxRcbVVVVbse/8cYbRmRkpLF27VrjvffeM3Jycozu3bsbb7/9tp8r9w5Pz3/atGlGQUGBcfjwYePIkSPG3XffbcTGxhr/93//5+fKvcPT829x4sQJo3///sb48eON2267zT/F+oCn519fX2+MHj3amDx5svH6668bJ06cMPbv32+Ul5f7uXLv8PT8//SnPxlWq9X405/+ZJw4ccLYu3ev0a9fP2PRokV+rtw7iouLjWXLlhkvvPCCIcl48cUX2x1fUVFh9OzZ08jKyjLee+89Y+PGjUZkZKRRUlLin4JDhNnnlfaYfc5pi9nnovaYfZ5qi9nnr7YEal4Li1A0ZswYY/78+c7XTU1NRkJCgpGXl+d2/B133GHceuutLvtSUlKM++67z6d1+oqn5/9tjY2NRq9evYxt27b5qkSf6sr5NzY2GmPHjjWeeuopY+bMmSE9EXl6/k888YQxYMAAo6GhwV8l+pSn5z9//nzj3/7t31z2ZWVlGePGjfNpnf7Qmclj8eLFxrXXXuuyLyMjw0hPT/dhZaHH7PNKe8w+57TF7HNRe8w+T7WF+atj/pzXQn75XENDgw4ePKi0tDTnvoiICKWlpamsrMztMWVlZS7jJSk9Pb3N8cGsK+f/befOndOXX36pSy65xFdl+kxXz3/lypXq27evZs+e7Y8yfaYr5//yyy8rNTVV8+fPV1xcnIYNG6bVq1erqanJX2V7TVfOf+zYsTp48KBziUJFRYWKi4s1efJkv9QcaOH0+ecrZp9X2mP2OactZp+L2mP2eaotzF/e463P327eLCoQqqur1dTU5HxqeYu4uDgdPXrU7TE2m83teJvN5rM6faUr5/9tDz30kBISElr9DxUKunL+r7/+up5++mmVl5f7oULf6sr5V1RU6NVXX9XPf/5zFRcX6/jx47r//vv15ZdfKjc31x9le01Xzn/atGmqrq7WjTfeKMMw1NjYqLlz52rp0qX+KDng2vr8s9vt+uKLL9SjR48AVRY8zD6vtMfsc05bzD4Xtcfs81RbmL+8x1vzWshfKcKFWbNmjXbs2KEXX3xR0dHRgS7H52prazV9+nQVFRWpT58+gS4nIBwOh/r27asnn3xSo0aNUkZGhpYtW6bCwsJAl+YX+/fv1+rVq7V582YdOnRIL7zwgnbv3q1Vq1YFujQg7JltzmkLc1H7zD5PtYX5y7dC/kpRnz59FBkZqaqqKpf9VVVVio+Pd3tMfHy8R+ODWVfOv8W6deu0Zs0a/eUvf9F1113nyzJ9xtPz//DDD3Xy5ElNmTLFuc/hcEiSunXrpvfff18DBw70bdFe1JU//379+ql79+6KjIx07hsyZIhsNpsaGhoUFRXl05q9qSvnv3z5ck2fPl333HOPJGn48OGqq6vTvffeq2XLlikiIrx/V9TW519MTAxXib5i9nmlPWafc9pi9rmoPWafp9rC/OU93prXQv7di4qK0qhRo1RaWurc53A4VFpaqtTUVLfHpKamuoyXpH379rU5Pph15fwlae3atVq1apVKSko0evRof5TqE56e/zXXXKO3335b5eXlzu3HP/6xbr75ZpWXlysxMdGf5V+wrvz5jxs3TsePH3dOwJJ07Ngx9evXL+Qmmq6c/7lz51pNHC0Tb/M9neEtnD7/fMXs80p7zD7ntMXsc1F7zD5PtYX5y3u89vnrUVuGILVjxw7DarUaW7duNd577z3j3nvvNS6++GLDZrMZhmEY06dPN5YsWeIc/8YbbxjdunUz1q1bZxw5csTIzc0N6dapnp7/mjVrjKioKOP55583Tp8+7dxqa2sDdQoXxNPz/7ZQ7/jj6flXVlYavXr1MhYsWGC8//77xiuvvGL07dvXePTRRwN1ChfE0/PPzc01evXqZTzzzDNGRUWF8ec//9kYOHCgcccddwTqFC5IbW2tcfjwYePw4cOGJGPDhg3G4cOHjY8++sgwDMNYsmSJMX36dOf4ltalv/rVr4wjR44YBQUFtOR2w+zzSnvMPue0xexzUXvMPk+1xezzV1sCNa+FRSgyDMPYuHGjcfnllxtRUVHGmDFjjL///e/Or02YMMGYOXOmy/hnn33WGDx4sBEVFWVce+21xu7du/1csXd5cv5XXHGFIanVlpub6//CvcTTP/9vCoeJyNPzf/PNN42UlBTDarUaAwYMMH79618bjY2Nfq7aezw5/y+//NJ4+OGHjYEDBxrR0dFGYmKicf/99xv/+te//F+4F/z1r391+/e55ZxnzpxpTJgwodUxI0aMMKKioowBAwYYv//97/1edygw+7zSHrPPOW0x+1zUHrPPU20x8/zVlkDNaxbDMPH1NgAAAACmF/L3FAEAAADAhSAUAQAAADA1QhEAAAAAUyMUAQAAADA1QhEAAAAAUyMUAQAAADA1QhEAAAAAUyMUAQAAADA1QhEAAAAAUyMUAQAAADA1QhEAAAAAUyMUAQAAADC1/w9o1GQ9GxX8JQAAAABJRU5ErkJggg==\n"
                },
                "metadata": {}
              }
            ],
            "tabbable": null,
            "tooltip": null
          }
        },
        "f502a9c973de4855b3b0fcebfbfd718a": {
          "model_module": "@jupyter-widgets/base",
          "model_name": "LayoutModel",
          "model_module_version": "2.0.0",
          "state": {
            "_model_module": "@jupyter-widgets/base",
            "_model_module_version": "2.0.0",
            "_model_name": "LayoutModel",
            "_view_count": null,
            "_view_module": "@jupyter-widgets/base",
            "_view_module_version": "2.0.0",
            "_view_name": "LayoutView",
            "align_content": null,
            "align_items": null,
            "align_self": null,
            "border_bottom": null,
            "border_left": null,
            "border_right": null,
            "border_top": null,
            "bottom": null,
            "display": null,
            "flex": null,
            "flex_flow": null,
            "grid_area": null,
            "grid_auto_columns": null,
            "grid_auto_flow": null,
            "grid_auto_rows": null,
            "grid_column": null,
            "grid_gap": null,
            "grid_row": null,
            "grid_template_areas": null,
            "grid_template_columns": null,
            "grid_template_rows": null,
            "height": null,
            "justify_content": null,
            "justify_items": null,
            "left": null,
            "margin": null,
            "max_height": null,
            "max_width": null,
            "min_height": null,
            "min_width": null,
            "object_fit": null,
            "object_position": null,
            "order": null,
            "overflow": null,
            "padding": null,
            "right": null,
            "top": null,
            "visibility": null,
            "width": null
          }
        },
        "be158ddabcca47e8a7b6aba1e1b28595": {
          "model_module": "@jupyter-widgets/base",
          "model_name": "LayoutModel",
          "model_module_version": "2.0.0",
          "state": {
            "_model_module": "@jupyter-widgets/base",
            "_model_module_version": "2.0.0",
            "_model_name": "LayoutModel",
            "_view_count": null,
            "_view_module": "@jupyter-widgets/base",
            "_view_module_version": "2.0.0",
            "_view_name": "LayoutView",
            "align_content": null,
            "align_items": null,
            "align_self": null,
            "border_bottom": null,
            "border_left": null,
            "border_right": null,
            "border_top": null,
            "bottom": null,
            "display": null,
            "flex": null,
            "flex_flow": null,
            "grid_area": null,
            "grid_auto_columns": null,
            "grid_auto_flow": null,
            "grid_auto_rows": null,
            "grid_column": null,
            "grid_gap": null,
            "grid_row": null,
            "grid_template_areas": null,
            "grid_template_columns": null,
            "grid_template_rows": null,
            "height": null,
            "justify_content": null,
            "justify_items": null,
            "left": null,
            "margin": null,
            "max_height": null,
            "max_width": null,
            "min_height": null,
            "min_width": null,
            "object_fit": null,
            "object_position": null,
            "order": null,
            "overflow": null,
            "padding": null,
            "right": null,
            "top": null,
            "visibility": null,
            "width": null
          }
        },
        "901e9b77fe5348d8bafe5e5750057923": {
          "model_module": "@jupyter-widgets/controls",
          "model_name": "SliderStyleModel",
          "model_module_version": "2.0.0",
          "state": {
            "_model_module": "@jupyter-widgets/controls",
            "_model_module_version": "2.0.0",
            "_model_name": "SliderStyleModel",
            "_view_count": null,
            "_view_module": "@jupyter-widgets/base",
            "_view_module_version": "2.0.0",
            "_view_name": "StyleView",
            "description_width": "",
            "handle_color": null
          }
        },
        "ee516a906acd4122b88de1e428140e15": {
          "model_module": "@jupyter-widgets/base",
          "model_name": "LayoutModel",
          "model_module_version": "2.0.0",
          "state": {
            "_model_module": "@jupyter-widgets/base",
            "_model_module_version": "2.0.0",
            "_model_name": "LayoutModel",
            "_view_count": null,
            "_view_module": "@jupyter-widgets/base",
            "_view_module_version": "2.0.0",
            "_view_name": "LayoutView",
            "align_content": null,
            "align_items": null,
            "align_self": null,
            "border_bottom": null,
            "border_left": null,
            "border_right": null,
            "border_top": null,
            "bottom": null,
            "display": null,
            "flex": null,
            "flex_flow": null,
            "grid_area": null,
            "grid_auto_columns": null,
            "grid_auto_flow": null,
            "grid_auto_rows": null,
            "grid_column": null,
            "grid_gap": null,
            "grid_row": null,
            "grid_template_areas": null,
            "grid_template_columns": null,
            "grid_template_rows": null,
            "height": null,
            "justify_content": null,
            "justify_items": null,
            "left": null,
            "margin": null,
            "max_height": null,
            "max_width": null,
            "min_height": null,
            "min_width": null,
            "object_fit": null,
            "object_position": null,
            "order": null,
            "overflow": null,
            "padding": null,
            "right": null,
            "top": null,
            "visibility": null,
            "width": null
          }
        },
        "5f4e9a4117d2415491bd09398a55afdd": {
          "model_module": "@jupyter-widgets/controls",
          "model_name": "SliderStyleModel",
          "model_module_version": "2.0.0",
          "state": {
            "_model_module": "@jupyter-widgets/controls",
            "_model_module_version": "2.0.0",
            "_model_name": "SliderStyleModel",
            "_view_count": null,
            "_view_module": "@jupyter-widgets/base",
            "_view_module_version": "2.0.0",
            "_view_name": "StyleView",
            "description_width": "",
            "handle_color": null
          }
        },
        "801bfde76a4b4756b08862b474da2000": {
          "model_module": "@jupyter-widgets/base",
          "model_name": "LayoutModel",
          "model_module_version": "2.0.0",
          "state": {
            "_model_module": "@jupyter-widgets/base",
            "_model_module_version": "2.0.0",
            "_model_name": "LayoutModel",
            "_view_count": null,
            "_view_module": "@jupyter-widgets/base",
            "_view_module_version": "2.0.0",
            "_view_name": "LayoutView",
            "align_content": null,
            "align_items": null,
            "align_self": null,
            "border_bottom": null,
            "border_left": null,
            "border_right": null,
            "border_top": null,
            "bottom": null,
            "display": null,
            "flex": null,
            "flex_flow": null,
            "grid_area": null,
            "grid_auto_columns": null,
            "grid_auto_flow": null,
            "grid_auto_rows": null,
            "grid_column": null,
            "grid_gap": null,
            "grid_row": null,
            "grid_template_areas": null,
            "grid_template_columns": null,
            "grid_template_rows": null,
            "height": null,
            "justify_content": null,
            "justify_items": null,
            "left": null,
            "margin": null,
            "max_height": null,
            "max_width": null,
            "min_height": null,
            "min_width": null,
            "object_fit": null,
            "object_position": null,
            "order": null,
            "overflow": null,
            "padding": null,
            "right": null,
            "top": null,
            "visibility": null,
            "width": null
          }
        },
        "24bcda6690134d1488d40f274dac14bf": {
          "model_module": "@jupyter-widgets/controls",
          "model_name": "SliderStyleModel",
          "model_module_version": "2.0.0",
          "state": {
            "_model_module": "@jupyter-widgets/controls",
            "_model_module_version": "2.0.0",
            "_model_name": "SliderStyleModel",
            "_view_count": null,
            "_view_module": "@jupyter-widgets/base",
            "_view_module_version": "2.0.0",
            "_view_name": "StyleView",
            "description_width": "",
            "handle_color": null
          }
        },
        "2ad67f68a178444890a40ac97e951994": {
          "model_module": "@jupyter-widgets/base",
          "model_name": "LayoutModel",
          "model_module_version": "2.0.0",
          "state": {
            "_model_module": "@jupyter-widgets/base",
            "_model_module_version": "2.0.0",
            "_model_name": "LayoutModel",
            "_view_count": null,
            "_view_module": "@jupyter-widgets/base",
            "_view_module_version": "2.0.0",
            "_view_name": "LayoutView",
            "align_content": null,
            "align_items": null,
            "align_self": null,
            "border_bottom": null,
            "border_left": null,
            "border_right": null,
            "border_top": null,
            "bottom": null,
            "display": null,
            "flex": null,
            "flex_flow": null,
            "grid_area": null,
            "grid_auto_columns": null,
            "grid_auto_flow": null,
            "grid_auto_rows": null,
            "grid_column": null,
            "grid_gap": null,
            "grid_row": null,
            "grid_template_areas": null,
            "grid_template_columns": null,
            "grid_template_rows": null,
            "height": null,
            "justify_content": null,
            "justify_items": null,
            "left": null,
            "margin": null,
            "max_height": null,
            "max_width": null,
            "min_height": null,
            "min_width": null,
            "object_fit": null,
            "object_position": null,
            "order": null,
            "overflow": null,
            "padding": null,
            "right": null,
            "top": null,
            "visibility": null,
            "width": null
          }
        },
        "1d9f34f9f63d4b59a6ca13e297319be6": {
          "model_module": "@jupyter-widgets/controls",
          "model_name": "VBoxModel",
          "model_module_version": "2.0.0",
          "state": {
            "_dom_classes": [
              "widget-interact"
            ],
            "_model_module": "@jupyter-widgets/controls",
            "_model_module_version": "2.0.0",
            "_model_name": "VBoxModel",
            "_view_count": null,
            "_view_module": "@jupyter-widgets/controls",
            "_view_module_version": "2.0.0",
            "_view_name": "VBoxView",
            "box_style": "",
            "children": [
              "IPY_MODEL_affc4be68bf84153aab2141bdeb34158",
              "IPY_MODEL_e57f040bf1064bc7bdb112cb35b0d0c4",
              "IPY_MODEL_bce750ae6c464f20a1a784aea6f77b97",
              "IPY_MODEL_2423f1488cae4f839e59deb4eccd5664"
            ],
            "layout": "IPY_MODEL_83b9b934d2f74779a20a86867c8b0c53",
            "tabbable": null,
            "tooltip": null
          }
        },
        "affc4be68bf84153aab2141bdeb34158": {
          "model_module": "@jupyter-widgets/controls",
          "model_name": "FloatSliderModel",
          "model_module_version": "2.0.0",
          "state": {
            "_dom_classes": [],
            "_model_module": "@jupyter-widgets/controls",
            "_model_module_version": "2.0.0",
            "_model_name": "FloatSliderModel",
            "_view_count": null,
            "_view_module": "@jupyter-widgets/controls",
            "_view_module_version": "2.0.0",
            "_view_name": "FloatSliderView",
            "behavior": "drag-tap",
            "continuous_update": true,
            "description": "w1",
            "description_allow_html": false,
            "disabled": false,
            "layout": "IPY_MODEL_bc95be5b4f3e43bba557d7c6c00f79e5",
            "max": 1,
            "min": -1,
            "orientation": "horizontal",
            "readout": true,
            "readout_format": ".2f",
            "step": 0.01,
            "style": "IPY_MODEL_f3c892dac32342b9a90b36ef82443c3e",
            "tabbable": null,
            "tooltip": null,
            "value": 0.68
          }
        },
        "e57f040bf1064bc7bdb112cb35b0d0c4": {
          "model_module": "@jupyter-widgets/controls",
          "model_name": "FloatSliderModel",
          "model_module_version": "2.0.0",
          "state": {
            "_dom_classes": [],
            "_model_module": "@jupyter-widgets/controls",
            "_model_module_version": "2.0.0",
            "_model_name": "FloatSliderModel",
            "_view_count": null,
            "_view_module": "@jupyter-widgets/controls",
            "_view_module_version": "2.0.0",
            "_view_name": "FloatSliderView",
            "behavior": "drag-tap",
            "continuous_update": true,
            "description": "w2",
            "description_allow_html": false,
            "disabled": false,
            "layout": "IPY_MODEL_fd94fa5765f64d6b8eed12b32db79212",
            "max": 1,
            "min": -1,
            "orientation": "horizontal",
            "readout": true,
            "readout_format": ".2f",
            "step": 0.01,
            "style": "IPY_MODEL_b2142ec02f1f4efb825775a602ab1051",
            "tabbable": null,
            "tooltip": null,
            "value": 0.74
          }
        },
        "bce750ae6c464f20a1a784aea6f77b97": {
          "model_module": "@jupyter-widgets/controls",
          "model_name": "FloatSliderModel",
          "model_module_version": "2.0.0",
          "state": {
            "_dom_classes": [],
            "_model_module": "@jupyter-widgets/controls",
            "_model_module_version": "2.0.0",
            "_model_name": "FloatSliderModel",
            "_view_count": null,
            "_view_module": "@jupyter-widgets/controls",
            "_view_module_version": "2.0.0",
            "_view_name": "FloatSliderView",
            "behavior": "drag-tap",
            "continuous_update": true,
            "description": "b",
            "description_allow_html": false,
            "disabled": false,
            "layout": "IPY_MODEL_7fb73c0a8531425d8ed974499124cc52",
            "max": 1.5,
            "min": -1.5,
            "orientation": "horizontal",
            "readout": true,
            "readout_format": ".2f",
            "step": 0.01,
            "style": "IPY_MODEL_79e39a32bb194340ac055aae94c92c82",
            "tabbable": null,
            "tooltip": null,
            "value": -0.56
          }
        },
        "2423f1488cae4f839e59deb4eccd5664": {
          "model_module": "@jupyter-widgets/output",
          "model_name": "OutputModel",
          "model_module_version": "1.0.0",
          "state": {
            "_dom_classes": [],
            "_model_module": "@jupyter-widgets/output",
            "_model_module_version": "1.0.0",
            "_model_name": "OutputModel",
            "_view_count": null,
            "_view_module": "@jupyter-widgets/output",
            "_view_module_version": "1.0.0",
            "_view_name": "OutputView",
            "layout": "IPY_MODEL_fe35f3eee881428f961954dad42c877c",
            "msg_id": "",
            "outputs": [
              {
                "output_type": "stream",
                "name": "stdout",
                "text": [
                  "[-0.56  0.18  0.12  0.86] => [0 1 1 1]\n",
                  "Loss: 0.0\n"
                ]
              },
              {
                "output_type": "display_data",
                "data": {
                  "text/plain": "<Figure size 1000x400 with 2 Axes>",
                  "image/png": "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\n"
                },
                "metadata": {}
              }
            ],
            "tabbable": null,
            "tooltip": null
          }
        },
        "83b9b934d2f74779a20a86867c8b0c53": {
          "model_module": "@jupyter-widgets/base",
          "model_name": "LayoutModel",
          "model_module_version": "2.0.0",
          "state": {
            "_model_module": "@jupyter-widgets/base",
            "_model_module_version": "2.0.0",
            "_model_name": "LayoutModel",
            "_view_count": null,
            "_view_module": "@jupyter-widgets/base",
            "_view_module_version": "2.0.0",
            "_view_name": "LayoutView",
            "align_content": null,
            "align_items": null,
            "align_self": null,
            "border_bottom": null,
            "border_left": null,
            "border_right": null,
            "border_top": null,
            "bottom": null,
            "display": null,
            "flex": null,
            "flex_flow": null,
            "grid_area": null,
            "grid_auto_columns": null,
            "grid_auto_flow": null,
            "grid_auto_rows": null,
            "grid_column": null,
            "grid_gap": null,
            "grid_row": null,
            "grid_template_areas": null,
            "grid_template_columns": null,
            "grid_template_rows": null,
            "height": null,
            "justify_content": null,
            "justify_items": null,
            "left": null,
            "margin": null,
            "max_height": null,
            "max_width": null,
            "min_height": null,
            "min_width": null,
            "object_fit": null,
            "object_position": null,
            "order": null,
            "overflow": null,
            "padding": null,
            "right": null,
            "top": null,
            "visibility": null,
            "width": null
          }
        },
        "bc95be5b4f3e43bba557d7c6c00f79e5": {
          "model_module": "@jupyter-widgets/base",
          "model_name": "LayoutModel",
          "model_module_version": "2.0.0",
          "state": {
            "_model_module": "@jupyter-widgets/base",
            "_model_module_version": "2.0.0",
            "_model_name": "LayoutModel",
            "_view_count": null,
            "_view_module": "@jupyter-widgets/base",
            "_view_module_version": "2.0.0",
            "_view_name": "LayoutView",
            "align_content": null,
            "align_items": null,
            "align_self": null,
            "border_bottom": null,
            "border_left": null,
            "border_right": null,
            "border_top": null,
            "bottom": null,
            "display": null,
            "flex": null,
            "flex_flow": null,
            "grid_area": null,
            "grid_auto_columns": null,
            "grid_auto_flow": null,
            "grid_auto_rows": null,
            "grid_column": null,
            "grid_gap": null,
            "grid_row": null,
            "grid_template_areas": null,
            "grid_template_columns": null,
            "grid_template_rows": null,
            "height": null,
            "justify_content": null,
            "justify_items": null,
            "left": null,
            "margin": null,
            "max_height": null,
            "max_width": null,
            "min_height": null,
            "min_width": null,
            "object_fit": null,
            "object_position": null,
            "order": null,
            "overflow": null,
            "padding": null,
            "right": null,
            "top": null,
            "visibility": null,
            "width": null
          }
        },
        "f3c892dac32342b9a90b36ef82443c3e": {
          "model_module": "@jupyter-widgets/controls",
          "model_name": "SliderStyleModel",
          "model_module_version": "2.0.0",
          "state": {
            "_model_module": "@jupyter-widgets/controls",
            "_model_module_version": "2.0.0",
            "_model_name": "SliderStyleModel",
            "_view_count": null,
            "_view_module": "@jupyter-widgets/base",
            "_view_module_version": "2.0.0",
            "_view_name": "StyleView",
            "description_width": "",
            "handle_color": null
          }
        },
        "fd94fa5765f64d6b8eed12b32db79212": {
          "model_module": "@jupyter-widgets/base",
          "model_name": "LayoutModel",
          "model_module_version": "2.0.0",
          "state": {
            "_model_module": "@jupyter-widgets/base",
            "_model_module_version": "2.0.0",
            "_model_name": "LayoutModel",
            "_view_count": null,
            "_view_module": "@jupyter-widgets/base",
            "_view_module_version": "2.0.0",
            "_view_name": "LayoutView",
            "align_content": null,
            "align_items": null,
            "align_self": null,
            "border_bottom": null,
            "border_left": null,
            "border_right": null,
            "border_top": null,
            "bottom": null,
            "display": null,
            "flex": null,
            "flex_flow": null,
            "grid_area": null,
            "grid_auto_columns": null,
            "grid_auto_flow": null,
            "grid_auto_rows": null,
            "grid_column": null,
            "grid_gap": null,
            "grid_row": null,
            "grid_template_areas": null,
            "grid_template_columns": null,
            "grid_template_rows": null,
            "height": null,
            "justify_content": null,
            "justify_items": null,
            "left": null,
            "margin": null,
            "max_height": null,
            "max_width": null,
            "min_height": null,
            "min_width": null,
            "object_fit": null,
            "object_position": null,
            "order": null,
            "overflow": null,
            "padding": null,
            "right": null,
            "top": null,
            "visibility": null,
            "width": null
          }
        },
        "b2142ec02f1f4efb825775a602ab1051": {
          "model_module": "@jupyter-widgets/controls",
          "model_name": "SliderStyleModel",
          "model_module_version": "2.0.0",
          "state": {
            "_model_module": "@jupyter-widgets/controls",
            "_model_module_version": "2.0.0",
            "_model_name": "SliderStyleModel",
            "_view_count": null,
            "_view_module": "@jupyter-widgets/base",
            "_view_module_version": "2.0.0",
            "_view_name": "StyleView",
            "description_width": "",
            "handle_color": null
          }
        },
        "7fb73c0a8531425d8ed974499124cc52": {
          "model_module": "@jupyter-widgets/base",
          "model_name": "LayoutModel",
          "model_module_version": "2.0.0",
          "state": {
            "_model_module": "@jupyter-widgets/base",
            "_model_module_version": "2.0.0",
            "_model_name": "LayoutModel",
            "_view_count": null,
            "_view_module": "@jupyter-widgets/base",
            "_view_module_version": "2.0.0",
            "_view_name": "LayoutView",
            "align_content": null,
            "align_items": null,
            "align_self": null,
            "border_bottom": null,
            "border_left": null,
            "border_right": null,
            "border_top": null,
            "bottom": null,
            "display": null,
            "flex": null,
            "flex_flow": null,
            "grid_area": null,
            "grid_auto_columns": null,
            "grid_auto_flow": null,
            "grid_auto_rows": null,
            "grid_column": null,
            "grid_gap": null,
            "grid_row": null,
            "grid_template_areas": null,
            "grid_template_columns": null,
            "grid_template_rows": null,
            "height": null,
            "justify_content": null,
            "justify_items": null,
            "left": null,
            "margin": null,
            "max_height": null,
            "max_width": null,
            "min_height": null,
            "min_width": null,
            "object_fit": null,
            "object_position": null,
            "order": null,
            "overflow": null,
            "padding": null,
            "right": null,
            "top": null,
            "visibility": null,
            "width": null
          }
        },
        "79e39a32bb194340ac055aae94c92c82": {
          "model_module": "@jupyter-widgets/controls",
          "model_name": "SliderStyleModel",
          "model_module_version": "2.0.0",
          "state": {
            "_model_module": "@jupyter-widgets/controls",
            "_model_module_version": "2.0.0",
            "_model_name": "SliderStyleModel",
            "_view_count": null,
            "_view_module": "@jupyter-widgets/base",
            "_view_module_version": "2.0.0",
            "_view_name": "StyleView",
            "description_width": "",
            "handle_color": null
          }
        },
        "fe35f3eee881428f961954dad42c877c": {
          "model_module": "@jupyter-widgets/base",
          "model_name": "LayoutModel",
          "model_module_version": "2.0.0",
          "state": {
            "_model_module": "@jupyter-widgets/base",
            "_model_module_version": "2.0.0",
            "_model_name": "LayoutModel",
            "_view_count": null,
            "_view_module": "@jupyter-widgets/base",
            "_view_module_version": "2.0.0",
            "_view_name": "LayoutView",
            "align_content": null,
            "align_items": null,
            "align_self": null,
            "border_bottom": null,
            "border_left": null,
            "border_right": null,
            "border_top": null,
            "bottom": null,
            "display": null,
            "flex": null,
            "flex_flow": null,
            "grid_area": null,
            "grid_auto_columns": null,
            "grid_auto_flow": null,
            "grid_auto_rows": null,
            "grid_column": null,
            "grid_gap": null,
            "grid_row": null,
            "grid_template_areas": null,
            "grid_template_columns": null,
            "grid_template_rows": null,
            "height": null,
            "justify_content": null,
            "justify_items": null,
            "left": null,
            "margin": null,
            "max_height": null,
            "max_width": null,
            "min_height": null,
            "min_width": null,
            "object_fit": null,
            "object_position": null,
            "order": null,
            "overflow": null,
            "padding": null,
            "right": null,
            "top": null,
            "visibility": null,
            "width": null
          }
        }
      }
    },
    "colab": {
      "provenance": [],
      "gpuType": "T4"
    },
    "accelerator": "GPU"
  },
  "nbformat": 4,
  "nbformat_minor": 0
}